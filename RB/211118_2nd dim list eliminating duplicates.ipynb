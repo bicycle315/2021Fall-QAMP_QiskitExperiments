{
 "cells": [
  {
   "cell_type": "markdown",
   "id": "ea7c4880",
   "metadata": {},
   "source": [
    "# Get Qubit Connectivity for RB Experiment\n",
    "### `backend.configuration().coupling_map` returns duplicated values. So i made a function `rb_pair` to eliminate the duplicated one and get the true connectivity for 2qubit gate RB."
   ]
  },
  {
   "cell_type": "code",
   "execution_count": 67,
   "id": "cfac0f82",
   "metadata": {},
   "outputs": [],
   "source": [
    "from qiskit import IBMQ, QuantumCircuit\n",
    "from qiskit.providers.ibmq import RunnerResult"
   ]
  },
  {
   "cell_type": "code",
   "execution_count": 97,
   "id": "929680b1",
   "metadata": {},
   "outputs": [
    {
     "name": "stderr",
     "output_type": "stream",
     "text": [
      "configrc.store_credentials:WARNING:2021-11-18 10:41:07,836: Credentials already present. Set overwrite=True to overwrite.\n",
      "ibmqfactory.load_account:WARNING:2021-11-18 10:41:10,894: Credentials are already in use. The existing account in the session will be replaced.\n"
     ]
    },
    {
     "data": {
      "text/plain": [
       "[<AccountProvider for IBMQ(hub='ibm-q', group='open', project='main')>,\n",
       " <AccountProvider for IBMQ(hub='ibm-q-skku', group='skku', project='squirl')>,\n",
       " <AccountProvider for IBMQ(hub='ibm-q-skku', group='skku', project='skku-graduate')>]"
      ]
     },
     "execution_count": 97,
     "metadata": {},
     "output_type": "execute_result"
    }
   ],
   "source": [
    "from qiskit import IBMQ\n",
    "\n",
    "from qiskit import IBMQ\n",
    "IBMQ.save_account('befca44219528a564b7f4d3f53707de8985c22fb7b8c969ef2728c830de7c612716e76f41fbc0a52d65f63e71a3a2437948befd3042b1ffab4ced07d573192f1')\n",
    "IBMQ.load_account()\n",
    "IBMQ.providers()\n",
    "\n"
   ]
  },
  {
   "cell_type": "code",
   "execution_count": 98,
   "id": "b7acc5d0",
   "metadata": {},
   "outputs": [],
   "source": [
    "provider = IBMQ.providers()[1]\n",
    "backend = provider.backend.ibmq_lima"
   ]
  },
  {
   "cell_type": "code",
   "execution_count": 99,
   "id": "c7b1cbc5",
   "metadata": {},
   "outputs": [
    {
     "name": "stdout",
     "output_type": "stream",
     "text": [
      "This backend is called ibmq_lima, and is on version 1.0.25. It has 5 qubits. It does not support OpenPulse programs. The basis gates supported on this device are ['id', 'rz', 'sx', 'x', 'cx', 'reset'].[[0, 1], [1, 0], [1, 2], [1, 3], [2, 1], [3, 1], [3, 4], [4, 3]] are the list of connected qubits\n"
     ]
    }
   ],
   "source": [
    "# get the basic feautures including qubit number of the backend.\n",
    "config = backend.configuration()\n",
    "\n",
    "print(\"This backend is called {0}, and is on version {1}. It has {2} qubit{3}. It \"\n",
    "      \"{4} OpenPulse programs. The basis gates supported on this device are {5}.{6} are the list of connected qubits\"\n",
    "      \"\".format(config.backend_name,\n",
    "                config.backend_version,\n",
    "                config.n_qubits,\n",
    "                '' if config.n_qubits == 1 else 's',\n",
    "                'supports' if config.open_pulse else 'does not support',\n",
    "                config.basis_gates,\n",
    "                config.coupling_map))"
   ]
  },
  {
   "cell_type": "code",
   "execution_count": 100,
   "id": "7de4041d",
   "metadata": {},
   "outputs": [
    {
     "name": "stdout",
     "output_type": "stream",
     "text": [
      "[[0, 1], [1, 0], [1, 2], [1, 3], [2, 1], [3, 1], [3, 4], [4, 3]]\n"
     ]
    }
   ],
   "source": [
    "coupled_qubit=config.coupling_map\n",
    "print(coupled_qubit)"
   ]
  },
  {
   "cell_type": "code",
   "execution_count": 101,
   "id": "1625cb07",
   "metadata": {},
   "outputs": [
    {
     "name": "stdout",
     "output_type": "stream",
     "text": [
      "[[0, 1], [0, 1], [1, 2], [1, 3], [1, 2], [1, 3], [3, 4], [3, 4]]\n"
     ]
    }
   ],
   "source": [
    "for val in coupled_qubit:\n",
    "    val.sort()\n",
    "print(coupled_qubit)"
   ]
  },
  {
   "cell_type": "code",
   "execution_count": 76,
   "id": "c15f63f6",
   "metadata": {},
   "outputs": [
    {
     "name": "stdout",
     "output_type": "stream",
     "text": [
      "{(0, 1), (1, 2), (1, 3), (3, 4)}\n"
     ]
    }
   ],
   "source": [
    "coupled_qubit_set=set(map(tuple, coupled_qubit))\n",
    "print(coupled_qubit_set)"
   ]
  },
  {
   "cell_type": "code",
   "execution_count": 92,
   "id": "65f660bf",
   "metadata": {},
   "outputs": [
    {
     "name": "stdout",
     "output_type": "stream",
     "text": [
      "[[0, 1], [1, 2], [1, 3], [3, 4]]\n"
     ]
    }
   ],
   "source": [
    "rb_pair=list(map(list, coupled_qubit_set))\n",
    "print(rb_pair)"
   ]
  },
  {
   "cell_type": "code",
   "execution_count": 102,
   "id": "92524d84",
   "metadata": {},
   "outputs": [
    {
     "name": "stdout",
     "output_type": "stream",
     "text": [
      "[[0, 1], [1, 2], [1, 3], [3, 4]]\n"
     ]
    }
   ],
   "source": [
    "coupled_qubit=config.coupling_map\n",
    "def rb_pair(coupled_qubit):\n",
    "    for val in coupled_qubit:\n",
    "        val.sort()\n",
    "    coupled_qubit_set=set(map(tuple, coupled_qubit))\n",
    "    rb_pair=list(map(list, coupled_qubit_set))\n",
    "    print(rb_pair)\n",
    "\n",
    "rb_pair(coupled_qubit)"
   ]
  }
 ],
 "metadata": {
  "kernelspec": {
   "display_name": "Python 3 (ipykernel)",
   "language": "python",
   "name": "python3"
  },
  "language_info": {
   "codemirror_mode": {
    "name": "ipython",
    "version": 3
   },
   "file_extension": ".py",
   "mimetype": "text/x-python",
   "name": "python",
   "nbconvert_exporter": "python",
   "pygments_lexer": "ipython3",
   "version": "3.9.7"
  }
 },
 "nbformat": 4,
 "nbformat_minor": 5
}
