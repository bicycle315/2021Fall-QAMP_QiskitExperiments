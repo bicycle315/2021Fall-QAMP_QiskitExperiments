{
 "cells": [
  {
   "cell_type": "code",
   "execution_count": 1,
   "id": "f93e38ac-9469-474b-8bec-07848647ab3c",
   "metadata": {},
   "outputs": [],
   "source": [
    "import numpy as np\n",
    "\n",
    "# Importing standard Qiskit libraries\n",
    "from qiskit import QuantumCircuit, transpile, Aer, IBMQ\n",
    "from qiskit.tools.jupyter import *\n",
    "from qiskit.visualization import *\n",
    "from ibm_quantum_widgets import *\n",
    "from qiskit.providers.aer import QasmSimulator\n",
    "\n",
    "# Loading your IBM Quantum account(s)\n",
    "provider = IBMQ.load_account()"
   ]
  },
  {
   "cell_type": "code",
   "execution_count": 10,
   "id": "08a24966-9c99-447f-b671-840738982387",
   "metadata": {},
   "outputs": [],
   "source": [
    "import qiskit\n",
    "from qiskit_experiments.library import T2Ramsey\n",
    "from qiskit_experiments.framework import ParallelExperiment"
   ]
  },
  {
   "cell_type": "code",
   "execution_count": 2,
   "id": "5cd60351-765d-4d5d-ba20-83a311c1d42b",
   "metadata": {},
   "outputs": [
    {
     "name": "stderr",
     "output_type": "stream",
     "text": [
      "ibmqfactory.load_account:WARNING:2021-10-06 03:53:44,633: Credentials are already in use. The existing account in the session will be replaced.\n"
     ]
    }
   ],
   "source": [
    "IBMQ.load_account()\n",
    "provider = IBMQ.get_provider(hub='ibm-q', group='open', project='main')\n",
    "backend = provider.get_backend('ibmq_lima')"
   ]
  },
  {
   "cell_type": "code",
   "execution_count": 5,
   "id": "6d2097b1-9529-48d9-8fad-d5b384ee48d9",
   "metadata": {},
   "outputs": [
    {
     "name": "stdout",
     "output_type": "stream",
     "text": [
      "This backend is called ibmq_lima, and is on version 1.0.18. It has 5 qubits. It does not support OpenPulse programs. The basis gates supported on this device are ['id', 'rz', 'sx', 'x', 'cx', 'reset'].\n"
     ]
    }
   ],
   "source": [
    "# get the basic feautures including qubit number of the backend.\n",
    "config = backend.configuration()\n",
    "\n",
    "print(\"This backend is called {0}, and is on version {1}. It has {2} qubit{3}. It \"\n",
    "      \"{4} OpenPulse programs. The basis gates supported on this device are {5}.\"\n",
    "      \"\".format(config.backend_name,\n",
    "                config.backend_version,\n",
    "                config.n_qubits,\n",
    "                '' if config.n_qubits == 1 else 's',\n",
    "                'supports' if config.open_pulse else 'does not support',\n",
    "                config.basis_gates))"
   ]
  },
  {
   "cell_type": "code",
   "execution_count": 53,
   "id": "7dd0fc21-c75e-4026-86c8-38298dcf78c9",
   "metadata": {},
   "outputs": [
    {
     "name": "stdout",
     "output_type": "stream",
     "text": [
      "[<qiskit_experiments.library.characterization.t2ramsey.T2Ramsey object at 0x7f849cf89df0>, <qiskit_experiments.library.characterization.t2ramsey.T2Ramsey object at 0x7f849cf89e50>, <qiskit_experiments.library.characterization.t2ramsey.T2Ramsey object at 0x7f849cf896a0>, <qiskit_experiments.library.characterization.t2ramsey.T2Ramsey object at 0x7f849cf89bb0>, <qiskit_experiments.library.characterization.t2ramsey.T2Ramsey object at 0x7f8425828130>]\n"
     ]
    }
   ],
   "source": [
    "T2_exps=[]\n",
    "delays = list(range(1, 50, 1))\n",
    "\n",
    "for i in range(config.n_qubits):\n",
    "    exp = T2Ramsey(qubit=i,\n",
    "            delays=delays,\n",
    "            unit=\"us\",\n",
    "                  osc_freq=1e5)\n",
    "    exp.set_analysis_options(plot=True)\n",
    "    T2_exps.append(exp)\n",
    "    \n",
    " \n",
    "print(T2_exps)"
   ]
  },
  {
   "cell_type": "code",
   "execution_count": 54,
   "id": "d6b3ea91-1935-4be2-9706-39e12a513f92",
   "metadata": {},
   "outputs": [],
   "source": [
    "parallel_exp = ParallelExperiment(T2_exps)\n",
    "parallel_data = parallel_exp.run(backend).block_for_results()"
   ]
  },
  {
   "cell_type": "code",
   "execution_count": 12,
   "id": "b97cf72b-9007-4287-b6d3-bdd55df086b2",
   "metadata": {},
   "outputs": [
    {
     "name": "stdout",
     "output_type": "stream",
     "text": [
      "     ┌───┐┌──────────────┐┌───────┐ ░ ┌───┐ ░ ┌─┐\n",
      "q_0: ┤ H ├┤ Delay(4[us]) ├┤ Rz(0) ├─░─┤ H ├─░─┤M├\n",
      "     └───┘└──────────────┘└───────┘ ░ └───┘ ░ └╥┘\n",
      "c: 1/══════════════════════════════════════════╩═\n",
      "                                               0 \n"
     ]
    }
   ],
   "source": [
    "print(exp.circuits()[3])"
   ]
  },
  {
   "cell_type": "code",
   "execution_count": 49,
   "id": "09240cb3-21b1-47a7-8369-f1a66ca1fb76",
   "metadata": {},
   "outputs": [
    {
     "name": "stdout",
     "output_type": "stream",
     "text": [
      "DbAnalysisResultV1\n",
      "- name: parallel_experiment\n",
      "- value: 5\n",
      "- extra: <2 items>\n",
      "- device_components: ['Q0', 'Q1', 'Q2', 'Q3', 'Q4']\n",
      "- verified: False\n",
      "\n",
      "extra:\n",
      "{'experiment_types': ['T2Ramsey', 'T2Ramsey', 'T2Ramsey', 'T2Ramsey', 'T2Ramsey'], 'experiment_ids': ['dc3b8dc9-2d6b-41d2-90b7-2a39a87d09f2', '725bf54e-164c-476c-b6f0-824eec7db132', 'd72055cf-e619-4d1e-b7fe-fb49121ab414', '59b328db-9122-4b8f-8aa6-b771613f7c01', '4ef6c05a-6ea3-427b-a146-034824d75c77']}\n"
     ]
    }
   ],
   "source": [
    "# View result data\n",
    "for result in parallel_data.analysis_results():\n",
    "    print(result)\n",
    "    print(\"\\nextra:\")\n",
    "    print(result.extra)"
   ]
  },
  {
   "cell_type": "code",
   "execution_count": 55,
   "id": "255a7bc6-9ed2-4d0b-800d-27f5618422c1",
   "metadata": {},
   "outputs": [
    {
     "name": "stdout",
     "output_type": "stream",
     "text": [
      "Component experiment 0\n"
     ]
    },
    {
     "data": {
      "image/png": "[encoded data removed]",
      "text/plain": [
       "<Figure size 432x288 with 1 Axes>"
      ]
     },
     "metadata": {},
     "output_type": "display_data"
    },
    {
     "name": "stdout",
     "output_type": "stream",
     "text": [
      "DbAnalysisResultV1\n",
      "- name: T2star\n",
      "- value: 2.587763066988959e-06 ± 4.861296393268532e-07 s\n",
      "- χ²: 7.841924707790944\n",
      "- quality: bad\n",
      "- extra: <10 items>\n",
      "- device_components: ['Q0']\n",
      "- verified: False\n",
      "DbAnalysisResultV1\n",
      "- name: Frequency\n",
      "- value: 30330.46275201247 ± 7904.274066964896 Hz\n",
      "- χ²: 7.841924707790944\n",
      "- quality: bad\n",
      "- extra: <10 items>\n",
      "- device_components: ['Q0']\n",
      "- verified: False\n",
      "Component experiment 1\n"
     ]
    },
    {
     "data": {
      "image/png": "[encoded data removed]",
      "text/plain": [
       "<Figure size 432x288 with 1 Axes>"
      ]
     },
     "metadata": {},
     "output_type": "display_data"
    },
    {
     "name": "stdout",
     "output_type": "stream",
     "text": [
      "DbAnalysisResultV1\n",
      "- name: T2star\n",
      "- value: 1.7470931526852868e-06 ± 3.81620844877249e-07 s\n",
      "- χ²: 1.5801497696665117\n",
      "- quality: bad\n",
      "- extra: <10 items>\n",
      "- device_components: ['Q1']\n",
      "- verified: False\n",
      "DbAnalysisResultV1\n",
      "- name: Frequency\n",
      "- value: 87509.40178375931 ± 9363.388112560515 Hz\n",
      "- χ²: 1.5801497696665117\n",
      "- quality: bad\n",
      "- extra: <10 items>\n",
      "- device_components: ['Q1']\n",
      "- verified: False\n",
      "Component experiment 2\n"
     ]
    },
    {
     "data": {
      "image/png": "[encoded data removed]",
      "text/plain": [
       "<Figure size 432x288 with 1 Axes>"
      ]
     },
     "metadata": {},
     "output_type": "display_data"
    },
    {
     "name": "stdout",
     "output_type": "stream",
     "text": [
      "DbAnalysisResultV1\n",
      "- name: T2star\n",
      "- value: 3.0090031275429624e-06 ± 8.674760864900826e-07 s\n",
      "- χ²: 6.307788114318621\n",
      "- quality: bad\n",
      "- extra: <10 items>\n",
      "- device_components: ['Q2']\n",
      "- verified: False\n",
      "DbAnalysisResultV1\n",
      "- name: Frequency\n",
      "- value: 17584.84594797173 ± 15178.10416541737 Hz\n",
      "- χ²: 6.307788114318621\n",
      "- quality: bad\n",
      "- extra: <10 items>\n",
      "- device_components: ['Q2']\n",
      "- verified: False\n",
      "Component experiment 3\n"
     ]
    },
    {
     "data": {
      "image/png": "[encoded data removed]",
      "text/plain": [
       "<Figure size 432x288 with 1 Axes>"
      ]
     },
     "metadata": {},
     "output_type": "display_data"
    },
    {
     "name": "stdout",
     "output_type": "stream",
     "text": [
      "DbAnalysisResultV1\n",
      "- name: T2star\n",
      "- value: 1.391805624459046e-06 ± 5.448009693363144e-07 s\n",
      "- χ²: 0.885194809917762\n",
      "- quality: bad\n",
      "- extra: <10 items>\n",
      "- device_components: ['Q3']\n",
      "- verified: False\n",
      "DbAnalysisResultV1\n",
      "- name: Frequency\n",
      "- value: 122951.77249368827 ± 35984.47441630337 Hz\n",
      "- χ²: 0.885194809917762\n",
      "- quality: bad\n",
      "- extra: <10 items>\n",
      "- device_components: ['Q3']\n",
      "- verified: False\n",
      "Component experiment 4\n"
     ]
    },
    {
     "data": {
      "image/png": "[encoded data removed]",
      "text/plain": [
       "<Figure size 432x288 with 1 Axes>"
      ]
     },
     "metadata": {},
     "output_type": "display_data"
    },
    {
     "name": "stdout",
     "output_type": "stream",
     "text": [
      "DbAnalysisResultV1\n",
      "- name: T2star\n",
      "- value: 7.791409584154377e-06 ± 4.2487118603700023e-07 s\n",
      "- χ²: 1.259199150309948\n",
      "- quality: bad\n",
      "- extra: <10 items>\n",
      "- device_components: ['Q4']\n",
      "- verified: False\n",
      "DbAnalysisResultV1\n",
      "- name: Frequency\n",
      "- value: 19769.341661810067 ± 2884.3416279155476 Hz\n",
      "- χ²: 1.259199150309948\n",
      "- quality: bad\n",
      "- extra: <10 items>\n",
      "- device_components: ['Q4']\n",
      "- verified: False\n"
     ]
    }
   ],
   "source": [
    "# Print sub-experiment data\n",
    "for i in range(parallel_exp.num_experiments):\n",
    "    print(f\"Component experiment {i}\")\n",
    "    sub_data = parallel_data.component_experiment_data(i)\n",
    "    display(sub_data.figure(0))\n",
    "    for result in sub_data.analysis_results():\n",
    "        print(result)\n",
    "        \n"
   ]
  },
  {
   "cell_type": "code",
   "execution_count": null,
   "id": "901f5a13-8c43-4a42-9b91-79c9e062b0be",
   "metadata": {},
   "outputs": [],
   "source": []
  }
 ],
 "metadata": {
  "kernelspec": {
   "display_name": "Qiskit v0.30.1 (ipykernel)",
   "language": "python",
   "name": "python3"
  },
  "language_info": {
   "codemirror_mode": {
    "name": "ipython",
    "version": 3
   },
   "file_extension": ".py",
   "mimetype": "text/x-python",
   "name": "python",
   "nbconvert_exporter": "python",
   "pygments_lexer": "ipython3",
   "version": "3.8.10"
  },
  "widgets": {
   "application/vnd.jupyter.widget-state+json": {
    "state": {
     "002cc22e1eaf4161b568da5dfd51dcf9": {
      "model_module": "@jupyter-widgets/controls",
      "model_module_version": "1.5.0",
      "model_name": "ButtonModel",
      "state": {
       "icon": "close",
       "layout": "IPY_MODEL_332bbdeb272b40dfbdcddef91f46e84e",
       "style": "IPY_MODEL_0069e374dbf745d9b5906efd74a1e241"
      }
     },
     "0069e374dbf745d9b5906efd74a1e241": {
      "model_module": "@jupyter-widgets/controls",
      "model_module_version": "1.5.0",
      "model_name": "ButtonStyleModel",
      "state": {
       "button_color": "white"
      }
     },
     "040bf40660fa4d2c8fba545f90a9f661": {
      "model_module": "@jupyter-widgets/controls",
      "model_module_version": "1.5.0",
      "model_name": "DescriptionStyleModel",
      "state": {
       "description_width": ""
      }
     },
     "04d3e93216f84fa6b4d4562f1b5cfcf8": {
      "model_module": "@jupyter-widgets/controls",
      "model_module_version": "1.5.0",
      "model_name": "HBoxModel",
      "state": {
       "children": [
        "IPY_MODEL_002cc22e1eaf4161b568da5dfd51dcf9",
        "IPY_MODEL_8a1038e88e714ffb8ed269c3613fc0f4",
        "IPY_MODEL_ee3f085e03b54e21a9e5d690f85d601d",
        "IPY_MODEL_e76f26d4dc1c4c59bdd9a45aef2e31f4",
        "IPY_MODEL_dfe48f9043074647b287486d9407884b",
        "IPY_MODEL_cc068f26a24b448fb44cad668618f79a"
       ],
       "layout": "IPY_MODEL_889b23b07f5644f6a34468dc9385f0ff"
      }
     },
     "0619b25ae8c14daebaa7a61950c21f83": {
      "model_module": "@jupyter-widgets/controls",
      "model_module_version": "1.5.0",
      "model_name": "DescriptionStyleModel",
      "state": {
       "description_width": ""
      }
     },
     "0640e4098d734bcb87ba29c2c7b4626d": {
      "model_module": "@jupyter-widgets/controls",
      "model_module_version": "1.5.0",
      "model_name": "HBoxModel",
      "state": {
       "children": [
        "IPY_MODEL_f7a757bbff9b47bd9fd381c178a56c50",
        "IPY_MODEL_095c784501bc48549275c3702db714be",
        "IPY_MODEL_92799cf9b7cf47159c6d0b7de721afe7",
        "IPY_MODEL_1274ec0f05cd4e97b7c6d7841df28377",
        "IPY_MODEL_36edb93d7840415cb15b97b8d1d8edd7"
       ],
       "layout": "IPY_MODEL_fbbbf09ccb114d40b3c82244f33381c9"
      }
     },
     "095c784501bc48549275c3702db714be": {
      "model_module": "@jupyter-widgets/controls",
      "model_module_version": "1.5.0",
      "model_name": "HTMLModel",
      "state": {
       "layout": "IPY_MODEL_3922a7f7c77b413e8d6c03570d9011cd",
       "style": "IPY_MODEL_0619b25ae8c14daebaa7a61950c21f83",
       "value": "<h5>Backend</h5>"
      }
     },
     "0ef521ab4f564613b5ec63ed2157685c": {
      "model_module": "@jupyter-widgets/base",
      "model_module_version": "1.2.0",
      "model_name": "LayoutModel",
      "state": {
       "width": "190px"
      }
     },
     "1274ec0f05cd4e97b7c6d7841df28377": {
      "model_module": "@jupyter-widgets/controls",
      "model_module_version": "1.5.0",
      "model_name": "HTMLModel",
      "state": {
       "layout": "IPY_MODEL_15e190bcdd354996b9cab6767c83211b",
       "style": "IPY_MODEL_543d6846d9674f77a731110f93bc8c96",
       "value": "<h5>Queue</h5>"
      }
     },
     "15e190bcdd354996b9cab6767c83211b": {
      "model_module": "@jupyter-widgets/base",
      "model_module_version": "1.2.0",
      "model_name": "LayoutModel",
      "state": {
       "width": "70px"
      }
     },
     "175c0102b55a453098ea00c1eb65de48": {
      "model_module": "@jupyter-widgets/controls",
      "model_module_version": "1.5.0",
      "model_name": "HTMLModel",
      "state": {
       "layout": "IPY_MODEL_f31a0267c2e94f879d1e1a9544d4d3eb",
       "style": "IPY_MODEL_c6c23deff5a14d6483071b91c75bd82b",
       "value": "<font style='color:#34BC6E'>DONE</font>"
      }
     },
     "1e978bf3072b4c8eb1b599e3fb095585": {
      "model_module": "@jupyter-widgets/base",
      "model_module_version": "1.2.0",
      "model_name": "LayoutModel",
      "state": {
       "width": "95px"
      }
     },
     "253bd933f56d41748ef6ea5a4435a242": {
      "model_module": "@jupyter-widgets/base",
      "model_module_version": "1.2.0",
      "model_name": "LayoutModel",
      "state": {
       "grid_area": "right",
       "padding": "0px 0px 0px 0px",
       "width": "70px"
      }
     },
     "28a811f692b04a0db95da8261e1908bc": {
      "model_module": "@jupyter-widgets/controls",
      "model_module_version": "1.5.0",
      "model_name": "DescriptionStyleModel",
      "state": {
       "description_width": ""
      }
     },
     "2e05158bd20d4576ad9b624df7e5cbe6": {
      "model_module": "@jupyter-widgets/base",
      "model_module_version": "1.2.0",
      "model_name": "LayoutModel",
      "state": {
       "width": "70px"
      }
     },
     "332bbdeb272b40dfbdcddef91f46e84e": {
      "model_module": "@jupyter-widgets/base",
      "model_module_version": "1.2.0",
      "model_name": "LayoutModel",
      "state": {
       "margin": "0px 5px 0px 0px",
       "width": "32px"
      }
     },
     "36edb93d7840415cb15b97b8d1d8edd7": {
      "model_module": "@jupyter-widgets/controls",
      "model_module_version": "1.5.0",
      "model_name": "HTMLModel",
      "state": {
       "layout": "IPY_MODEL_d5168c27800546c882ebb5973ec6b691",
       "style": "IPY_MODEL_67e4276b584a428a954cd7097a3bb29d",
       "value": "<h5>Message</h5>"
      }
     },
     "3922a7f7c77b413e8d6c03570d9011cd": {
      "model_module": "@jupyter-widgets/base",
      "model_module_version": "1.2.0",
      "model_name": "LayoutModel",
      "state": {
       "width": "145px"
      }
     },
     "39fc497245ee4720ba40f46e21a781ef": {
      "model_module": "@jupyter-widgets/base",
      "model_module_version": "1.2.0",
      "model_name": "LayoutModel",
      "state": {
       "max_width": "700px",
       "min_width": "700px"
      }
     },
     "3c4a5d0eb4a0446c965a62df3dc5239d": {
      "model_module": "@jupyter-widgets/controls",
      "model_module_version": "1.5.0",
      "model_name": "HBoxModel",
      "state": {
       "children": [
        "IPY_MODEL_d7b2b0340eda4d64a11229c07bca3999",
        "IPY_MODEL_93d1b36de23e4679b64a76e707a84d23",
        "IPY_MODEL_f1ee011b11e24acfba0a3ebe0d47760b",
        "IPY_MODEL_f6abf0b650a048e29fce296f7ca1a764",
        "IPY_MODEL_e7164884aeed4495b131a5bc815c67bd",
        "IPY_MODEL_a2e069693f494222871c70b5d1d34f2c"
       ],
       "layout": "IPY_MODEL_8921f351b628411391a6da231a305a87"
      }
     },
     "3dad808584c041fcbd78590ef65db7de": {
      "model_module": "@jupyter-widgets/controls",
      "model_module_version": "1.5.0",
      "model_name": "ButtonStyleModel",
      "state": {}
     },
     "3f39b09f8e5349308aca855faa19abda": {
      "model_module": "@jupyter-widgets/base",
      "model_module_version": "1.2.0",
      "model_name": "LayoutModel",
      "state": {
       "width": "190px"
      }
     },
     "3f9aec4582f64daf81d54b5f680301b9": {
      "model_module": "@jupyter-widgets/controls",
      "model_module_version": "1.5.0",
      "model_name": "HTMLModel",
      "state": {
       "layout": "IPY_MODEL_ec5f2a13e97244dfafbd50d7ffa0f594",
       "style": "IPY_MODEL_f6f9ee077d854fe5959440d0fd0034f5",
       "value": "-"
      }
     },
     "4318a17344d841d5af460c5a5c1de84d": {
      "model_module": "@jupyter-widgets/controls",
      "model_module_version": "1.5.0",
      "model_name": "DescriptionStyleModel",
      "state": {
       "description_width": ""
      }
     },
     "45cb4deac26d44d8bea2168be19189e1": {
      "model_module": "@jupyter-widgets/controls",
      "model_module_version": "1.5.0",
      "model_name": "HTMLModel",
      "state": {
       "layout": "IPY_MODEL_f7a7a4ac5f2c429ea3298aced8bdfd0d",
       "style": "IPY_MODEL_4f616edadf754bc08c27900cfd6a4676",
       "value": "ibmq_lima"
      }
     },
     "462515bd46324b5aa753fd3ab449e7da": {
      "model_module": "@jupyter-widgets/controls",
      "model_module_version": "1.5.0",
      "model_name": "DescriptionStyleModel",
      "state": {
       "description_width": ""
      }
     },
     "4643198cab5f4221a878edc89e03566f": {
      "model_module": "@jupyter-widgets/base",
      "model_module_version": "1.2.0",
      "model_name": "LayoutModel",
      "state": {
       "width": "190px"
      }
     },
     "464f41b4b7e24c4ba402ec5155ca30d1": {
      "model_module": "@jupyter-widgets/base",
      "model_module_version": "1.2.0",
      "model_name": "LayoutModel",
      "state": {
       "margin": "0px 5px 0px 0px",
       "width": "32px"
      }
     },
     "46ab631977da44e4933ce60d7d98f6db": {
      "model_module": "@jupyter-widgets/base",
      "model_module_version": "1.2.0",
      "model_name": "LayoutModel",
      "state": {
       "width": "190px"
      }
     },
     "4f616edadf754bc08c27900cfd6a4676": {
      "model_module": "@jupyter-widgets/controls",
      "model_module_version": "1.5.0",
      "model_name": "DescriptionStyleModel",
      "state": {
       "description_width": ""
      }
     },
     "543d6846d9674f77a731110f93bc8c96": {
      "model_module": "@jupyter-widgets/controls",
      "model_module_version": "1.5.0",
      "model_name": "DescriptionStyleModel",
      "state": {
       "description_width": ""
      }
     },
     "58431738a3ab40e98b1f240676a85498": {
      "model_module": "@jupyter-widgets/controls",
      "model_module_version": "1.5.0",
      "model_name": "HBoxModel",
      "state": {
       "children": [
        "IPY_MODEL_9962816c56c04c889fc006094cfa19e4",
        "IPY_MODEL_a73cf888f9254a8fb70e4d1bf153d007",
        "IPY_MODEL_e5bd2a2ec7624f01bb647f5f6e46fbb5",
        "IPY_MODEL_6685359159054c20987dab33b76704d8",
        "IPY_MODEL_3f9aec4582f64daf81d54b5f680301b9",
        "IPY_MODEL_59236910999a4688abae4a25f919b4b7"
       ],
       "layout": "IPY_MODEL_655afaaf825e4d17ba23880a7ae13956"
      }
     },
     "59236910999a4688abae4a25f919b4b7": {
      "model_module": "@jupyter-widgets/controls",
      "model_module_version": "1.5.0",
      "model_name": "HTMLModel",
      "state": {
       "layout": "IPY_MODEL_acfa4428f6684f35966b255e7c285346",
       "style": "IPY_MODEL_cac668d1349b46c0ad17e86255d29b51",
       "value": "job has successfully run"
      }
     },
     "5e0eec2f83bf4de7b9c69b426da5a543": {
      "model_module": "@jupyter-widgets/controls",
      "model_module_version": "1.5.0",
      "model_name": "DescriptionStyleModel",
      "state": {
       "description_width": ""
      }
     },
     "5eb1be4136a7418d9d139bf5bb05a52e": {
      "model_module": "@jupyter-widgets/controls",
      "model_module_version": "1.5.0",
      "model_name": "HTMLModel",
      "state": {
       "layout": "IPY_MODEL_46ab631977da44e4933ce60d7d98f6db",
       "style": "IPY_MODEL_b80f36cffb8548348c633c57a20f7288",
       "value": "615d3a91e49ee0f492d59d7a"
      }
     },
     "655afaaf825e4d17ba23880a7ae13956": {
      "model_module": "@jupyter-widgets/base",
      "model_module_version": "1.2.0",
      "model_name": "LayoutModel",
      "state": {
       "max_width": "700px",
       "min_width": "700px"
      }
     },
     "6685359159054c20987dab33b76704d8": {
      "model_module": "@jupyter-widgets/controls",
      "model_module_version": "1.5.0",
      "model_name": "HTMLModel",
      "state": {
       "layout": "IPY_MODEL_deb79a2ea4614b989bfafeb5d8265db9",
       "style": "IPY_MODEL_a9eb6d51109b48e986149bb29d6603fd",
       "value": "<font style='color:#34BC6E'>DONE</font>"
      }
     },
     "67e4276b584a428a954cd7097a3bb29d": {
      "model_module": "@jupyter-widgets/controls",
      "model_module_version": "1.5.0",
      "model_name": "DescriptionStyleModel",
      "state": {
       "description_width": ""
      }
     },
     "6b73d9ed341844e9b5a67ec55e7cbf1d": {
      "model_module": "@jupyter-widgets/controls",
      "model_module_version": "1.5.0",
      "model_name": "DescriptionStyleModel",
      "state": {
       "description_width": ""
      }
     },
     "6c5db4b14b71488a959172677aaddf2a": {
      "model_module": "@jupyter-widgets/base",
      "model_module_version": "1.2.0",
      "model_name": "LayoutModel",
      "state": {
       "width": "190px"
      }
     },
     "6e717709a633454a867b79350b5176b4": {
      "model_module": "@jupyter-widgets/base",
      "model_module_version": "1.2.0",
      "model_name": "LayoutModel",
      "state": {
       "overflow_x": "scroll"
      }
     },
     "71af5bc7271e4c1f919ac61abcc75974": {
      "model_module": "@jupyter-widgets/base",
      "model_module_version": "1.2.0",
      "model_name": "LayoutModel",
      "state": {
       "margin": "0px 0px 10px 0px"
      }
     },
     "7514331739714f32977e003073b22998": {
      "model_module": "@jupyter-widgets/base",
      "model_module_version": "1.2.0",
      "model_name": "LayoutModel",
      "state": {
       "width": "95px"
      }
     },
     "78f24492466b4a4e8ee72925bc5fe7e6": {
      "model_module": "@jupyter-widgets/controls",
      "model_module_version": "1.5.0",
      "model_name": "HBoxModel",
      "state": {
       "children": [
        "IPY_MODEL_b34ea7cebd8c4412b00510a4849f2153",
        "IPY_MODEL_5eb1be4136a7418d9d139bf5bb05a52e",
        "IPY_MODEL_45cb4deac26d44d8bea2168be19189e1",
        "IPY_MODEL_175c0102b55a453098ea00c1eb65de48",
        "IPY_MODEL_a449b0b9d11a4d398bd2ddf223eff747",
        "IPY_MODEL_cfade794cb8949998b4200051a066d36"
       ],
       "layout": "IPY_MODEL_39fc497245ee4720ba40f46e21a781ef"
      }
     },
     "834ed9537f7e41d6823dbbc10ffcaaa2": {
      "model_module": "@jupyter-widgets/base",
      "model_module_version": "1.2.0",
      "model_name": "LayoutModel",
      "state": {
       "margin": "0px 5px 0px 0px",
       "width": "32px"
      }
     },
     "8851883d5f2a40e78e5096d9ea7556c5": {
      "model_module": "@jupyter-widgets/controls",
      "model_module_version": "1.5.0",
      "model_name": "DescriptionStyleModel",
      "state": {
       "description_width": ""
      }
     },
     "889b23b07f5644f6a34468dc9385f0ff": {
      "model_module": "@jupyter-widgets/base",
      "model_module_version": "1.2.0",
      "model_name": "LayoutModel",
      "state": {
       "max_width": "700px",
       "min_width": "700px"
      }
     },
     "8921f351b628411391a6da231a305a87": {
      "model_module": "@jupyter-widgets/base",
      "model_module_version": "1.2.0",
      "model_name": "LayoutModel",
      "state": {
       "max_width": "700px",
       "min_width": "700px"
      }
     },
     "8a1038e88e714ffb8ed269c3613fc0f4": {
      "model_module": "@jupyter-widgets/controls",
      "model_module_version": "1.5.0",
      "model_name": "HTMLModel",
      "state": {
       "layout": "IPY_MODEL_3f39b09f8e5349308aca855faa19abda",
       "style": "IPY_MODEL_9daeb2dab4b246e6a12182b84933d802",
       "value": "615d3c0dfc7bdfa52143c38b"
      }
     },
     "8bf3ffcbbeca4e7a95e241af4942ca8b": {
      "model_module": "@jupyter-widgets/base",
      "model_module_version": "1.2.0",
      "model_name": "LayoutModel",
      "state": {
       "margin": "0px 5px 0px 0px",
       "width": "32px"
      }
     },
     "92799cf9b7cf47159c6d0b7de721afe7": {
      "model_module": "@jupyter-widgets/controls",
      "model_module_version": "1.5.0",
      "model_name": "HTMLModel",
      "state": {
       "layout": "IPY_MODEL_1e978bf3072b4c8eb1b599e3fb095585",
       "style": "IPY_MODEL_f7954889e81540999778a7c56d8905dc",
       "value": "<h5>Status</h5>"
      }
     },
     "93d1b36de23e4679b64a76e707a84d23": {
      "model_module": "@jupyter-widgets/controls",
      "model_module_version": "1.5.0",
      "model_name": "HTMLModel",
      "state": {
       "layout": "IPY_MODEL_6c5db4b14b71488a959172677aaddf2a",
       "style": "IPY_MODEL_ad7561e9ed634877ad19c249764edfed",
       "value": "615d24b8204a0267ff987359"
      }
     },
     "93dcb54f624646d18fce86191aa828d8": {
      "model_module": "@jupyter-widgets/base",
      "model_module_version": "1.2.0",
      "model_name": "LayoutModel",
      "state": {
       "width": "95px"
      }
     },
     "9962816c56c04c889fc006094cfa19e4": {
      "model_module": "@jupyter-widgets/controls",
      "model_module_version": "1.5.0",
      "model_name": "ButtonModel",
      "state": {
       "icon": "close",
       "layout": "IPY_MODEL_8bf3ffcbbeca4e7a95e241af4942ca8b",
       "style": "IPY_MODEL_c5ddc7b6897f4c5fb9dc7bf474240e92"
      }
     },
     "9daeb2dab4b246e6a12182b84933d802": {
      "model_module": "@jupyter-widgets/controls",
      "model_module_version": "1.5.0",
      "model_name": "DescriptionStyleModel",
      "state": {
       "description_width": ""
      }
     },
     "a2e069693f494222871c70b5d1d34f2c": {
      "model_module": "@jupyter-widgets/controls",
      "model_module_version": "1.5.0",
      "model_name": "HTMLModel",
      "state": {
       "layout": "IPY_MODEL_cecf00be496745fc8045c108976fa9f8",
       "style": "IPY_MODEL_462515bd46324b5aa753fd3ab449e7da",
       "value": "job has successfully run"
      }
     },
     "a449b0b9d11a4d398bd2ddf223eff747": {
      "model_module": "@jupyter-widgets/controls",
      "model_module_version": "1.5.0",
      "model_name": "HTMLModel",
      "state": {
       "layout": "IPY_MODEL_a7989c95d4f748498feccc0ec0c10c4e",
       "style": "IPY_MODEL_6b73d9ed341844e9b5a67ec55e7cbf1d",
       "value": "-"
      }
     },
     "a4d54916ecea4708a84e012c4a3d96c2": {
      "model_module": "@jupyter-widgets/controls",
      "model_module_version": "1.5.0",
      "model_name": "ButtonModel",
      "state": {
       "button_style": "primary",
       "description": "Clear",
       "layout": "IPY_MODEL_253bd933f56d41748ef6ea5a4435a242",
       "style": "IPY_MODEL_3dad808584c041fcbd78590ef65db7de"
      }
     },
     "a73cf888f9254a8fb70e4d1bf153d007": {
      "model_module": "@jupyter-widgets/controls",
      "model_module_version": "1.5.0",
      "model_name": "HTMLModel",
      "state": {
       "layout": "IPY_MODEL_0ef521ab4f564613b5ec63ed2157685c",
       "style": "IPY_MODEL_040bf40660fa4d2c8fba545f90a9f661",
       "value": "615d2169ce0f4fcb63f22ba9"
      }
     },
     "a7989c95d4f748498feccc0ec0c10c4e": {
      "model_module": "@jupyter-widgets/base",
      "model_module_version": "1.2.0",
      "model_name": "LayoutModel",
      "state": {
       "width": "70px"
      }
     },
     "a7e5ae75451a431fa2169d8e970ea457": {
      "model_module": "@jupyter-widgets/base",
      "model_module_version": "1.2.0",
      "model_name": "LayoutModel",
      "state": {
       "width": "145px"
      }
     },
     "a9eb6d51109b48e986149bb29d6603fd": {
      "model_module": "@jupyter-widgets/controls",
      "model_module_version": "1.5.0",
      "model_name": "DescriptionStyleModel",
      "state": {
       "description_width": ""
      }
     },
     "acfa4428f6684f35966b255e7c285346": {
      "model_module": "@jupyter-widgets/base",
      "model_module_version": "1.2.0",
      "model_name": "LayoutModel",
      "state": {
       "overflow_x": "scroll"
      }
     },
     "ad7561e9ed634877ad19c249764edfed": {
      "model_module": "@jupyter-widgets/controls",
      "model_module_version": "1.5.0",
      "model_name": "DescriptionStyleModel",
      "state": {
       "description_width": ""
      }
     },
     "b0923dc6f68847aa90f60fad2436aa93": {
      "model_module": "@jupyter-widgets/controls",
      "model_module_version": "1.5.0",
      "model_name": "DescriptionStyleModel",
      "state": {
       "description_width": ""
      }
     },
     "b34ea7cebd8c4412b00510a4849f2153": {
      "model_module": "@jupyter-widgets/controls",
      "model_module_version": "1.5.0",
      "model_name": "ButtonModel",
      "state": {
       "icon": "close",
       "layout": "IPY_MODEL_464f41b4b7e24c4ba402ec5155ca30d1",
       "style": "IPY_MODEL_b66bd9cdf4884d39a0073af021049faf"
      }
     },
     "b467b20aff0a4716be41763a5adea5e8": {
      "model_module": "@jupyter-widgets/controls",
      "model_module_version": "1.5.0",
      "model_name": "DescriptionStyleModel",
      "state": {
       "description_width": ""
      }
     },
     "b66bd9cdf4884d39a0073af021049faf": {
      "model_module": "@jupyter-widgets/controls",
      "model_module_version": "1.5.0",
      "model_name": "ButtonStyleModel",
      "state": {
       "button_color": "white"
      }
     },
     "b80f36cffb8548348c633c57a20f7288": {
      "model_module": "@jupyter-widgets/controls",
      "model_module_version": "1.5.0",
      "model_name": "DescriptionStyleModel",
      "state": {
       "description_width": ""
      }
     },
     "b9a1b67467dd45d58156aa330100cf91": {
      "model_module": "@jupyter-widgets/base",
      "model_module_version": "1.2.0",
      "model_name": "LayoutModel",
      "state": {
       "grid_template_areas": "\n                                       \". . . . right \"\n                                        ",
       "grid_template_columns": "20% 20% 20% 20% 20%",
       "width": "100%"
      }
     },
     "bd606edeb6f3494b9a98c7ef58fce511": {
      "model_module": "@jupyter-widgets/controls",
      "model_module_version": "1.5.0",
      "model_name": "DescriptionStyleModel",
      "state": {
       "description_width": ""
      }
     },
     "be7e09566fbe498d838fe909d46cc3b4": {
      "model_module": "@jupyter-widgets/base",
      "model_module_version": "1.2.0",
      "model_name": "LayoutModel",
      "state": {
       "width": "145px"
      }
     },
     "c5ddc7b6897f4c5fb9dc7bf474240e92": {
      "model_module": "@jupyter-widgets/controls",
      "model_module_version": "1.5.0",
      "model_name": "ButtonStyleModel",
      "state": {
       "button_color": "white"
      }
     },
     "c6c23deff5a14d6483071b91c75bd82b": {
      "model_module": "@jupyter-widgets/controls",
      "model_module_version": "1.5.0",
      "model_name": "DescriptionStyleModel",
      "state": {
       "description_width": ""
      }
     },
     "c81607da3d26454a9f97bd8f9ae30ae3": {
      "model_module": "@jupyter-widgets/base",
      "model_module_version": "1.2.0",
      "model_name": "LayoutModel",
      "state": {
       "width": "145px"
      }
     },
     "c82abf1234ea49b09f6125d08d6fab36": {
      "model_module": "@jupyter-widgets/base",
      "model_module_version": "1.2.0",
      "model_name": "LayoutModel",
      "state": {
       "overflow_x": "scroll"
      }
     },
     "cac668d1349b46c0ad17e86255d29b51": {
      "model_module": "@jupyter-widgets/controls",
      "model_module_version": "1.5.0",
      "model_name": "DescriptionStyleModel",
      "state": {
       "description_width": ""
      }
     },
     "cc068f26a24b448fb44cad668618f79a": {
      "model_module": "@jupyter-widgets/controls",
      "model_module_version": "1.5.0",
      "model_name": "HTMLModel",
      "state": {
       "layout": "IPY_MODEL_6e717709a633454a867b79350b5176b4",
       "style": "IPY_MODEL_28a811f692b04a0db95da8261e1908bc",
       "value": "job has successfully run"
      }
     },
     "cecf00be496745fc8045c108976fa9f8": {
      "model_module": "@jupyter-widgets/base",
      "model_module_version": "1.2.0",
      "model_name": "LayoutModel",
      "state": {
       "overflow_x": "scroll"
      }
     },
     "cfade794cb8949998b4200051a066d36": {
      "model_module": "@jupyter-widgets/controls",
      "model_module_version": "1.5.0",
      "model_name": "HTMLModel",
      "state": {
       "layout": "IPY_MODEL_c82abf1234ea49b09f6125d08d6fab36",
       "style": "IPY_MODEL_8851883d5f2a40e78e5096d9ea7556c5",
       "value": "job has successfully run"
      }
     },
     "d4b54570f2954a0cb19c256dbca7391c": {
      "model_module": "@jupyter-widgets/base",
      "model_module_version": "1.2.0",
      "model_name": "LayoutModel",
      "state": {
       "width": "70px"
      }
     },
     "d5168c27800546c882ebb5973ec6b691": {
      "model_module": "@jupyter-widgets/base",
      "model_module_version": "1.2.0",
      "model_name": "LayoutModel",
      "state": {}
     },
     "d5f0fda30ee64ce1bc5fc7b531c71eea": {
      "model_module": "@jupyter-widgets/controls",
      "model_module_version": "1.5.0",
      "model_name": "HTMLModel",
      "state": {
       "layout": "IPY_MODEL_71af5bc7271e4c1f919ac61abcc75974",
       "style": "IPY_MODEL_bd606edeb6f3494b9a98c7ef58fce511",
       "value": "<p style='font-family: IBM Plex Sans, Arial, Helvetica, sans-serif; font-size: 20px; font-weight: medium;'>Circuit Properties</p>"
      }
     },
     "d740f3d30d5b42ee955273d549e0d427": {
      "model_module": "@jupyter-widgets/controls",
      "model_module_version": "1.5.0",
      "model_name": "DescriptionStyleModel",
      "state": {
       "description_width": ""
      }
     },
     "d7b2b0340eda4d64a11229c07bca3999": {
      "model_module": "@jupyter-widgets/controls",
      "model_module_version": "1.5.0",
      "model_name": "ButtonModel",
      "state": {
       "icon": "close",
       "layout": "IPY_MODEL_834ed9537f7e41d6823dbbc10ffcaaa2",
       "style": "IPY_MODEL_e540cd1c8db7438f8c5b84bdf6f50ac3"
      }
     },
     "d932c89f8b9a4e9c873fc1d9fe03909f": {
      "model_module": "@jupyter-widgets/controls",
      "model_module_version": "1.5.0",
      "model_name": "DescriptionStyleModel",
      "state": {
       "description_width": ""
      }
     },
     "deb79a2ea4614b989bfafeb5d8265db9": {
      "model_module": "@jupyter-widgets/base",
      "model_module_version": "1.2.0",
      "model_name": "LayoutModel",
      "state": {
       "width": "95px"
      }
     },
     "df964c1fb646406992cb10e990506274": {
      "model_module": "@jupyter-widgets/controls",
      "model_module_version": "1.5.0",
      "model_name": "DescriptionStyleModel",
      "state": {
       "description_width": ""
      }
     },
     "dfe48f9043074647b287486d9407884b": {
      "model_module": "@jupyter-widgets/controls",
      "model_module_version": "1.5.0",
      "model_name": "HTMLModel",
      "state": {
       "layout": "IPY_MODEL_d4b54570f2954a0cb19c256dbca7391c",
       "style": "IPY_MODEL_4318a17344d841d5af460c5a5c1de84d",
       "value": "-"
      }
     },
     "e540cd1c8db7438f8c5b84bdf6f50ac3": {
      "model_module": "@jupyter-widgets/controls",
      "model_module_version": "1.5.0",
      "model_name": "ButtonStyleModel",
      "state": {
       "button_color": "white"
      }
     },
     "e57651e7af1e42eebe8d8c52f50a2de3": {
      "model_module": "@jupyter-widgets/controls",
      "model_module_version": "1.5.0",
      "model_name": "GridBoxModel",
      "state": {
       "children": [
        "IPY_MODEL_a4d54916ecea4708a84e012c4a3d96c2"
       ],
       "layout": "IPY_MODEL_b9a1b67467dd45d58156aa330100cf91"
      }
     },
     "e5bd2a2ec7624f01bb647f5f6e46fbb5": {
      "model_module": "@jupyter-widgets/controls",
      "model_module_version": "1.5.0",
      "model_name": "HTMLModel",
      "state": {
       "layout": "IPY_MODEL_c81607da3d26454a9f97bd8f9ae30ae3",
       "style": "IPY_MODEL_ebcc9490cfdc47889460333f8f2b633a",
       "value": "ibmq_lima"
      }
     },
     "e7164884aeed4495b131a5bc815c67bd": {
      "model_module": "@jupyter-widgets/controls",
      "model_module_version": "1.5.0",
      "model_name": "HTMLModel",
      "state": {
       "layout": "IPY_MODEL_2e05158bd20d4576ad9b624df7e5cbe6",
       "style": "IPY_MODEL_d740f3d30d5b42ee955273d549e0d427",
       "value": "-"
      }
     },
     "e76f26d4dc1c4c59bdd9a45aef2e31f4": {
      "model_module": "@jupyter-widgets/controls",
      "model_module_version": "1.5.0",
      "model_name": "HTMLModel",
      "state": {
       "layout": "IPY_MODEL_93dcb54f624646d18fce86191aa828d8",
       "style": "IPY_MODEL_b467b20aff0a4716be41763a5adea5e8",
       "value": "<font style='color:#34BC6E'>DONE</font>"
      }
     },
     "ebcc9490cfdc47889460333f8f2b633a": {
      "model_module": "@jupyter-widgets/controls",
      "model_module_version": "1.5.0",
      "model_name": "DescriptionStyleModel",
      "state": {
       "description_width": ""
      }
     },
     "ec5f2a13e97244dfafbd50d7ffa0f594": {
      "model_module": "@jupyter-widgets/base",
      "model_module_version": "1.2.0",
      "model_name": "LayoutModel",
      "state": {
       "width": "70px"
      }
     },
     "ee3f085e03b54e21a9e5d690f85d601d": {
      "model_module": "@jupyter-widgets/controls",
      "model_module_version": "1.5.0",
      "model_name": "HTMLModel",
      "state": {
       "layout": "IPY_MODEL_be7e09566fbe498d838fe909d46cc3b4",
       "style": "IPY_MODEL_b0923dc6f68847aa90f60fad2436aa93",
       "value": "ibmq_lima"
      }
     },
     "f1ee011b11e24acfba0a3ebe0d47760b": {
      "model_module": "@jupyter-widgets/controls",
      "model_module_version": "1.5.0",
      "model_name": "HTMLModel",
      "state": {
       "layout": "IPY_MODEL_a7e5ae75451a431fa2169d8e970ea457",
       "style": "IPY_MODEL_df964c1fb646406992cb10e990506274",
       "value": "ibmq_lima"
      }
     },
     "f31a0267c2e94f879d1e1a9544d4d3eb": {
      "model_module": "@jupyter-widgets/base",
      "model_module_version": "1.2.0",
      "model_name": "LayoutModel",
      "state": {
       "width": "95px"
      }
     },
     "f6abf0b650a048e29fce296f7ca1a764": {
      "model_module": "@jupyter-widgets/controls",
      "model_module_version": "1.5.0",
      "model_name": "HTMLModel",
      "state": {
       "layout": "IPY_MODEL_7514331739714f32977e003073b22998",
       "style": "IPY_MODEL_5e0eec2f83bf4de7b9c69b426da5a543",
       "value": "<font style='color:#34BC6E'>DONE</font>"
      }
     },
     "f6f9ee077d854fe5959440d0fd0034f5": {
      "model_module": "@jupyter-widgets/controls",
      "model_module_version": "1.5.0",
      "model_name": "DescriptionStyleModel",
      "state": {
       "description_width": ""
      }
     },
     "f7954889e81540999778a7c56d8905dc": {
      "model_module": "@jupyter-widgets/controls",
      "model_module_version": "1.5.0",
      "model_name": "DescriptionStyleModel",
      "state": {
       "description_width": ""
      }
     },
     "f7a757bbff9b47bd9fd381c178a56c50": {
      "model_module": "@jupyter-widgets/controls",
      "model_module_version": "1.5.0",
      "model_name": "HTMLModel",
      "state": {
       "layout": "IPY_MODEL_4643198cab5f4221a878edc89e03566f",
       "style": "IPY_MODEL_d932c89f8b9a4e9c873fc1d9fe03909f",
       "value": "<h5>Job ID</h5>"
      }
     },
     "f7a7a4ac5f2c429ea3298aced8bdfd0d": {
      "model_module": "@jupyter-widgets/base",
      "model_module_version": "1.2.0",
      "model_name": "LayoutModel",
      "state": {
       "width": "145px"
      }
     },
     "fbbbf09ccb114d40b3c82244f33381c9": {
      "model_module": "@jupyter-widgets/base",
      "model_module_version": "1.2.0",
      "model_name": "LayoutModel",
      "state": {
       "margin": "0px 0px 0px 37px",
       "width": "600px"
      }
     }
    },
    "version_major": 2,
    "version_minor": 0
   }
  }
 },
 "nbformat": 4,
 "nbformat_minor": 5
}
