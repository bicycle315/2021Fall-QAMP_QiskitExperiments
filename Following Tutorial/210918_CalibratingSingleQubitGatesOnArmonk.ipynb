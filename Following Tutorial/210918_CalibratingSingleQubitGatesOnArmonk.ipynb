{
 "cells": [
  {
   "cell_type": "code",
   "execution_count": 4,
   "id": "9782047e-ea7e-4402-88b6-28c532737adf",
   "metadata": {},
   "outputs": [],
   "source": [
    "import numpy as np\n",
    "\n",
    "# Importing standard Qiskit libraries\n",
    "from qiskit import QuantumCircuit, transpile, Aer, IBMQ\n",
    "from qiskit.tools.jupyter import *\n",
    "from qiskit.visualization import *\n",
    "from ibm_quantum_widgets import *\n",
    "from qiskit.providers.aer import QasmSimulator\n",
    "\n",
    "# Loading your IBM Quantum account(s)\n",
    "provider = IBMQ.load_account()"
   ]
  },
  {
   "cell_type": "code",
   "execution_count": 5,
   "id": "5fd6fd38-38c4-48ca-a93a-1be2072b02e2",
   "metadata": {},
   "outputs": [],
   "source": [
    "import numpy as np\n",
    "\n",
    "import qiskit.pulse as pulse\n",
    "from qiskit.circuit import Parameter\n",
    "\n",
    "from qiskit_experiments.calibration_management.backend_calibrations import BackendCalibrations\n",
    "\n",
    "from qiskit import IBMQ, schedule"
   ]
  },
  {
   "cell_type": "code",
   "execution_count": 6,
   "id": "59e67856-b337-42cf-819c-3d12beef4597",
   "metadata": {},
   "outputs": [
    {
     "name": "stderr",
     "output_type": "stream",
     "text": [
      "ibmqfactory.load_account:WARNING:2021-09-18 06:24:17,055: Credentials are already in use. The existing account in the session will be replaced.\n"
     ]
    }
   ],
   "source": [
    "IBMQ.load_account()\n",
    "provider = IBMQ.get_provider(hub='ibm-q', group='open', project='main')\n",
    "backend = provider.get_backend('ibmq_armonk')"
   ]
  },
  {
   "cell_type": "code",
   "execution_count": 7,
   "id": "b6997bda-d9aa-4cea-93e7-a4260e842e5f",
   "metadata": {},
   "outputs": [],
   "source": [
    "qubit = 0  # The qubit we will work with"
   ]
  },
  {
   "cell_type": "code",
   "execution_count": 8,
   "id": "22c25f12-709b-4d9f-93b1-83d8c4b19444",
   "metadata": {},
   "outputs": [],
   "source": [
    "def setup_cals(backend) -> BackendCalibrations:\n",
    "    \"\"\"A function to instantiate calibrations and add a couple of template schedules.\"\"\"\n",
    "    cals = BackendCalibrations(backend)\n",
    "\n",
    "    dur = Parameter(\"dur\")\n",
    "    amp = Parameter(\"amp\")\n",
    "    sigma = Parameter(\"σ\")\n",
    "    beta = Parameter(\"β\")\n",
    "    drive = pulse.DriveChannel(Parameter(\"ch0\"))\n",
    "\n",
    "    # Define and add template schedules.\n",
    "    with pulse.build(name=\"xp\") as xp:\n",
    "        pulse.play(pulse.Drag(dur, amp, sigma, beta), drive)\n",
    "\n",
    "    with pulse.build(name=\"xm\") as xm:\n",
    "        pulse.play(pulse.Drag(dur, -amp, sigma, beta), drive)\n",
    "\n",
    "    with pulse.build(name=\"x90p\") as x90p:\n",
    "        pulse.play(pulse.Drag(dur, Parameter(\"amp\"), sigma, Parameter(\"β\")), drive)\n",
    "\n",
    "    cals.add_schedule(xp)\n",
    "    cals.add_schedule(xm)\n",
    "    cals.add_schedule(x90p)\n",
    "\n",
    "    return cals\n",
    "\n",
    "def add_parameter_guesses(cals: BackendCalibrations):\n",
    "    \"\"\"Add guesses for the parameter values to the calibrations.\"\"\"\n",
    "    for sched in [\"xp\", \"x90p\"]:\n",
    "        cals.add_parameter_value(80, \"σ\", schedule=sched)\n",
    "        cals.add_parameter_value(0.5, \"β\", schedule=sched)\n",
    "        cals.add_parameter_value(320, \"dur\", schedule=sched)\n",
    "        cals.add_parameter_value(0.5, \"amp\", schedule=sched)"
   ]
  },
  {
   "cell_type": "code",
   "execution_count": 9,
   "id": "2886f342-efbd-43a5-a2b7-d9f24c3d2e80",
   "metadata": {},
   "outputs": [],
   "source": [
    "cals = setup_cals(backend)\n",
    "add_parameter_guesses(cals)"
   ]
  },
  {
   "cell_type": "code",
   "execution_count": 10,
   "id": "575a62ee-151b-4921-8eec-9136792f4bcb",
   "metadata": {},
   "outputs": [],
   "source": [
    "from qiskit_experiments.calibration_management.basis_gate_library import FixedFrequencyTransmon"
   ]
  },
  {
   "cell_type": "code",
   "execution_count": 11,
   "id": "bfd424f4-2b1b-4527-b732-9f2f2e3f0b6d",
   "metadata": {},
   "outputs": [],
   "source": [
    "library = FixedFrequencyTransmon(default_values={\"duration\": 320})\n",
    "cals = BackendCalibrations(backend, library)"
   ]
  },
  {
   "cell_type": "markdown",
   "id": "6cac0923-d5b8-462a-a3cc-65dc7da3e9dc",
   "metadata": {},
   "source": [
    "# 1. Finding qubits with spectroscopy\n",
    "Here, we are using a backend for which we already know the qubit frequency. We will therefore use the spectroscopy experiment to confirm that there is a resonance at the qubit frequency reported by the backend.\n",
    "\n"
   ]
  },
  {
   "cell_type": "code",
   "execution_count": 12,
   "id": "c6ea6d45-c7ba-4bc7-9629-45f5bf627982",
   "metadata": {},
   "outputs": [],
   "source": [
    "from qiskit_experiments.library.characterization.qubit_spectroscopy import QubitSpectroscopy"
   ]
  },
  {
   "cell_type": "code",
   "execution_count": 13,
   "id": "5ea11f11-f135-49d4-8da4-91824ecb6f2d",
   "metadata": {},
   "outputs": [
    {
     "data": {
      "text/html": [
       "<div>\n",
       "<style scoped>\n",
       "    .dataframe tbody tr th:only-of-type {\n",
       "        vertical-align: middle;\n",
       "    }\n",
       "\n",
       "    .dataframe tbody tr th {\n",
       "        vertical-align: top;\n",
       "    }\n",
       "\n",
       "    .dataframe thead th {\n",
       "        text-align: right;\n",
       "    }\n",
       "</style>\n",
       "<table border=\"1\" class=\"dataframe\">\n",
       "  <thead>\n",
       "    <tr style=\"text-align: right;\">\n",
       "      <th></th>\n",
       "      <th>value</th>\n",
       "      <th>date_time</th>\n",
       "      <th>valid</th>\n",
       "      <th>exp_id</th>\n",
       "      <th>group</th>\n",
       "      <th>qubits</th>\n",
       "      <th>parameter</th>\n",
       "      <th>schedule</th>\n",
       "    </tr>\n",
       "  </thead>\n",
       "  <tbody>\n",
       "    <tr>\n",
       "      <th>0</th>\n",
       "      <td>0.000000e+00</td>\n",
       "      <td>2021-09-18 06:24:35.360875+0000</td>\n",
       "      <td>True</td>\n",
       "      <td>None</td>\n",
       "      <td>default</td>\n",
       "      <td>()</td>\n",
       "      <td>β</td>\n",
       "      <td>x</td>\n",
       "    </tr>\n",
       "    <tr>\n",
       "      <th>1</th>\n",
       "      <td>6.993371e+09</td>\n",
       "      <td>2021-09-18 06:24:35.360586+0000</td>\n",
       "      <td>True</td>\n",
       "      <td>None</td>\n",
       "      <td>default</td>\n",
       "      <td>(0,)</td>\n",
       "      <td>meas_lo_freq</td>\n",
       "      <td>None</td>\n",
       "    </tr>\n",
       "    <tr>\n",
       "      <th>2</th>\n",
       "      <td>4.971598e+09</td>\n",
       "      <td>2021-09-18 06:24:35.360561+0000</td>\n",
       "      <td>True</td>\n",
       "      <td>None</td>\n",
       "      <td>default</td>\n",
       "      <td>(0,)</td>\n",
       "      <td>qubit_lo_freq</td>\n",
       "      <td>None</td>\n",
       "    </tr>\n",
       "    <tr>\n",
       "      <th>3</th>\n",
       "      <td>8.000000e+01</td>\n",
       "      <td>2021-09-18 06:24:35.360971+0000</td>\n",
       "      <td>True</td>\n",
       "      <td>None</td>\n",
       "      <td>default</td>\n",
       "      <td>()</td>\n",
       "      <td>σ</td>\n",
       "      <td>sx</td>\n",
       "    </tr>\n",
       "    <tr>\n",
       "      <th>4</th>\n",
       "      <td>8.000000e+01</td>\n",
       "      <td>2021-09-18 06:24:35.360853+0000</td>\n",
       "      <td>True</td>\n",
       "      <td>None</td>\n",
       "      <td>default</td>\n",
       "      <td>()</td>\n",
       "      <td>σ</td>\n",
       "      <td>x</td>\n",
       "    </tr>\n",
       "    <tr>\n",
       "      <th>5</th>\n",
       "      <td>2.500000e-01</td>\n",
       "      <td>2021-09-18 06:24:35.360959+0000</td>\n",
       "      <td>True</td>\n",
       "      <td>None</td>\n",
       "      <td>default</td>\n",
       "      <td>()</td>\n",
       "      <td>amp</td>\n",
       "      <td>sx</td>\n",
       "    </tr>\n",
       "    <tr>\n",
       "      <th>6</th>\n",
       "      <td>5.000000e-01</td>\n",
       "      <td>2021-09-18 06:24:35.360837+0000</td>\n",
       "      <td>True</td>\n",
       "      <td>None</td>\n",
       "      <td>default</td>\n",
       "      <td>()</td>\n",
       "      <td>amp</td>\n",
       "      <td>x</td>\n",
       "    </tr>\n",
       "    <tr>\n",
       "      <th>7</th>\n",
       "      <td>3.200000e+02</td>\n",
       "      <td>2021-09-18 06:24:35.360992+0000</td>\n",
       "      <td>True</td>\n",
       "      <td>None</td>\n",
       "      <td>default</td>\n",
       "      <td>()</td>\n",
       "      <td>duration</td>\n",
       "      <td>sx</td>\n",
       "    </tr>\n",
       "    <tr>\n",
       "      <th>8</th>\n",
       "      <td>0.000000e+00</td>\n",
       "      <td>2021-09-18 06:24:35.360982+0000</td>\n",
       "      <td>True</td>\n",
       "      <td>None</td>\n",
       "      <td>default</td>\n",
       "      <td>()</td>\n",
       "      <td>β</td>\n",
       "      <td>sx</td>\n",
       "    </tr>\n",
       "    <tr>\n",
       "      <th>9</th>\n",
       "      <td>3.200000e+02</td>\n",
       "      <td>2021-09-18 06:24:35.360865+0000</td>\n",
       "      <td>True</td>\n",
       "      <td>None</td>\n",
       "      <td>default</td>\n",
       "      <td>()</td>\n",
       "      <td>duration</td>\n",
       "      <td>x</td>\n",
       "    </tr>\n",
       "  </tbody>\n",
       "</table>\n",
       "</div>"
      ],
      "text/plain": [
       "          value                        date_time  valid exp_id    group  \\\n",
       "0  0.000000e+00  2021-09-18 06:24:35.360875+0000   True   None  default   \n",
       "1  6.993371e+09  2021-09-18 06:24:35.360586+0000   True   None  default   \n",
       "2  4.971598e+09  2021-09-18 06:24:35.360561+0000   True   None  default   \n",
       "3  8.000000e+01  2021-09-18 06:24:35.360971+0000   True   None  default   \n",
       "4  8.000000e+01  2021-09-18 06:24:35.360853+0000   True   None  default   \n",
       "5  2.500000e-01  2021-09-18 06:24:35.360959+0000   True   None  default   \n",
       "6  5.000000e-01  2021-09-18 06:24:35.360837+0000   True   None  default   \n",
       "7  3.200000e+02  2021-09-18 06:24:35.360992+0000   True   None  default   \n",
       "8  0.000000e+00  2021-09-18 06:24:35.360982+0000   True   None  default   \n",
       "9  3.200000e+02  2021-09-18 06:24:35.360865+0000   True   None  default   \n",
       "\n",
       "  qubits      parameter schedule  \n",
       "0     ()              β        x  \n",
       "1   (0,)   meas_lo_freq     None  \n",
       "2   (0,)  qubit_lo_freq     None  \n",
       "3     ()              σ       sx  \n",
       "4     ()              σ        x  \n",
       "5     ()            amp       sx  \n",
       "6     ()            amp        x  \n",
       "7     ()       duration       sx  \n",
       "8     ()              β       sx  \n",
       "9     ()       duration        x  "
      ]
     },
     "execution_count": 13,
     "metadata": {},
     "output_type": "execute_result"
    }
   ],
   "source": [
    "import pandas as pd\n",
    "\n",
    "pd.DataFrame(cals.parameters_table(qubit_list=[qubit, ()]))"
   ]
  },
  {
   "cell_type": "code",
   "execution_count": 14,
   "id": "251a4207-89bb-4193-afbd-8d781b337b14",
   "metadata": {},
   "outputs": [],
   "source": [
    "freq01_estimate = backend.defaults().qubit_freq_est[qubit]\n",
    "frequencies = np.linspace(freq01_estimate -15e6, freq01_estimate + 15e6, 51)\n",
    "spec = QubitSpectroscopy(qubit, frequencies)\n",
    "spec.set_experiment_options(amp=0.1)"
   ]
  },
  {
   "cell_type": "code",
   "execution_count": 15,
   "id": "839c0233-c49e-4b25-bbc4-52375f5d2f03",
   "metadata": {},
   "outputs": [
    {
     "data": {
      "image/png": "[encoded data removed]",
      "text/plain": [
       "<Figure size 452.494x144.48 with 1 Axes>"
      ]
     },
     "execution_count": 15,
     "metadata": {},
     "output_type": "execute_result"
    }
   ],
   "source": [
    "circuit = spec.circuits(backend)[0]\n",
    "circuit.draw(output=\"mpl\")"
   ]
  },
  {
   "cell_type": "code",
   "execution_count": 16,
   "id": "12b6b7f4-b7f5-4a42-879f-b8f422a9900e",
   "metadata": {},
   "outputs": [
    {
     "data": {
      "image/png": "[encoded data removed]",
      "text/plain": [
       "<Figure size 936x237.6 with 1 Axes>"
      ]
     },
     "execution_count": 16,
     "metadata": {},
     "output_type": "execute_result"
    }
   ],
   "source": [
    "schedule(circuit, backend).draw()"
   ]
  },
  {
   "cell_type": "code",
   "execution_count": 17,
   "id": "e07690a7-8401-41a4-88fb-698a01119b70",
   "metadata": {},
   "outputs": [],
   "source": [
    "spec_data = spec.run(backend)"
   ]
  },
  {
   "cell_type": "code",
   "execution_count": 18,
   "id": "e2fa8abe-6d54-47f1-b236-024553c4b951",
   "metadata": {},
   "outputs": [
    {
     "data": {
      "text/plain": [
       "ExperimentData(QubitSpectroscopy, f41aa08e-6973-4579-826e-53e68310ffb6, backend=ibmq_armonk, job_ids=['614586356feb7e62236f83fa'])"
      ]
     },
     "execution_count": 18,
     "metadata": {},
     "output_type": "execute_result"
    }
   ],
   "source": [
    "spec_data.block_for_results()"
   ]
  },
  {
   "cell_type": "code",
   "execution_count": 20,
   "id": "64bcaec6-4740-473a-9102-3a39fb3b03cb",
   "metadata": {},
   "outputs": [
    {
     "data": {
      "image/png": "[encoded data removed]",
      "text/plain": [
       "<Figure size 576x360 with 1 Axes>"
      ]
     },
     "execution_count": 20,
     "metadata": {},
     "output_type": "execute_result"
    }
   ],
   "source": [
    "spec_data.figure(0)"
   ]
  },
  {
   "cell_type": "code",
   "execution_count": 21,
   "id": "ea0cb1a1-a40d-4f7a-a9e5-712686f0630b",
   "metadata": {},
   "outputs": [
    {
     "name": "stdout",
     "output_type": "stream",
     "text": [
      "DbAnalysisResultV1\n",
      "- name: f01\n",
      "- value: 4971613659.252058 ± 48065.19047869252 Hz\n",
      "- χ²: 0.9874882254554365\n",
      "- quality: good\n",
      "- device_components: ['Q0']\n",
      "- verified: False\n"
     ]
    }
   ],
   "source": [
    "print(spec_data.analysis_results(\"f01\"))"
   ]
  },
  {
   "cell_type": "code",
   "execution_count": 22,
   "id": "9c59c058-abf0-47b5-94dd-b22bc843acb5",
   "metadata": {},
   "outputs": [],
   "source": [
    "from qiskit_experiments.calibration_management.update_library import Frequency\n",
    "\n",
    "Frequency.update(cals, spec_data)"
   ]
  },
  {
   "cell_type": "code",
   "execution_count": 23,
   "id": "5590e621-ebb2-431c-91cc-4cf89590cc6a",
   "metadata": {},
   "outputs": [
    {
     "data": {
      "text/html": [
       "<div>\n",
       "<style scoped>\n",
       "    .dataframe tbody tr th:only-of-type {\n",
       "        vertical-align: middle;\n",
       "    }\n",
       "\n",
       "    .dataframe tbody tr th {\n",
       "        vertical-align: top;\n",
       "    }\n",
       "\n",
       "    .dataframe thead th {\n",
       "        text-align: right;\n",
       "    }\n",
       "</style>\n",
       "<table border=\"1\" class=\"dataframe\">\n",
       "  <thead>\n",
       "    <tr style=\"text-align: right;\">\n",
       "      <th></th>\n",
       "      <th>value</th>\n",
       "      <th>date_time</th>\n",
       "      <th>valid</th>\n",
       "      <th>exp_id</th>\n",
       "      <th>group</th>\n",
       "      <th>qubits</th>\n",
       "      <th>parameter</th>\n",
       "      <th>schedule</th>\n",
       "    </tr>\n",
       "  </thead>\n",
       "  <tbody>\n",
       "    <tr>\n",
       "      <th>0</th>\n",
       "      <td>6.993371e+09</td>\n",
       "      <td>2021-09-18 06:24:35.360586+0000</td>\n",
       "      <td>True</td>\n",
       "      <td>None</td>\n",
       "      <td>default</td>\n",
       "      <td>(0,)</td>\n",
       "      <td>meas_lo_freq</td>\n",
       "      <td>None</td>\n",
       "    </tr>\n",
       "    <tr>\n",
       "      <th>1</th>\n",
       "      <td>4.971598e+09</td>\n",
       "      <td>2021-09-18 06:24:35.360561+0000</td>\n",
       "      <td>True</td>\n",
       "      <td>None</td>\n",
       "      <td>default</td>\n",
       "      <td>(0,)</td>\n",
       "      <td>qubit_lo_freq</td>\n",
       "      <td>None</td>\n",
       "    </tr>\n",
       "    <tr>\n",
       "      <th>2</th>\n",
       "      <td>4.971614e+09</td>\n",
       "      <td>2021-09-18 06:36:59.031000+0000</td>\n",
       "      <td>True</td>\n",
       "      <td>f41aa08e-6973-4579-826e-53e68310ffb6</td>\n",
       "      <td>default</td>\n",
       "      <td>(0,)</td>\n",
       "      <td>qubit_lo_freq</td>\n",
       "      <td>None</td>\n",
       "    </tr>\n",
       "  </tbody>\n",
       "</table>\n",
       "</div>"
      ],
      "text/plain": [
       "          value                        date_time  valid  \\\n",
       "0  6.993371e+09  2021-09-18 06:24:35.360586+0000   True   \n",
       "1  4.971598e+09  2021-09-18 06:24:35.360561+0000   True   \n",
       "2  4.971614e+09  2021-09-18 06:36:59.031000+0000   True   \n",
       "\n",
       "                                 exp_id    group qubits      parameter  \\\n",
       "0                                  None  default   (0,)   meas_lo_freq   \n",
       "1                                  None  default   (0,)  qubit_lo_freq   \n",
       "2  f41aa08e-6973-4579-826e-53e68310ffb6  default   (0,)  qubit_lo_freq   \n",
       "\n",
       "  schedule  \n",
       "0     None  \n",
       "1     None  \n",
       "2     None  "
      ]
     },
     "execution_count": 23,
     "metadata": {},
     "output_type": "execute_result"
    }
   ],
   "source": [
    "pd.DataFrame(cals.parameters_table(qubit_list=[qubit]))"
   ]
  },
  {
   "cell_type": "markdown",
   "id": "9a260bfa-7cb0-4752-a6a6-ba8d6bed41cc",
   "metadata": {},
   "source": [
    "# 2. Calibrating the pulse amplitudes with a Rabi experiment¶\n",
    "In the Rabi experiment we apply a pulse at the frequency of the qubit and scan its amplitude to find the amplitude that creates a rotation of a desired angle."
   ]
  },
  {
   "cell_type": "code",
   "execution_count": 25,
   "id": "a17961c0-80e3-4510-9057-0be90d3ded2b",
   "metadata": {},
   "outputs": [],
   "source": [
    "from qiskit_experiments.library.calibration import Rabi\n",
    "from qiskit_experiments.calibration_management.update_library import Amplitude"
   ]
  },
  {
   "cell_type": "code",
   "execution_count": 26,
   "id": "e8254bec-2375-4977-b4ef-d08c688256fb",
   "metadata": {},
   "outputs": [],
   "source": [
    "rabi = Rabi(qubit)\n",
    "rabi.set_experiment_options(\n",
    "    amplitudes=np.linspace(-0.95, 0.95, 51),\n",
    "    schedule=cals.get_schedule(\"x\", (qubit,), assign_params={\"amp\": Parameter(\"amp\")}),\n",
    ")"
   ]
  },
  {
   "cell_type": "code",
   "execution_count": 27,
   "id": "17f24725-cdb5-49c2-b9d7-80876dcce3b8",
   "metadata": {},
   "outputs": [
    {
     "data": {
      "text/plain": [
       "ExperimentData(Rabi, e59fd27b-b74f-4893-9356-0b76bca3f154, backend=ibmq_armonk, job_ids=['614563826d2d528685537e44'])"
      ]
     },
     "execution_count": 27,
     "metadata": {},
     "output_type": "execute_result"
    }
   ],
   "source": [
    "rabi_data = rabi.run(backend)\n",
    "rabi_data.block_for_results()"
   ]
  },
  {
   "cell_type": "code",
   "execution_count": 28,
   "id": "9815bbfb-a687-4e78-8bcf-44fb13061036",
   "metadata": {},
   "outputs": [
    {
     "data": {
      "image/png": "[encoded data removed]",
      "text/plain": [
       "<Figure size 576x360 with 1 Axes>"
      ]
     },
     "execution_count": 28,
     "metadata": {},
     "output_type": "execute_result"
    }
   ],
   "source": [
    "rabi_data.figure(0)"
   ]
  },
  {
   "cell_type": "code",
   "execution_count": 29,
   "id": "1bf8ef3a-801c-4955-9c9b-cca165c24bbc",
   "metadata": {},
   "outputs": [
    {
     "name": "stdout",
     "output_type": "stream",
     "text": [
      "DbAnalysisResultV1\n",
      "- name: rabi_rate\n",
      "- value: 0.5850119775355096 ± 0.0029095234656490135\n",
      "- χ²: 1.0526745063694707\n",
      "- quality: good\n",
      "- device_components: ['Q0']\n",
      "- verified: False\n"
     ]
    }
   ],
   "source": [
    "print(rabi_data.analysis_results(\"rabi_rate\"))"
   ]
  },
  {
   "cell_type": "code",
   "execution_count": 30,
   "id": "edb615cc-e41a-4c60-b12e-6fe1ce686f28",
   "metadata": {},
   "outputs": [],
   "source": [
    "Amplitude.update(cals, rabi_data, angles_schedules=[(np.pi, \"amp\", \"x\"), (np.pi/2, \"amp\", \"sx\")])"
   ]
  },
  {
   "cell_type": "code",
   "execution_count": 31,
   "id": "dd106efd-5f73-47e7-9c4a-7f6d3769396f",
   "metadata": {},
   "outputs": [
    {
     "data": {
      "text/html": [
       "<div>\n",
       "<style scoped>\n",
       "    .dataframe tbody tr th:only-of-type {\n",
       "        vertical-align: middle;\n",
       "    }\n",
       "\n",
       "    .dataframe tbody tr th {\n",
       "        vertical-align: top;\n",
       "    }\n",
       "\n",
       "    .dataframe thead th {\n",
       "        text-align: right;\n",
       "    }\n",
       "</style>\n",
       "<table border=\"1\" class=\"dataframe\">\n",
       "  <thead>\n",
       "    <tr style=\"text-align: right;\">\n",
       "      <th></th>\n",
       "      <th>value</th>\n",
       "      <th>date_time</th>\n",
       "      <th>valid</th>\n",
       "      <th>exp_id</th>\n",
       "      <th>group</th>\n",
       "      <th>qubits</th>\n",
       "      <th>parameter</th>\n",
       "      <th>schedule</th>\n",
       "    </tr>\n",
       "  </thead>\n",
       "  <tbody>\n",
       "    <tr>\n",
       "      <th>0</th>\n",
       "      <td>0.427342+0.000000j</td>\n",
       "      <td>2021-09-18 04:07:42.149000+0000</td>\n",
       "      <td>True</td>\n",
       "      <td>e59fd27b-b74f-4893-9356-0b76bca3f154</td>\n",
       "      <td>default</td>\n",
       "      <td>(0,)</td>\n",
       "      <td>amp</td>\n",
       "      <td>sx</td>\n",
       "    </tr>\n",
       "    <tr>\n",
       "      <th>1</th>\n",
       "      <td>0.500000+0.000000j</td>\n",
       "      <td>2021-09-18 02:29:11.534313+0000</td>\n",
       "      <td>True</td>\n",
       "      <td>None</td>\n",
       "      <td>default</td>\n",
       "      <td>()</td>\n",
       "      <td>amp</td>\n",
       "      <td>x</td>\n",
       "    </tr>\n",
       "    <tr>\n",
       "      <th>2</th>\n",
       "      <td>0.854683+0.000000j</td>\n",
       "      <td>2021-09-18 04:07:42.149000+0000</td>\n",
       "      <td>True</td>\n",
       "      <td>e59fd27b-b74f-4893-9356-0b76bca3f154</td>\n",
       "      <td>default</td>\n",
       "      <td>(0,)</td>\n",
       "      <td>amp</td>\n",
       "      <td>x</td>\n",
       "    </tr>\n",
       "    <tr>\n",
       "      <th>3</th>\n",
       "      <td>0.250000+0.000000j</td>\n",
       "      <td>2021-09-18 02:29:11.534386+0000</td>\n",
       "      <td>True</td>\n",
       "      <td>None</td>\n",
       "      <td>default</td>\n",
       "      <td>()</td>\n",
       "      <td>amp</td>\n",
       "      <td>sx</td>\n",
       "    </tr>\n",
       "  </tbody>\n",
       "</table>\n",
       "</div>"
      ],
      "text/plain": [
       "                value                        date_time  valid  \\\n",
       "0  0.427342+0.000000j  2021-09-18 04:07:42.149000+0000   True   \n",
       "1  0.500000+0.000000j  2021-09-18 02:29:11.534313+0000   True   \n",
       "2  0.854683+0.000000j  2021-09-18 04:07:42.149000+0000   True   \n",
       "3  0.250000+0.000000j  2021-09-18 02:29:11.534386+0000   True   \n",
       "\n",
       "                                 exp_id    group qubits parameter schedule  \n",
       "0  e59fd27b-b74f-4893-9356-0b76bca3f154  default   (0,)       amp       sx  \n",
       "1                                  None  default     ()       amp        x  \n",
       "2  e59fd27b-b74f-4893-9356-0b76bca3f154  default   (0,)       amp        x  \n",
       "3                                  None  default     ()       amp       sx  "
      ]
     },
     "execution_count": 31,
     "metadata": {},
     "output_type": "execute_result"
    }
   ],
   "source": [
    "pd.DataFrame(cals.parameters_table(qubit_list=[qubit, ()], parameters=\"amp\"))"
   ]
  },
  {
   "cell_type": "code",
   "execution_count": 32,
   "id": "fd63f7b5-2dd8-4f55-97dc-5d0763c0d7ea",
   "metadata": {},
   "outputs": [
    {
     "data": {
      "text/plain": [
       "ScheduleBlock(Play(Drag(duration=320, amp=(0.42734168+0j), sigma=80, beta=0), DriveChannel(0)), name=\"sx\", transform=AlignLeft())"
      ]
     },
     "execution_count": 32,
     "metadata": {},
     "output_type": "execute_result"
    }
   ],
   "source": [
    "cals.get_schedule(\"sx\", qubit)"
   ]
  },
  {
   "cell_type": "code",
   "execution_count": 33,
   "id": "8991c695-8934-424f-84b3-891511158420",
   "metadata": {},
   "outputs": [
    {
     "data": {
      "text/plain": [
       "ScheduleBlock(Play(Drag(duration=320, amp=(0.85468336+0j), sigma=80, beta=0), DriveChannel(0)), name=\"x\", transform=AlignLeft())"
      ]
     },
     "execution_count": 33,
     "metadata": {},
     "output_type": "execute_result"
    }
   ],
   "source": [
    "cals.get_schedule(\"x\", qubit)"
   ]
  },
  {
   "cell_type": "code",
   "execution_count": 34,
   "id": "eb2bf9d2-812e-4834-9320-0cd038dcb3b0",
   "metadata": {},
   "outputs": [
    {
     "data": {
      "text/plain": [
       "ScheduleBlock(Play(Drag(duration=320, amp=0.85468336j, sigma=80, beta=0), DriveChannel(0)), name=\"y\", transform=AlignLeft())"
      ]
     },
     "execution_count": 34,
     "metadata": {},
     "output_type": "execute_result"
    }
   ],
   "source": [
    "cals.get_schedule(\"y\", qubit)"
   ]
  },
  {
   "cell_type": "markdown",
   "id": "c92417a2-0129-461c-966f-71cf95dd418e",
   "metadata": {},
   "source": [
    "# 3. Saving and loading calibrations¶\n",
    "The values of the calibrated parameters can be saved to a .csv file and reloaded at a later point in time."
   ]
  },
  {
   "cell_type": "code",
   "execution_count": 35,
   "id": "31fb0174-e7ba-445b-be4c-52bff93f6d85",
   "metadata": {},
   "outputs": [
    {
     "name": "stdout",
     "output_type": "stream",
     "text": [
      "Traceback \u001b[1;36m(most recent call last)\u001b[0m:\n",
      "  File \u001b[0;32m\"<ipython-input-35-f339eb19e7ad>\"\u001b[0m, line \u001b[0;32m2\u001b[0m, in \u001b[0;35m<module>\u001b[0m\n",
      "    cals.load_parameter_values(file_name=\"Armonkparameter_values.csv\")\n",
      "\u001b[1;36m  File \u001b[1;32m\"/opt/conda/lib/python3.8/site-packages/qiskit_experiments/calibration_management/calibrations.py\"\u001b[1;36m, line \u001b[1;32m1015\u001b[1;36m, in \u001b[1;35mload_parameter_values\u001b[1;36m\u001b[0m\n",
      "\u001b[1;33m    with open(file_name, encoding=\"utf-8\") as fp:\u001b[0m\n",
      "\u001b[1;31mFileNotFoundError\u001b[0m\u001b[1;31m:\u001b[0m [Errno 2] No such file or directory: 'Armonkparameter_values.csv'\n",
      "\n",
      "Use %tb to get the full traceback.\n"
     ]
    },
    {
     "data": {
      "text/html": [
       "\n",
       "<style>\n",
       ".button {\n",
       "  border: none;\n",
       "  color: white;\n",
       "  padding: 4px 8px;\n",
       "  text-align: center;\n",
       "  text-decoration: none;\n",
       "  display: inline-block;\n",
       "  font-size: 12px;\n",
       "  margin: 4px 2px;\n",
       "  transition-duration: 0.2s;\n",
       "  cursor: pointer;\n",
       "}\n",
       ".iqx-button {\n",
       "  background-color: #0f62fe; \n",
       "  color: white; \n",
       "}\n",
       ".iqx-button:hover {\n",
       "  background-color: #0043ce;\n",
       "  color: white;\n",
       "}\n",
       "</style>\n",
       "<a href=\"https://stackoverflow.com/search?q=FileNotFoundError: 2\" target='_blank'><button class='button iqx-button'>Search for solution online</button></a>\n"
      ],
      "text/plain": [
       "<IPython.core.display.HTML object>"
      ]
     },
     "metadata": {},
     "output_type": "display_data"
    }
   ],
   "source": [
    "cals = BackendCalibrations(backend, library)\n",
    "cals.load_parameter_values(file_name=\"Armonkparameter_values.csv\")"
   ]
  },
  {
   "cell_type": "code",
   "execution_count": 36,
   "id": "3083e9bf-5b25-49b5-8623-241a4d771d62",
   "metadata": {},
   "outputs": [
    {
     "data": {
      "text/html": [
       "<div>\n",
       "<style scoped>\n",
       "    .dataframe tbody tr th:only-of-type {\n",
       "        vertical-align: middle;\n",
       "    }\n",
       "\n",
       "    .dataframe tbody tr th {\n",
       "        vertical-align: top;\n",
       "    }\n",
       "\n",
       "    .dataframe thead th {\n",
       "        text-align: right;\n",
       "    }\n",
       "</style>\n",
       "<table border=\"1\" class=\"dataframe\">\n",
       "  <thead>\n",
       "    <tr style=\"text-align: right;\">\n",
       "      <th></th>\n",
       "      <th>value</th>\n",
       "      <th>date_time</th>\n",
       "      <th>valid</th>\n",
       "      <th>exp_id</th>\n",
       "      <th>group</th>\n",
       "      <th>qubits</th>\n",
       "      <th>parameter</th>\n",
       "      <th>schedule</th>\n",
       "    </tr>\n",
       "  </thead>\n",
       "  <tbody>\n",
       "    <tr>\n",
       "      <th>0</th>\n",
       "      <td>0.50</td>\n",
       "      <td>2021-09-18 04:30:36.985511+0000</td>\n",
       "      <td>True</td>\n",
       "      <td>None</td>\n",
       "      <td>default</td>\n",
       "      <td>()</td>\n",
       "      <td>amp</td>\n",
       "      <td>x</td>\n",
       "    </tr>\n",
       "    <tr>\n",
       "      <th>1</th>\n",
       "      <td>0.25</td>\n",
       "      <td>2021-09-18 04:30:36.985583+0000</td>\n",
       "      <td>True</td>\n",
       "      <td>None</td>\n",
       "      <td>default</td>\n",
       "      <td>()</td>\n",
       "      <td>amp</td>\n",
       "      <td>sx</td>\n",
       "    </tr>\n",
       "  </tbody>\n",
       "</table>\n",
       "</div>"
      ],
      "text/plain": [
       "   value                        date_time  valid exp_id    group qubits  \\\n",
       "0   0.50  2021-09-18 04:30:36.985511+0000   True   None  default     ()   \n",
       "1   0.25  2021-09-18 04:30:36.985583+0000   True   None  default     ()   \n",
       "\n",
       "  parameter schedule  \n",
       "0       amp        x  \n",
       "1       amp       sx  "
      ]
     },
     "execution_count": 36,
     "metadata": {},
     "output_type": "execute_result"
    }
   ],
   "source": [
    "pd.DataFrame(cals.parameters_table(qubit_list=[qubit, ()], parameters=\"amp\"))"
   ]
  },
  {
   "cell_type": "markdown",
   "id": "32450cdc-250f-404f-93da-85f8f3e0f0b9",
   "metadata": {},
   "source": [
    "# 4. Calibrating the value of the DRAG coefficient¶\n",
    "A Derivative Removal by Adiabatic Gate (DRAG) pulse is designed to minimize leakage to a neighbouring transition. It is a standard pulse with an additional derivative component. It is designed to reduce the frequency spectrum of a normal pulse near the  -  transition, reducing the chance of leakage to the  state. The optimal value of the DRAG parameter is chosen to minimize both leakage and phase errors resulting from the AC Stark shift. The pulse envelope is \n",
    " \n",
    ". Here,  is the envelop of the in-phase component of the pulse and  is the strength of the quadrature which we refer to as the DRAG parameter and seek to calibrate in this experiment. The DRAG calibration will run several series of circuits. In a given circuit a Rp(β) - Rm(β) block is repeated  times. Here, Rp is a rotation with a positive angle and Rm is the same rotation with a negative amplitude."
   ]
  },
  {
   "cell_type": "code",
   "execution_count": 2,
   "id": "cfd1e59d-8be3-48ad-b21f-db6cac68b01c",
   "metadata": {},
   "outputs": [],
   "source": [
    "from qiskit_experiments.library.calibration.drag import DragCal\n",
    "from qiskit_experiments.calibration_management.update_library import Drag"
   ]
  },
  {
   "cell_type": "code",
   "execution_count": 24,
   "id": "0f4897b1-373d-4a23-9cbc-31d0706ad7e6",
   "metadata": {},
   "outputs": [],
   "source": [
    "cal_drag = DragCal(qubit)"
   ]
  },
  {
   "cell_type": "code",
   "execution_count": 25,
   "id": "2eca75da-3c1d-4ff5-9071-d872c5401ec6",
   "metadata": {},
   "outputs": [
    {
     "data": {
      "image/png": "[encoded data removed]",
      "text/plain": [
       "<Figure size 1355.49x144.48 with 1 Axes>"
      ]
     },
     "execution_count": 25,
     "metadata": {},
     "output_type": "execute_result"
    }
   ],
   "source": [
    "cal_drag.set_experiment_options(\n",
    "    rp=cals.get_schedule(\"x\", qubit, assign_params={\"β\": Parameter(\"β\")}),\n",
    "    betas=np.linspace(-20, 20, 25),\n",
    "    reps=[3, 5, 7]\n",
    ")\n",
    "\n",
    "cal_drag.circuits(backend)[1].draw(output='mpl')"
   ]
  },
  {
   "cell_type": "code",
   "execution_count": 26,
   "id": "c10f4030-af75-4f75-a772-fcc9996582a7",
   "metadata": {},
   "outputs": [
    {
     "data": {
      "text/plain": [
       "ExperimentData(DragCal, 67da2546-9205-423d-8262-e994b7f06405, backend=ibmq_armonk, job_ids=['61458bec6d2d52c4fe537fe5'])"
      ]
     },
     "execution_count": 26,
     "metadata": {},
     "output_type": "execute_result"
    }
   ],
   "source": [
    "drag_data = cal_drag.run(backend)\n",
    "drag_data.block_for_results()"
   ]
  },
  {
   "cell_type": "code",
   "execution_count": 27,
   "id": "8fd921de-12de-42bc-b55b-5e73fbc0399d",
   "metadata": {},
   "outputs": [
    {
     "data": {
      "image/png": "[encoded data removed]",
      "text/plain": [
       "<Figure size 576x360 with 1 Axes>"
      ]
     },
     "execution_count": 27,
     "metadata": {},
     "output_type": "execute_result"
    }
   ],
   "source": [
    "drag_data.figure(0)"
   ]
  },
  {
   "cell_type": "code",
   "execution_count": 28,
   "id": "7611bd95-00dd-43c4-9c0d-7c6544f10a9c",
   "metadata": {},
   "outputs": [
    {
     "name": "stdout",
     "output_type": "stream",
     "text": [
      "DbAnalysisResultV1\n",
      "- name: beta\n",
      "- value: 19.226981764988434 ± 0.26286256080697706\n",
      "- χ²: 43.05575301473419\n",
      "- quality: bad\n",
      "- device_components: ['Q0']\n",
      "- verified: False\n"
     ]
    }
   ],
   "source": [
    "print(drag_data.analysis_results(\"beta\"))"
   ]
  },
  {
   "cell_type": "code",
   "execution_count": 29,
   "id": "4846ec6b-6692-49b8-adb9-e5d4732f8ba4",
   "metadata": {},
   "outputs": [],
   "source": [
    "Drag.update(cals, drag_data, parameter=\"β\", schedule=\"x\")"
   ]
  },
  {
   "cell_type": "code",
   "execution_count": 30,
   "id": "11e641c9-cee9-4c06-943a-339cc72792fa",
   "metadata": {},
   "outputs": [
    {
     "data": {
      "text/html": [
       "<div>\n",
       "<style scoped>\n",
       "    .dataframe tbody tr th:only-of-type {\n",
       "        vertical-align: middle;\n",
       "    }\n",
       "\n",
       "    .dataframe tbody tr th {\n",
       "        vertical-align: top;\n",
       "    }\n",
       "\n",
       "    .dataframe thead th {\n",
       "        text-align: right;\n",
       "    }\n",
       "</style>\n",
       "<table border=\"1\" class=\"dataframe\">\n",
       "  <thead>\n",
       "    <tr style=\"text-align: right;\">\n",
       "      <th></th>\n",
       "      <th>value</th>\n",
       "      <th>date_time</th>\n",
       "      <th>valid</th>\n",
       "      <th>exp_id</th>\n",
       "      <th>group</th>\n",
       "      <th>qubits</th>\n",
       "      <th>parameter</th>\n",
       "      <th>schedule</th>\n",
       "    </tr>\n",
       "  </thead>\n",
       "  <tbody>\n",
       "    <tr>\n",
       "      <th>0</th>\n",
       "      <td>0.000000</td>\n",
       "      <td>2021-09-18 06:24:35.360982+0000</td>\n",
       "      <td>True</td>\n",
       "      <td>None</td>\n",
       "      <td>default</td>\n",
       "      <td>()</td>\n",
       "      <td>β</td>\n",
       "      <td>sx</td>\n",
       "    </tr>\n",
       "    <tr>\n",
       "      <th>1</th>\n",
       "      <td>0.000000</td>\n",
       "      <td>2021-09-18 06:24:35.360875+0000</td>\n",
       "      <td>True</td>\n",
       "      <td>None</td>\n",
       "      <td>default</td>\n",
       "      <td>()</td>\n",
       "      <td>β</td>\n",
       "      <td>x</td>\n",
       "    </tr>\n",
       "    <tr>\n",
       "      <th>2</th>\n",
       "      <td>19.226982</td>\n",
       "      <td>2021-09-18 06:57:47.113000+0000</td>\n",
       "      <td>True</td>\n",
       "      <td>67da2546-9205-423d-8262-e994b7f06405</td>\n",
       "      <td>default</td>\n",
       "      <td>(0,)</td>\n",
       "      <td>β</td>\n",
       "      <td>x</td>\n",
       "    </tr>\n",
       "  </tbody>\n",
       "</table>\n",
       "</div>"
      ],
      "text/plain": [
       "       value                        date_time  valid  \\\n",
       "0   0.000000  2021-09-18 06:24:35.360982+0000   True   \n",
       "1   0.000000  2021-09-18 06:24:35.360875+0000   True   \n",
       "2  19.226982  2021-09-18 06:57:47.113000+0000   True   \n",
       "\n",
       "                                 exp_id    group qubits parameter schedule  \n",
       "0                                  None  default     ()         β       sx  \n",
       "1                                  None  default     ()         β        x  \n",
       "2  67da2546-9205-423d-8262-e994b7f06405  default   (0,)         β        x  "
      ]
     },
     "execution_count": 30,
     "metadata": {},
     "output_type": "execute_result"
    }
   ],
   "source": [
    "pd.DataFrame(cals.parameters_table(qubit_list=[qubit, ()], parameters=\"β\"))"
   ]
  },
  {
   "cell_type": "markdown",
   "id": "fa6b8fd3-10d4-4af5-b7a9-11883f89de0b",
   "metadata": {},
   "source": [
    "# 5. Fine amplitude calibration¶\n",
    "The FineAmplitude calibration experiment repeats  times a gate with a pulse to amplify the under or over-rotations in the gate to determine the optimal amplitude. The circuits that are run have a custom gate with the pulse schedule attached to it through the calibrations."
   ]
  },
  {
   "cell_type": "code",
   "execution_count": 31,
   "id": "bbe2d456-eb29-4309-9a79-cc5498734e91",
   "metadata": {},
   "outputs": [],
   "source": [
    "from qiskit_experiments.library.calibration.fine_amplitude import FineXAmplitude\n",
    "from qiskit_experiments.calibration_management.update_library import Amplitude"
   ]
  },
  {
   "cell_type": "code",
   "execution_count": 32,
   "id": "0c76bc58-5d80-42ed-9105-d17b9ec3333c",
   "metadata": {},
   "outputs": [],
   "source": [
    "amp_x_cal = FineXAmplitude(qubit)\n",
    "amp_x_cal.set_experiment_options(schedule=cals.get_schedule(\"x\", qubit))"
   ]
  },
  {
   "cell_type": "code",
   "execution_count": 33,
   "id": "00ad7025-d6da-42a2-a40f-1079a55e6268",
   "metadata": {},
   "outputs": [
    {
     "data": {
      "image/png": "[encoded data removed]",
      "text/plain": [
       "<Figure size 538.279x144.48 with 1 Axes>"
      ]
     },
     "execution_count": 33,
     "metadata": {},
     "output_type": "execute_result"
    }
   ],
   "source": [
    "amp_x_cal.circuits(backend)[5].draw(output=\"mpl\")"
   ]
  },
  {
   "cell_type": "code",
   "execution_count": 34,
   "id": "7a32c217-6456-4042-90d0-d579d465249c",
   "metadata": {},
   "outputs": [
    {
     "data": {
      "text/plain": [
       "ExperimentData(FineXAmplitude, 75dc4c17-4800-455f-8d41-0a68f6625e12, backend=ibmq_armonk, job_ids=['61459389010c168cd256724b'])"
      ]
     },
     "execution_count": 34,
     "metadata": {},
     "output_type": "execute_result"
    }
   ],
   "source": [
    "data_fine = amp_x_cal.run(backend)\n",
    "data_fine.block_for_results()"
   ]
  },
  {
   "cell_type": "code",
   "execution_count": 36,
   "id": "1e0c6176-4dc8-4820-aba7-61fcb1d9513f",
   "metadata": {},
   "outputs": [
    {
     "data": {
      "image/png": "[encoded data removed]",
      "text/plain": [
       "<Figure size 576x360 with 1 Axes>"
      ]
     },
     "execution_count": 36,
     "metadata": {},
     "output_type": "execute_result"
    }
   ],
   "source": [
    "data_fine.figure(0)"
   ]
  },
  {
   "cell_type": "code",
   "execution_count": 37,
   "id": "771da36c-b3f7-4336-9b76-2ee35be27e02",
   "metadata": {},
   "outputs": [
    {
     "name": "stdout",
     "output_type": "stream",
     "text": [
      "DbAnalysisResultV1\n",
      "- name: d_theta\n",
      "- value: -1.2919979481313841 ± 0.0015593870466044388\n",
      "- χ²: 10.269915284906803\n",
      "- quality: bad\n",
      "- device_components: ['Q0']\n",
      "- verified: False\n"
     ]
    }
   ],
   "source": [
    "print(data_fine.analysis_results(\"d_theta\"))"
   ]
  },
  {
   "cell_type": "code",
   "execution_count": 38,
   "id": "a1246311-fbcb-4c2f-8ce9-4bfffc50f14d",
   "metadata": {},
   "outputs": [
    {
     "name": "stdout",
     "output_type": "stream",
     "text": [
      "The ideal angle is 3.14 rad. We measured a deviation of -1.292 rad.\n",
      "Thus, scale the 0.5000 pulse amplitude by 1.699 to obtain 0.84927.\n"
     ]
    }
   ],
   "source": [
    "dtheta = data_fine.analysis_results(\"d_theta\").value.value\n",
    "target_angle = np.pi\n",
    "scale = target_angle / (target_angle + dtheta)\n",
    "pulse_amp = cals.get_parameter_value(\"amp\", qubit, \"x\")\n",
    "print(f\"The ideal angle is {target_angle:.2f} rad. We measured a deviation of {dtheta:.3f} rad.\")\n",
    "print(f\"Thus, scale the {pulse_amp:.4f} pulse amplitude by {scale:.3f} to obtain {pulse_amp*scale:.5f}.\")"
   ]
  },
  {
   "cell_type": "code",
   "execution_count": 39,
   "id": "616aa11f-3cd4-4178-b897-97cf9a726fa0",
   "metadata": {},
   "outputs": [],
   "source": [
    "Amplitude.update(cals, data_fine, angles_schedules=[(target_angle, \"amp\", \"x\")])"
   ]
  },
  {
   "cell_type": "code",
   "execution_count": 40,
   "id": "198ec315-9b28-4d6e-8d5f-9ea274a80ec2",
   "metadata": {},
   "outputs": [
    {
     "data": {
      "text/html": [
       "<div>\n",
       "<style scoped>\n",
       "    .dataframe tbody tr th:only-of-type {\n",
       "        vertical-align: middle;\n",
       "    }\n",
       "\n",
       "    .dataframe tbody tr th {\n",
       "        vertical-align: top;\n",
       "    }\n",
       "\n",
       "    .dataframe thead th {\n",
       "        text-align: right;\n",
       "    }\n",
       "</style>\n",
       "<table border=\"1\" class=\"dataframe\">\n",
       "  <thead>\n",
       "    <tr style=\"text-align: right;\">\n",
       "      <th></th>\n",
       "      <th>value</th>\n",
       "      <th>date_time</th>\n",
       "      <th>valid</th>\n",
       "      <th>exp_id</th>\n",
       "      <th>group</th>\n",
       "      <th>qubits</th>\n",
       "      <th>parameter</th>\n",
       "      <th>schedule</th>\n",
       "    </tr>\n",
       "  </thead>\n",
       "  <tbody>\n",
       "    <tr>\n",
       "      <th>0</th>\n",
       "      <td>0.250000</td>\n",
       "      <td>2021-09-18 06:24:35.360959+0000</td>\n",
       "      <td>True</td>\n",
       "      <td>None</td>\n",
       "      <td>default</td>\n",
       "      <td>()</td>\n",
       "      <td>amp</td>\n",
       "      <td>sx</td>\n",
       "    </tr>\n",
       "    <tr>\n",
       "      <th>1</th>\n",
       "      <td>0.500000</td>\n",
       "      <td>2021-09-18 06:24:35.360837+0000</td>\n",
       "      <td>True</td>\n",
       "      <td>None</td>\n",
       "      <td>default</td>\n",
       "      <td>()</td>\n",
       "      <td>amp</td>\n",
       "      <td>x</td>\n",
       "    </tr>\n",
       "    <tr>\n",
       "      <th>2</th>\n",
       "      <td>0.849265</td>\n",
       "      <td>2021-09-18 07:24:00.309000+0000</td>\n",
       "      <td>True</td>\n",
       "      <td>75dc4c17-4800-455f-8d41-0a68f6625e12</td>\n",
       "      <td>default</td>\n",
       "      <td>(0,)</td>\n",
       "      <td>amp</td>\n",
       "      <td>x</td>\n",
       "    </tr>\n",
       "  </tbody>\n",
       "</table>\n",
       "</div>"
      ],
      "text/plain": [
       "      value                        date_time  valid  \\\n",
       "0  0.250000  2021-09-18 06:24:35.360959+0000   True   \n",
       "1  0.500000  2021-09-18 06:24:35.360837+0000   True   \n",
       "2  0.849265  2021-09-18 07:24:00.309000+0000   True   \n",
       "\n",
       "                                 exp_id    group qubits parameter schedule  \n",
       "0                                  None  default     ()       amp       sx  \n",
       "1                                  None  default     ()       amp        x  \n",
       "2  75dc4c17-4800-455f-8d41-0a68f6625e12  default   (0,)       amp        x  "
      ]
     },
     "execution_count": 40,
     "metadata": {},
     "output_type": "execute_result"
    }
   ],
   "source": [
    "pd.DataFrame(cals.parameters_table(qubit_list=[qubit, ()], parameters=\"amp\"))"
   ]
  },
  {
   "cell_type": "code",
   "execution_count": 41,
   "id": "8c9d9733-7a38-4f1a-8b3e-6896c090d03f",
   "metadata": {},
   "outputs": [],
   "source": [
    "amp_x_cal.set_experiment_options(schedule=cals.get_schedule(\"x\", qubit))"
   ]
  },
  {
   "cell_type": "code",
   "execution_count": 42,
   "id": "187ac771-fbdd-4c71-97be-50e01990b854",
   "metadata": {},
   "outputs": [
    {
     "data": {
      "text/plain": [
       "ExperimentData(FineXAmplitude, 124911ac-6c29-4832-b581-65ddb87047c6, backend=ibmq_armonk, job_ids=['6145959d010c16321e56726f'])"
      ]
     },
     "execution_count": 42,
     "metadata": {},
     "output_type": "execute_result"
    }
   ],
   "source": [
    "data_fine2 = amp_x_cal.run(backend)\n",
    "data_fine2.block_for_results()"
   ]
  },
  {
   "cell_type": "code",
   "execution_count": 43,
   "id": "a77bb869-7cf1-4d9d-8587-0134c0460df9",
   "metadata": {},
   "outputs": [
    {
     "data": {
      "image/png": "[encoded data removed]",
      "text/plain": [
       "<Figure size 576x360 with 1 Axes>"
      ]
     },
     "execution_count": 43,
     "metadata": {},
     "output_type": "execute_result"
    }
   ],
   "source": [
    "data_fine2.figure(0)"
   ]
  },
  {
   "cell_type": "code",
   "execution_count": 44,
   "id": "4c63db10-9e05-4432-8e42-9ae752dfc660",
   "metadata": {},
   "outputs": [
    {
     "name": "stdout",
     "output_type": "stream",
     "text": [
      "DbAnalysisResultV1\n",
      "- name: d_theta\n",
      "- value: -0.17289590547506825 ± 0.0019708209569658064\n",
      "- χ²: 0.9793427198410758\n",
      "- quality: good\n",
      "- device_components: ['Q0']\n",
      "- verified: False\n"
     ]
    }
   ],
   "source": [
    "print(data_fine2.analysis_results(\"d_theta\"))"
   ]
  },
  {
   "cell_type": "code",
   "execution_count": null,
   "id": "a04e8c19-72ca-4cc2-b377-13769c6a4894",
   "metadata": {},
   "outputs": [],
   "source": []
  }
 ],
 "metadata": {
  "kernelspec": {
   "display_name": "Qiskit v0.29.0",
   "language": "python",
   "name": "python3"
  },
  "language_info": {
   "codemirror_mode": {
    "name": "ipython",
    "version": 3
   },
   "file_extension": ".py",
   "mimetype": "text/x-python",
   "name": "python",
   "nbconvert_exporter": "python",
   "pygments_lexer": "ipython3",
   "version": "3.8.10"
  },
  "widgets": {
   "application/vnd.jupyter.widget-state+json": {
    "state": {
     "0474ddc7b8404075b2eb602e4db4350e": {
      "model_module": "@jupyter-widgets/base",
      "model_module_version": "1.2.0",
      "model_name": "LayoutModel",
      "state": {
       "width": "190px"
      }
     },
     "077fc0c9c52847a5bdc3e6711dfe7878": {
      "model_module": "@jupyter-widgets/controls",
      "model_module_version": "1.5.0",
      "model_name": "HBoxModel",
      "state": {
       "children": [
        "IPY_MODEL_6ddc8469c4604a98883d75b2a51b1fa8",
        "IPY_MODEL_1832d39085e446b5b338bd3e9025a06c",
        "IPY_MODEL_809a98df8bad4aa5a9593c51f6757881",
        "IPY_MODEL_74c01672f6454b7284383da8867386e9",
        "IPY_MODEL_b2fe9d2c5740402187e8b2de68c12cd4",
        "IPY_MODEL_81a2c57e0a824fffadeb5cc2596f121c"
       ],
       "layout": "IPY_MODEL_2e02cd7f42604cbfabead817053ed197"
      }
     },
     "08901596a0684348b43289586fd9e98d": {
      "model_module": "@jupyter-widgets/controls",
      "model_module_version": "1.5.0",
      "model_name": "HTMLModel",
      "state": {
       "layout": "IPY_MODEL_ada338882093454abe88ee6ea5211063",
       "style": "IPY_MODEL_8710cd1edf544aa685cfbb3ce57a790b",
       "value": "61459389010c168cd256724b"
      }
     },
     "08cc6c3120e847288e9871af62b8a870": {
      "model_module": "@jupyter-widgets/base",
      "model_module_version": "1.2.0",
      "model_name": "LayoutModel",
      "state": {
       "width": "70px"
      }
     },
     "09163ccc845c48f6aaffb7d4318b63b7": {
      "model_module": "@jupyter-widgets/controls",
      "model_module_version": "1.5.0",
      "model_name": "HBoxModel",
      "state": {
       "children": [
        "IPY_MODEL_c02b2f7db49c4add8635be277c45ec15",
        "IPY_MODEL_f4560da56f7a4c13a0e90cc9def399b0",
        "IPY_MODEL_ac25009dddd041bf88cb289f18c47b79",
        "IPY_MODEL_d774d615f811448aaf006a0cc1585d7e",
        "IPY_MODEL_a3e07af24bf94a93a41154415a41e5de",
        "IPY_MODEL_c612478fdbe04747809454ba9a23f922"
       ],
       "layout": "IPY_MODEL_11fbb836a06648a9a86729ee054f7f04"
      }
     },
     "0fe04ed55e304a56af0294132d237ce5": {
      "model_module": "@jupyter-widgets/base",
      "model_module_version": "1.2.0",
      "model_name": "LayoutModel",
      "state": {
       "width": "95px"
      }
     },
     "10502681a068471daf4d4f0611d4b93f": {
      "model_module": "@jupyter-widgets/controls",
      "model_module_version": "1.5.0",
      "model_name": "HTMLModel",
      "state": {
       "layout": "IPY_MODEL_fbc588ab4c3848a4b9676a210a9cfa0a",
       "style": "IPY_MODEL_23d254d14f2b410eb31c56160bcea6bf",
       "value": "<h5>Queue</h5>"
      }
     },
     "1122a90fcdb04eb6802d6b0bbdb93003": {
      "model_module": "@jupyter-widgets/controls",
      "model_module_version": "1.5.0",
      "model_name": "HTMLModel",
      "state": {
       "layout": "IPY_MODEL_d3e11f6ef02847f081d66f6c5f24d8da",
       "style": "IPY_MODEL_35c69e423a254123bb0da4408072adbb",
       "value": "<p style='font-family: IBM Plex Sans, Arial, Helvetica, sans-serif; font-size: 20px; font-weight: medium;'>Circuit Properties</p>"
      }
     },
     "11fbb836a06648a9a86729ee054f7f04": {
      "model_module": "@jupyter-widgets/base",
      "model_module_version": "1.2.0",
      "model_name": "LayoutModel",
      "state": {
       "max_width": "700px",
       "min_width": "700px"
      }
     },
     "154b90e961a64c198739568c8dc86a00": {
      "model_module": "@jupyter-widgets/controls",
      "model_module_version": "1.5.0",
      "model_name": "DescriptionStyleModel",
      "state": {
       "description_width": ""
      }
     },
     "1685b6b992bc46ca881653fbeda83b4d": {
      "model_module": "@jupyter-widgets/base",
      "model_module_version": "1.2.0",
      "model_name": "LayoutModel",
      "state": {
       "width": "95px"
      }
     },
     "176bb8c179da40c98b6183a394a02a93": {
      "model_module": "@jupyter-widgets/controls",
      "model_module_version": "1.5.0",
      "model_name": "HTMLModel",
      "state": {
       "layout": "IPY_MODEL_64222fa72a5a469fb63f45ff870d4113",
       "style": "IPY_MODEL_afc4faabf81541aa9eacaeb63e02e314",
       "value": "ibmq_armonk"
      }
     },
     "1832d39085e446b5b338bd3e9025a06c": {
      "model_module": "@jupyter-widgets/controls",
      "model_module_version": "1.5.0",
      "model_name": "HTMLModel",
      "state": {
       "layout": "IPY_MODEL_0474ddc7b8404075b2eb602e4db4350e",
       "style": "IPY_MODEL_ad188a2a0cc840119bfca78e94a628e1",
       "value": "614586356feb7e62236f83fa"
      }
     },
     "1c557caaf5614b7eb2067ebfb4677c47": {
      "model_module": "@jupyter-widgets/controls",
      "model_module_version": "1.5.0",
      "model_name": "DescriptionStyleModel",
      "state": {
       "description_width": ""
      }
     },
     "20d7f19914794e12b0596abd6485f3f9": {
      "model_module": "@jupyter-widgets/base",
      "model_module_version": "1.2.0",
      "model_name": "LayoutModel",
      "state": {
       "overflow_x": "scroll"
      }
     },
     "219e631306da48a5985fa2199ee32cf6": {
      "model_module": "@jupyter-widgets/base",
      "model_module_version": "1.2.0",
      "model_name": "LayoutModel",
      "state": {
       "margin": "0px 5px 0px 0px",
       "width": "32px"
      }
     },
     "220d9807c78a4dcda0162159847576e4": {
      "model_module": "@jupyter-widgets/controls",
      "model_module_version": "1.5.0",
      "model_name": "GridBoxModel",
      "state": {
       "children": [
        "IPY_MODEL_83dcb2a0f80845e088c493379f91a6ef"
       ],
       "layout": "IPY_MODEL_29998a8730294dfc9acbd7285a01e24b"
      }
     },
     "23d254d14f2b410eb31c56160bcea6bf": {
      "model_module": "@jupyter-widgets/controls",
      "model_module_version": "1.5.0",
      "model_name": "DescriptionStyleModel",
      "state": {
       "description_width": ""
      }
     },
     "28fb9208a3694305a05b27e6ff113172": {
      "model_module": "@jupyter-widgets/controls",
      "model_module_version": "1.5.0",
      "model_name": "HTMLModel",
      "state": {
       "layout": "IPY_MODEL_08cc6c3120e847288e9871af62b8a870",
       "style": "IPY_MODEL_d76a5f2909644520b3a3d46c6faad966",
       "value": "-"
      }
     },
     "2943dcd4fbb44605b7af104080ea53a4": {
      "model_module": "@jupyter-widgets/base",
      "model_module_version": "1.2.0",
      "model_name": "LayoutModel",
      "state": {
       "overflow_x": "scroll"
      }
     },
     "29998a8730294dfc9acbd7285a01e24b": {
      "model_module": "@jupyter-widgets/base",
      "model_module_version": "1.2.0",
      "model_name": "LayoutModel",
      "state": {
       "grid_template_areas": "\n                                       \". . . . right \"\n                                        ",
       "grid_template_columns": "20% 20% 20% 20% 20%",
       "width": "100%"
      }
     },
     "2a5a500eb4324093a3f859dac71980dc": {
      "model_module": "@jupyter-widgets/controls",
      "model_module_version": "1.5.0",
      "model_name": "HBoxModel",
      "state": {
       "children": [
        "IPY_MODEL_c4a14cdbe6554e66a0c68560db085800",
        "IPY_MODEL_08901596a0684348b43289586fd9e98d",
        "IPY_MODEL_6f989f39581c4585b30807182c1023cf",
        "IPY_MODEL_6622434c199b4d5b8253169234dca299",
        "IPY_MODEL_28fb9208a3694305a05b27e6ff113172",
        "IPY_MODEL_ad89b8fd7fad462ea0cc2cfcc63f86bc"
       ],
       "layout": "IPY_MODEL_eb83b29cbda5402dbf4bf81cd251d5b4"
      }
     },
     "2e02cd7f42604cbfabead817053ed197": {
      "model_module": "@jupyter-widgets/base",
      "model_module_version": "1.2.0",
      "model_name": "LayoutModel",
      "state": {
       "max_width": "700px",
       "min_width": "700px"
      }
     },
     "31a9eac9ee3b43379ce143a5ce0f7e8c": {
      "model_module": "@jupyter-widgets/controls",
      "model_module_version": "1.5.0",
      "model_name": "ButtonStyleModel",
      "state": {
       "button_color": "white"
      }
     },
     "331cd2ae58614a0daa2ce59cdcd0a546": {
      "model_module": "@jupyter-widgets/controls",
      "model_module_version": "1.5.0",
      "model_name": "DescriptionStyleModel",
      "state": {
       "description_width": ""
      }
     },
     "35c69e423a254123bb0da4408072adbb": {
      "model_module": "@jupyter-widgets/controls",
      "model_module_version": "1.5.0",
      "model_name": "DescriptionStyleModel",
      "state": {
       "description_width": ""
      }
     },
     "40a2536bb8164ca59a1be6d6b0921ea8": {
      "model_module": "@jupyter-widgets/controls",
      "model_module_version": "1.5.0",
      "model_name": "DescriptionStyleModel",
      "state": {
       "description_width": ""
      }
     },
     "4134d42af04c4685bd0bd13e82e5e244": {
      "model_module": "@jupyter-widgets/base",
      "model_module_version": "1.2.0",
      "model_name": "LayoutModel",
      "state": {
       "width": "145px"
      }
     },
     "44d22a2712d14def96ca1c0354ae0557": {
      "model_module": "@jupyter-widgets/base",
      "model_module_version": "1.2.0",
      "model_name": "LayoutModel",
      "state": {
       "grid_area": "right",
       "padding": "0px 0px 0px 0px",
       "width": "70px"
      }
     },
     "45bed39e45ff40738756dbd4a518dd86": {
      "model_module": "@jupyter-widgets/controls",
      "model_module_version": "1.5.0",
      "model_name": "HTMLModel",
      "state": {
       "layout": "IPY_MODEL_72b3fb60200f4b029f241ad98ea80707",
       "style": "IPY_MODEL_79bd951828724e548216ec98db96ea04",
       "value": "-"
      }
     },
     "46afb9e9fd794948881be7e2cd5495e7": {
      "model_module": "@jupyter-widgets/base",
      "model_module_version": "1.2.0",
      "model_name": "LayoutModel",
      "state": {
       "width": "190px"
      }
     },
     "4bf7eecda618401aaad227bb7deee3a1": {
      "model_module": "@jupyter-widgets/controls",
      "model_module_version": "1.5.0",
      "model_name": "DescriptionStyleModel",
      "state": {
       "description_width": ""
      }
     },
     "4dd5cb629ce34d31ada7f0b2ba93186f": {
      "model_module": "@jupyter-widgets/base",
      "model_module_version": "1.2.0",
      "model_name": "LayoutModel",
      "state": {
       "width": "95px"
      }
     },
     "4f618b35924242bfbf006c5b532d090e": {
      "model_module": "@jupyter-widgets/controls",
      "model_module_version": "1.5.0",
      "model_name": "HTMLModel",
      "state": {
       "layout": "IPY_MODEL_eea0f6adc25a4998875e681ccacea8d1",
       "style": "IPY_MODEL_40a2536bb8164ca59a1be6d6b0921ea8",
       "value": "<h5>Message</h5>"
      }
     },
     "54a2e424c90b46a6ad97d12494d3b8e5": {
      "model_module": "@jupyter-widgets/controls",
      "model_module_version": "1.5.0",
      "model_name": "DescriptionStyleModel",
      "state": {
       "description_width": ""
      }
     },
     "54fb8b99ea6142baa0108e537f155f9d": {
      "model_module": "@jupyter-widgets/base",
      "model_module_version": "1.2.0",
      "model_name": "LayoutModel",
      "state": {
       "overflow_x": "scroll"
      }
     },
     "56a68ed5f46740ee986918f113d182b3": {
      "model_module": "@jupyter-widgets/controls",
      "model_module_version": "1.5.0",
      "model_name": "DescriptionStyleModel",
      "state": {
       "description_width": ""
      }
     },
     "5a058b9f094e491b99789ab528181871": {
      "model_module": "@jupyter-widgets/controls",
      "model_module_version": "1.5.0",
      "model_name": "ButtonStyleModel",
      "state": {
       "button_color": "white"
      }
     },
     "5ae55d4e378045c48144172fc6ad20a2": {
      "model_module": "@jupyter-widgets/controls",
      "model_module_version": "1.5.0",
      "model_name": "HTMLModel",
      "state": {
       "layout": "IPY_MODEL_aeb3879f6a21419c9c3c7fe83c46b255",
       "style": "IPY_MODEL_fcd851a6e39b46f693f3cdfc9e360c08",
       "value": "<font style='color:#34BC6E'>DONE</font>"
      }
     },
     "5cb93725d90949b885d346a9099a361c": {
      "model_module": "@jupyter-widgets/controls",
      "model_module_version": "1.5.0",
      "model_name": "DescriptionStyleModel",
      "state": {
       "description_width": ""
      }
     },
     "5d0e057fa3744216b403955d797a227b": {
      "model_module": "@jupyter-widgets/controls",
      "model_module_version": "1.5.0",
      "model_name": "DescriptionStyleModel",
      "state": {
       "description_width": ""
      }
     },
     "5dbefa8cecde49ad97b3be6f9408043e": {
      "model_module": "@jupyter-widgets/controls",
      "model_module_version": "1.5.0",
      "model_name": "HTMLModel",
      "state": {
       "layout": "IPY_MODEL_74a6c3b17e604e0597572354ed86b13a",
       "style": "IPY_MODEL_56a68ed5f46740ee986918f113d182b3",
       "value": "<h5>Job ID</h5>"
      }
     },
     "5ec7ff7be00c49f696b88a3d44644638": {
      "model_module": "@jupyter-widgets/base",
      "model_module_version": "1.2.0",
      "model_name": "LayoutModel",
      "state": {
       "overflow_x": "scroll"
      }
     },
     "634cbb6e730f44e8afdffdcc72dda17f": {
      "model_module": "@jupyter-widgets/base",
      "model_module_version": "1.2.0",
      "model_name": "LayoutModel",
      "state": {
       "margin": "0px 5px 0px 0px",
       "width": "32px"
      }
     },
     "64222fa72a5a469fb63f45ff870d4113": {
      "model_module": "@jupyter-widgets/base",
      "model_module_version": "1.2.0",
      "model_name": "LayoutModel",
      "state": {
       "width": "145px"
      }
     },
     "6622434c199b4d5b8253169234dca299": {
      "model_module": "@jupyter-widgets/controls",
      "model_module_version": "1.5.0",
      "model_name": "HTMLModel",
      "state": {
       "layout": "IPY_MODEL_1685b6b992bc46ca881653fbeda83b4d",
       "style": "IPY_MODEL_87cdf70f59ea42a3b98a19249c3e331b",
       "value": "<font style='color:#34BC6E'>DONE</font>"
      }
     },
     "6da7171db7dd4f33829e65c41c7740e2": {
      "model_module": "@jupyter-widgets/base",
      "model_module_version": "1.2.0",
      "model_name": "LayoutModel",
      "state": {
       "margin": "0px 5px 0px 0px",
       "width": "32px"
      }
     },
     "6ddc8469c4604a98883d75b2a51b1fa8": {
      "model_module": "@jupyter-widgets/controls",
      "model_module_version": "1.5.0",
      "model_name": "ButtonModel",
      "state": {
       "icon": "close",
       "layout": "IPY_MODEL_634cbb6e730f44e8afdffdcc72dda17f",
       "style": "IPY_MODEL_e0e78cc3c7f7451994abed4686399963"
      }
     },
     "6f989f39581c4585b30807182c1023cf": {
      "model_module": "@jupyter-widgets/controls",
      "model_module_version": "1.5.0",
      "model_name": "HTMLModel",
      "state": {
       "layout": "IPY_MODEL_cd475bf291464e989a76b9b4cbd75c1c",
       "style": "IPY_MODEL_4bf7eecda618401aaad227bb7deee3a1",
       "value": "ibmq_armonk"
      }
     },
     "72b3fb60200f4b029f241ad98ea80707": {
      "model_module": "@jupyter-widgets/base",
      "model_module_version": "1.2.0",
      "model_name": "LayoutModel",
      "state": {
       "width": "70px"
      }
     },
     "72c92fa1bca44ca38fea0ad954c16b14": {
      "model_module": "@jupyter-widgets/controls",
      "model_module_version": "1.5.0",
      "model_name": "DescriptionStyleModel",
      "state": {
       "description_width": ""
      }
     },
     "74a6c3b17e604e0597572354ed86b13a": {
      "model_module": "@jupyter-widgets/base",
      "model_module_version": "1.2.0",
      "model_name": "LayoutModel",
      "state": {
       "width": "190px"
      }
     },
     "74c01672f6454b7284383da8867386e9": {
      "model_module": "@jupyter-widgets/controls",
      "model_module_version": "1.5.0",
      "model_name": "HTMLModel",
      "state": {
       "layout": "IPY_MODEL_4dd5cb629ce34d31ada7f0b2ba93186f",
       "style": "IPY_MODEL_154b90e961a64c198739568c8dc86a00",
       "value": "<font style='color:#34BC6E'>DONE</font>"
      }
     },
     "755c95f107fe48c789dfe3fb08d73d67": {
      "model_module": "@jupyter-widgets/base",
      "model_module_version": "1.2.0",
      "model_name": "LayoutModel",
      "state": {
       "width": "70px"
      }
     },
     "79bd951828724e548216ec98db96ea04": {
      "model_module": "@jupyter-widgets/controls",
      "model_module_version": "1.5.0",
      "model_name": "DescriptionStyleModel",
      "state": {
       "description_width": ""
      }
     },
     "7fae9441640b455b96b494e600cf5695": {
      "model_module": "@jupyter-widgets/base",
      "model_module_version": "1.2.0",
      "model_name": "LayoutModel",
      "state": {
       "width": "70px"
      }
     },
     "809a98df8bad4aa5a9593c51f6757881": {
      "model_module": "@jupyter-widgets/controls",
      "model_module_version": "1.5.0",
      "model_name": "HTMLModel",
      "state": {
       "layout": "IPY_MODEL_865c2a99f191459591f0704b70c671f8",
       "style": "IPY_MODEL_efe0cf2782a24978b3bff4ee26dc520b",
       "value": "ibmq_armonk"
      }
     },
     "81a2c57e0a824fffadeb5cc2596f121c": {
      "model_module": "@jupyter-widgets/controls",
      "model_module_version": "1.5.0",
      "model_name": "HTMLModel",
      "state": {
       "layout": "IPY_MODEL_20d7f19914794e12b0596abd6485f3f9",
       "style": "IPY_MODEL_946f79e4140c45a5886cd9073792030c",
       "value": "job has successfully run"
      }
     },
     "83dcb2a0f80845e088c493379f91a6ef": {
      "model_module": "@jupyter-widgets/controls",
      "model_module_version": "1.5.0",
      "model_name": "ButtonModel",
      "state": {
       "button_style": "primary",
       "description": "Clear",
       "layout": "IPY_MODEL_44d22a2712d14def96ca1c0354ae0557",
       "style": "IPY_MODEL_b99b9c2d0c2f4dec896e46fe0177411d"
      }
     },
     "865c2a99f191459591f0704b70c671f8": {
      "model_module": "@jupyter-widgets/base",
      "model_module_version": "1.2.0",
      "model_name": "LayoutModel",
      "state": {
       "width": "145px"
      }
     },
     "8710cd1edf544aa685cfbb3ce57a790b": {
      "model_module": "@jupyter-widgets/controls",
      "model_module_version": "1.5.0",
      "model_name": "DescriptionStyleModel",
      "state": {
       "description_width": ""
      }
     },
     "87cdf70f59ea42a3b98a19249c3e331b": {
      "model_module": "@jupyter-widgets/controls",
      "model_module_version": "1.5.0",
      "model_name": "DescriptionStyleModel",
      "state": {
       "description_width": ""
      }
     },
     "883d687c7de34c678b0fa6ce6fbbb284": {
      "model_module": "@jupyter-widgets/controls",
      "model_module_version": "1.5.0",
      "model_name": "DescriptionStyleModel",
      "state": {
       "description_width": ""
      }
     },
     "8e3f712bc70f43f4a62cd6441f5e3968": {
      "model_module": "@jupyter-widgets/base",
      "model_module_version": "1.2.0",
      "model_name": "LayoutModel",
      "state": {
       "margin": "0px 0px 0px 37px",
       "width": "600px"
      }
     },
     "8ff85b343a0c470ea829084a25743aba": {
      "model_module": "@jupyter-widgets/controls",
      "model_module_version": "1.5.0",
      "model_name": "HTMLModel",
      "state": {
       "layout": "IPY_MODEL_4134d42af04c4685bd0bd13e82e5e244",
       "style": "IPY_MODEL_5cb93725d90949b885d346a9099a361c",
       "value": "<h5>Backend</h5>"
      }
     },
     "946f79e4140c45a5886cd9073792030c": {
      "model_module": "@jupyter-widgets/controls",
      "model_module_version": "1.5.0",
      "model_name": "DescriptionStyleModel",
      "state": {
       "description_width": ""
      }
     },
     "948630e986f545268a64c73197beaaa7": {
      "model_module": "@jupyter-widgets/base",
      "model_module_version": "1.2.0",
      "model_name": "LayoutModel",
      "state": {
       "max_width": "700px",
       "min_width": "700px"
      }
     },
     "997369969fff461a8764d659b3c0c3b6": {
      "model_module": "@jupyter-widgets/controls",
      "model_module_version": "1.5.0",
      "model_name": "DescriptionStyleModel",
      "state": {
       "description_width": ""
      }
     },
     "a3e07af24bf94a93a41154415a41e5de": {
      "model_module": "@jupyter-widgets/controls",
      "model_module_version": "1.5.0",
      "model_name": "HTMLModel",
      "state": {
       "layout": "IPY_MODEL_755c95f107fe48c789dfe3fb08d73d67",
       "style": "IPY_MODEL_fbf02686ed8d45a6b0224e19bebb62e9",
       "value": "-"
      }
     },
     "ac25009dddd041bf88cb289f18c47b79": {
      "model_module": "@jupyter-widgets/controls",
      "model_module_version": "1.5.0",
      "model_name": "HTMLModel",
      "state": {
       "layout": "IPY_MODEL_ef696d0dae764af699ece4bded451942",
       "style": "IPY_MODEL_c62bd93cd7a74adc90847ce452f32497",
       "value": "ibmq_armonk"
      }
     },
     "ad188a2a0cc840119bfca78e94a628e1": {
      "model_module": "@jupyter-widgets/controls",
      "model_module_version": "1.5.0",
      "model_name": "DescriptionStyleModel",
      "state": {
       "description_width": ""
      }
     },
     "ad89b8fd7fad462ea0cc2cfcc63f86bc": {
      "model_module": "@jupyter-widgets/controls",
      "model_module_version": "1.5.0",
      "model_name": "HTMLModel",
      "state": {
       "layout": "IPY_MODEL_54fb8b99ea6142baa0108e537f155f9d",
       "style": "IPY_MODEL_f8807e0af6df413dbf47c5c30b87eada",
       "value": "job has successfully run"
      }
     },
     "ada338882093454abe88ee6ea5211063": {
      "model_module": "@jupyter-widgets/base",
      "model_module_version": "1.2.0",
      "model_name": "LayoutModel",
      "state": {
       "width": "190px"
      }
     },
     "aeb3879f6a21419c9c3c7fe83c46b255": {
      "model_module": "@jupyter-widgets/base",
      "model_module_version": "1.2.0",
      "model_name": "LayoutModel",
      "state": {
       "width": "95px"
      }
     },
     "afc4faabf81541aa9eacaeb63e02e314": {
      "model_module": "@jupyter-widgets/controls",
      "model_module_version": "1.5.0",
      "model_name": "DescriptionStyleModel",
      "state": {
       "description_width": ""
      }
     },
     "b1a0b613cd334b2c9ca471525659f134": {
      "model_module": "@jupyter-widgets/controls",
      "model_module_version": "1.5.0",
      "model_name": "HTMLModel",
      "state": {
       "layout": "IPY_MODEL_46afb9e9fd794948881be7e2cd5495e7",
       "style": "IPY_MODEL_883d687c7de34c678b0fa6ce6fbbb284",
       "value": "6145959d010c16321e56726f"
      }
     },
     "b2fe9d2c5740402187e8b2de68c12cd4": {
      "model_module": "@jupyter-widgets/controls",
      "model_module_version": "1.5.0",
      "model_name": "HTMLModel",
      "state": {
       "layout": "IPY_MODEL_7fae9441640b455b96b494e600cf5695",
       "style": "IPY_MODEL_72c92fa1bca44ca38fea0ad954c16b14",
       "value": "-"
      }
     },
     "b99b9c2d0c2f4dec896e46fe0177411d": {
      "model_module": "@jupyter-widgets/controls",
      "model_module_version": "1.5.0",
      "model_name": "ButtonStyleModel",
      "state": {}
     },
     "bbc30216c4de4cc08115f79c3a967b2b": {
      "model_module": "@jupyter-widgets/controls",
      "model_module_version": "1.5.0",
      "model_name": "HBoxModel",
      "state": {
       "children": [
        "IPY_MODEL_eab9a1b1a4d248039485c58dd90fae95",
        "IPY_MODEL_b1a0b613cd334b2c9ca471525659f134",
        "IPY_MODEL_176bb8c179da40c98b6183a394a02a93",
        "IPY_MODEL_5ae55d4e378045c48144172fc6ad20a2",
        "IPY_MODEL_45bed39e45ff40738756dbd4a518dd86",
        "IPY_MODEL_c67158b9358f46c2bfa83fde9f27627b"
       ],
       "layout": "IPY_MODEL_948630e986f545268a64c73197beaaa7"
      }
     },
     "c02b2f7db49c4add8635be277c45ec15": {
      "model_module": "@jupyter-widgets/controls",
      "model_module_version": "1.5.0",
      "model_name": "ButtonModel",
      "state": {
       "icon": "close",
       "layout": "IPY_MODEL_6da7171db7dd4f33829e65c41c7740e2",
       "style": "IPY_MODEL_31a9eac9ee3b43379ce143a5ce0f7e8c"
      }
     },
     "c2c64b0934c84c83882b54ac6bc129d7": {
      "model_module": "@jupyter-widgets/base",
      "model_module_version": "1.2.0",
      "model_name": "LayoutModel",
      "state": {
       "width": "95px"
      }
     },
     "c4a14cdbe6554e66a0c68560db085800": {
      "model_module": "@jupyter-widgets/controls",
      "model_module_version": "1.5.0",
      "model_name": "ButtonModel",
      "state": {
       "icon": "close",
       "layout": "IPY_MODEL_219e631306da48a5985fa2199ee32cf6",
       "style": "IPY_MODEL_fd409d95efc84767ae2235496ddf334d"
      }
     },
     "c612478fdbe04747809454ba9a23f922": {
      "model_module": "@jupyter-widgets/controls",
      "model_module_version": "1.5.0",
      "model_name": "HTMLModel",
      "state": {
       "layout": "IPY_MODEL_5ec7ff7be00c49f696b88a3d44644638",
       "style": "IPY_MODEL_997369969fff461a8764d659b3c0c3b6",
       "value": "job has successfully run"
      }
     },
     "c62bd93cd7a74adc90847ce452f32497": {
      "model_module": "@jupyter-widgets/controls",
      "model_module_version": "1.5.0",
      "model_name": "DescriptionStyleModel",
      "state": {
       "description_width": ""
      }
     },
     "c67158b9358f46c2bfa83fde9f27627b": {
      "model_module": "@jupyter-widgets/controls",
      "model_module_version": "1.5.0",
      "model_name": "HTMLModel",
      "state": {
       "layout": "IPY_MODEL_2943dcd4fbb44605b7af104080ea53a4",
       "style": "IPY_MODEL_5d0e057fa3744216b403955d797a227b",
       "value": "job has successfully run"
      }
     },
     "cd475bf291464e989a76b9b4cbd75c1c": {
      "model_module": "@jupyter-widgets/base",
      "model_module_version": "1.2.0",
      "model_name": "LayoutModel",
      "state": {
       "width": "145px"
      }
     },
     "d3e11f6ef02847f081d66f6c5f24d8da": {
      "model_module": "@jupyter-widgets/base",
      "model_module_version": "1.2.0",
      "model_name": "LayoutModel",
      "state": {
       "margin": "0px 0px 10px 0px"
      }
     },
     "d76a5f2909644520b3a3d46c6faad966": {
      "model_module": "@jupyter-widgets/controls",
      "model_module_version": "1.5.0",
      "model_name": "DescriptionStyleModel",
      "state": {
       "description_width": ""
      }
     },
     "d774d615f811448aaf006a0cc1585d7e": {
      "model_module": "@jupyter-widgets/controls",
      "model_module_version": "1.5.0",
      "model_name": "HTMLModel",
      "state": {
       "layout": "IPY_MODEL_0fe04ed55e304a56af0294132d237ce5",
       "style": "IPY_MODEL_331cd2ae58614a0daa2ce59cdcd0a546",
       "value": "<font style='color:#34BC6E'>DONE</font>"
      }
     },
     "dd685348fd58468080270a46407b6400": {
      "model_module": "@jupyter-widgets/controls",
      "model_module_version": "1.5.0",
      "model_name": "HBoxModel",
      "state": {
       "children": [
        "IPY_MODEL_5dbefa8cecde49ad97b3be6f9408043e",
        "IPY_MODEL_8ff85b343a0c470ea829084a25743aba",
        "IPY_MODEL_f640af33be984b53962ab4c91954442e",
        "IPY_MODEL_10502681a068471daf4d4f0611d4b93f",
        "IPY_MODEL_4f618b35924242bfbf006c5b532d090e"
       ],
       "layout": "IPY_MODEL_8e3f712bc70f43f4a62cd6441f5e3968"
      }
     },
     "e0e78cc3c7f7451994abed4686399963": {
      "model_module": "@jupyter-widgets/controls",
      "model_module_version": "1.5.0",
      "model_name": "ButtonStyleModel",
      "state": {
       "button_color": "white"
      }
     },
     "eab9a1b1a4d248039485c58dd90fae95": {
      "model_module": "@jupyter-widgets/controls",
      "model_module_version": "1.5.0",
      "model_name": "ButtonModel",
      "state": {
       "icon": "close",
       "layout": "IPY_MODEL_f61cd4bde10344e3badb046cd2679411",
       "style": "IPY_MODEL_5a058b9f094e491b99789ab528181871"
      }
     },
     "eb49c2e5103448f49bad62ed9cf56151": {
      "model_module": "@jupyter-widgets/base",
      "model_module_version": "1.2.0",
      "model_name": "LayoutModel",
      "state": {
       "width": "190px"
      }
     },
     "eb83b29cbda5402dbf4bf81cd251d5b4": {
      "model_module": "@jupyter-widgets/base",
      "model_module_version": "1.2.0",
      "model_name": "LayoutModel",
      "state": {
       "max_width": "700px",
       "min_width": "700px"
      }
     },
     "eea0f6adc25a4998875e681ccacea8d1": {
      "model_module": "@jupyter-widgets/base",
      "model_module_version": "1.2.0",
      "model_name": "LayoutModel",
      "state": {}
     },
     "ef696d0dae764af699ece4bded451942": {
      "model_module": "@jupyter-widgets/base",
      "model_module_version": "1.2.0",
      "model_name": "LayoutModel",
      "state": {
       "width": "145px"
      }
     },
     "efe0cf2782a24978b3bff4ee26dc520b": {
      "model_module": "@jupyter-widgets/controls",
      "model_module_version": "1.5.0",
      "model_name": "DescriptionStyleModel",
      "state": {
       "description_width": ""
      }
     },
     "f4560da56f7a4c13a0e90cc9def399b0": {
      "model_module": "@jupyter-widgets/controls",
      "model_module_version": "1.5.0",
      "model_name": "HTMLModel",
      "state": {
       "layout": "IPY_MODEL_eb49c2e5103448f49bad62ed9cf56151",
       "style": "IPY_MODEL_54a2e424c90b46a6ad97d12494d3b8e5",
       "value": "61458bec6d2d52c4fe537fe5"
      }
     },
     "f61cd4bde10344e3badb046cd2679411": {
      "model_module": "@jupyter-widgets/base",
      "model_module_version": "1.2.0",
      "model_name": "LayoutModel",
      "state": {
       "margin": "0px 5px 0px 0px",
       "width": "32px"
      }
     },
     "f640af33be984b53962ab4c91954442e": {
      "model_module": "@jupyter-widgets/controls",
      "model_module_version": "1.5.0",
      "model_name": "HTMLModel",
      "state": {
       "layout": "IPY_MODEL_c2c64b0934c84c83882b54ac6bc129d7",
       "style": "IPY_MODEL_1c557caaf5614b7eb2067ebfb4677c47",
       "value": "<h5>Status</h5>"
      }
     },
     "f8807e0af6df413dbf47c5c30b87eada": {
      "model_module": "@jupyter-widgets/controls",
      "model_module_version": "1.5.0",
      "model_name": "DescriptionStyleModel",
      "state": {
       "description_width": ""
      }
     },
     "fbc588ab4c3848a4b9676a210a9cfa0a": {
      "model_module": "@jupyter-widgets/base",
      "model_module_version": "1.2.0",
      "model_name": "LayoutModel",
      "state": {
       "width": "70px"
      }
     },
     "fbf02686ed8d45a6b0224e19bebb62e9": {
      "model_module": "@jupyter-widgets/controls",
      "model_module_version": "1.5.0",
      "model_name": "DescriptionStyleModel",
      "state": {
       "description_width": ""
      }
     },
     "fcd851a6e39b46f693f3cdfc9e360c08": {
      "model_module": "@jupyter-widgets/controls",
      "model_module_version": "1.5.0",
      "model_name": "DescriptionStyleModel",
      "state": {
       "description_width": ""
      }
     },
     "fd409d95efc84767ae2235496ddf334d": {
      "model_module": "@jupyter-widgets/controls",
      "model_module_version": "1.5.0",
      "model_name": "ButtonStyleModel",
      "state": {
       "button_color": "white"
      }
     }
    },
    "version_major": 2,
    "version_minor": 0
   }
  }
 },
 "nbformat": 4,
 "nbformat_minor": 5
}
