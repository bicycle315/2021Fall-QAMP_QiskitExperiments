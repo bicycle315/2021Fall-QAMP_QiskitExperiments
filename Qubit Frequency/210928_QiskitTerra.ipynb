{
 "cells": [
  {
   "cell_type": "code",
   "execution_count": 1,
   "id": "e9a0e379-fe42-4efb-9f58-32eda60e0344",
   "metadata": {},
   "outputs": [],
   "source": [
    "import numpy as np\n",
    "\n",
    "# Importing standard Qiskit libraries\n",
    "from qiskit import QuantumCircuit, transpile, Aer, IBMQ\n",
    "from qiskit.tools.jupyter import *\n",
    "from qiskit.visualization import *\n",
    "from ibm_quantum_widgets import *\n",
    "from qiskit.providers.aer import QasmSimulator\n",
    "\n",
    "# Loading your IBM Quantum account(s)\n",
    "provider = IBMQ.load_account()"
   ]
  },
  {
   "cell_type": "code",
   "execution_count": 17,
   "id": "067a79e0-6743-457d-a9cc-21b86ae59e09",
   "metadata": {},
   "outputs": [
    {
     "name": "stderr",
     "output_type": "stream",
     "text": [
      "ibmqfactory.load_account:WARNING:2021-09-28 04:56:45,011: Credentials are already in use. The existing account in the session will be replaced.\n"
     ]
    }
   ],
   "source": [
    "from qiskit import IBMQ\n",
    "IBMQ.load_account()\n",
    "provider = IBMQ.get_provider(hub='ibm-q', group='open', project='main')\n",
    "backend = provider.get_backend('ibmq_armonk')\n"
   ]
  },
  {
   "cell_type": "markdown",
   "id": "0ffd6f1a-4acd-46fa-afac-92116a0e7786",
   "metadata": {},
   "source": [
    "# Get Qubit frequency with backend_defaults"
   ]
  },
  {
   "cell_type": "code",
   "execution_count": 18,
   "id": "e608f135-af16-48da-ac82-bc3efe8630cd",
   "metadata": {},
   "outputs": [
    {
     "name": "stdout",
     "output_type": "stream",
     "text": [
      "Qubit 0 has an estimated frequency of 4.971597443837398 GHz.\n",
      "The sweep will go from 4.9515974438373975 GHz to 4.991597443837398 GHz in steps of 1.0 MHz.\n"
     ]
    }
   ],
   "source": [
    "GHz = 1.0e9 # Gigahertz\n",
    "MHz = 1.0e6 # Megahertz\n",
    "us = 1.0e-6 # Microseconds\n",
    "ns = 1.0e-9 # Nanoseconds\n",
    "\n",
    "# We will find the qubit frequency for the following qubit.\n",
    "qubit = 0\n",
    "# We will define memory slot channel 0.\n",
    "mem_slot = 0\n",
    "\n",
    "backend_defaults = backend.defaults()\n",
    "# The sweep will be centered around the estimated qubit frequency.\n",
    "center_frequency_Hz = backend_defaults.qubit_freq_est[qubit]        # The default frequency is given in Hz\n",
    "                                                                    # warning: this will change in a future release\n",
    "print(f\"Qubit {qubit} has an estimated frequency of {center_frequency_Hz / GHz} GHz.\")\n",
    "\n",
    "# scale factor to remove factors of 10 from the data\n",
    "scale_factor = 1e-14\n",
    "\n",
    "# We will sweep 40 MHz around the estimated frequency\n",
    "frequency_span_Hz = 40 * MHz\n",
    "# in steps of 1 MHz.\n",
    "frequency_step_Hz = 1 * MHz\n",
    "\n",
    "# We will sweep 20 MHz above and 20 MHz below the estimated frequency\n",
    "frequency_min = center_frequency_Hz - frequency_span_Hz / 2\n",
    "frequency_max = center_frequency_Hz + frequency_span_Hz / 2\n",
    "# Construct an np array of the frequencies for our experiment\n",
    "frequencies_GHz = np.arange(frequency_min / GHz, \n",
    "                            frequency_max / GHz, \n",
    "                            frequency_step_Hz / GHz)\n",
    "\n",
    "print(f\"The sweep will go from {frequency_min / GHz} GHz to {frequency_max / GHz} GHz \\\n",
    "in steps of {frequency_step_Hz / MHz} MHz.\")"
   ]
  },
  {
   "cell_type": "markdown",
   "id": "6cafb94d-70b4-492a-aacf-3df84d747410",
   "metadata": {},
   "source": [
    "# Build Pulse Sweep Schedule referrencing backend_defaults"
   ]
  },
  {
   "cell_type": "code",
   "execution_count": 5,
   "id": "be3a9719-3fdb-49c4-a386-2708c09f6f70",
   "metadata": {},
   "outputs": [],
   "source": [
    "# samples need to be multiples of 16\n",
    "def get_closest_multiple_of_16(num):\n",
    "    return int(num + 8 ) - (int(num + 8 ) % 16)"
   ]
  },
  {
   "cell_type": "code",
   "execution_count": 19,
   "id": "c77f4a9d-d6a4-430d-80f3-ae7ef27b49f6",
   "metadata": {},
   "outputs": [],
   "source": [
    "from qiskit import pulse                  # This is where we access all of our Pulse features!\n",
    "from qiskit.circuit import Parameter      # This is Parameter Class for variable parameters.\n",
    "\n",
    "\n",
    "# Drive pulse parameters (us = microseconds)\n",
    "drive_sigma_sec = 0.075 * us                            # This determines the actual width of the gaussian\n",
    "drive_duration_sec = drive_sigma_sec * 8                # This is a truncating parameter, because gaussians don't have \n",
    "                                                        # a natural finite length\n",
    "drive_amp = 0.05\n",
    "\n",
    "\n",
    "# Create the base schedule\n",
    "# Start with drive pulse acting on the drive channel\n",
    "freq = Parameter('freq')\n",
    "with pulse.build(backend=backend, default_alignment='sequential', name='Frequency sweep') as sweep_sched:\n",
    "    drive_duration = get_closest_multiple_of_16(pulse.seconds_to_samples(drive_duration_sec))\n",
    "    drive_sigma = pulse.seconds_to_samples(drive_sigma_sec)\n",
    "    drive_chan = pulse.drive_channel(qubit)\n",
    "    pulse.set_frequency(freq, drive_chan)\n",
    "    # Drive pulse samples\n",
    "    pulse.play(pulse.Gaussian(duration=drive_duration,\n",
    "                              sigma=drive_sigma,\n",
    "                              amp=drive_amp,\n",
    "                              name='freq_sweep_excitation_pulse'), drive_chan)\n",
    "    # Define our measurement pulse\n",
    "    pulse.measure(qubits=[qubit], registers=[pulse.MemorySlot(mem_slot)])\n",
    "        \n",
    "\n",
    "# Create the frequency settings for the sweep (MUST BE IN HZ)\n",
    "frequencies_Hz = frequencies_GHz*GHz\n",
    "schedules = [sweep_sched.assign_parameters({freq: f}, inplace=False) for f in frequencies_Hz]"
   ]
  },
  {
   "cell_type": "code",
   "execution_count": 20,
   "id": "68c0e64f-e3f0-4805-a7f7-76cc2957d792",
   "metadata": {},
   "outputs": [
    {
     "data": {
      "image/png": "[encoded data removed]",
      "text/plain": [
       "<Figure size 936x237.6 with 1 Axes>"
      ]
     },
     "execution_count": 20,
     "metadata": {},
     "output_type": "execute_result"
    }
   ],
   "source": [
    "schedules[0].draw(backend=backend)"
   ]
  },
  {
   "cell_type": "code",
   "execution_count": 21,
   "id": "6f55cf06-8a98-4513-9248-7d625ede1982",
   "metadata": {},
   "outputs": [],
   "source": [
    "num_shots_per_frequency = 1024\n",
    "\n",
    "job = backend.run(schedules, \n",
    "                  meas_level=1, \n",
    "                  meas_return='avg', \n",
    "                  shots=num_shots_per_frequency)"
   ]
  },
  {
   "cell_type": "code",
   "execution_count": 22,
   "id": "d4e92fb6-a4bf-4314-8ae7-08281c161e17",
   "metadata": {},
   "outputs": [
    {
     "name": "stdout",
     "output_type": "stream",
     "text": [
      "Job Status: job has successfully run\n"
     ]
    }
   ],
   "source": [
    "from qiskit.tools.monitor import job_monitor\n",
    "job_monitor(job)"
   ]
  },
  {
   "cell_type": "code",
   "execution_count": 23,
   "id": "4e991932-e291-4b7e-995f-81cedecf4ce2",
   "metadata": {},
   "outputs": [],
   "source": [
    "frequency_sweep_results = job.result(timeout=120) # timeout parameter set to 120 seconds"
   ]
  },
  {
   "cell_type": "code",
   "execution_count": 26,
   "id": "7b062932-3909-43cd-9486-4b37ab298bf3",
   "metadata": {},
   "outputs": [
    {
     "data": {
      "image/png": "[encoded data removed]",
      "text/plain": [
       "<Figure size 432x288 with 1 Axes>"
      ]
     },
     "metadata": {
      "needs_background": "light"
     },
     "output_type": "display_data"
    }
   ],
   "source": [
    "import matplotlib.pyplot as plt\n",
    "\n",
    "sweep_values = []\n",
    "for i in range(len(frequency_sweep_results.results)):\n",
    "    # Get the results from the ith experiment\n",
    "    res = frequency_sweep_results.get_memory(i)*scale_factor\n",
    "    # Get the results for `qubit` from this experiment\n",
    "    sweep_values.append(res[qubit])\n",
    "\n",
    "plt.scatter(frequencies_GHz, np.real(sweep_values), color='black') # plot real part of sweep values\n",
    "plt.xlim([min(frequencies_GHz), max(frequencies_GHz)])\n",
    "plt.xlabel(\"Frequency [GHz]\")\n",
    "plt.ylabel(\"Measured signal [a.u.]\")\n",
    "plt.show()"
   ]
  },
  {
   "cell_type": "code",
   "execution_count": 27,
   "id": "dd8c4a94-4d96-4cd0-a1af-c0ffcf524c23",
   "metadata": {},
   "outputs": [],
   "source": [
    "from scipy.optimize import curve_fit\n",
    "\n",
    "def fit_function(x_values, y_values, function, init_params):\n",
    "    fitparams, conv = curve_fit(function, x_values, y_values, init_params)\n",
    "    y_fit = function(x_values, *fitparams)\n",
    "    \n",
    "    return fitparams, y_fit"
   ]
  },
  {
   "cell_type": "code",
   "execution_count": 28,
   "id": "5a0b2adc-f9d5-4f74-919d-990c164ded15",
   "metadata": {},
   "outputs": [],
   "source": [
    "fit_params, y_fit = fit_function(frequencies_GHz,\n",
    "                                 np.real(sweep_values), \n",
    "                                 lambda x, A, q_freq, B, C: (A / np.pi) * (B / ((x - q_freq)**2 + B**2)) + C,\n",
    "                                 [5, 4.975, 1, -15] # initial parameters for curve_fit\n",
    "                                )"
   ]
  },
  {
   "cell_type": "code",
   "execution_count": 30,
   "id": "42b3dca6-1b51-4c7c-b8a3-403d49639462",
   "metadata": {},
   "outputs": [
    {
     "data": {
      "image/png": "[encoded data removed]",
      "text/plain": [
       "<Figure size 432x288 with 1 Axes>"
      ]
     },
     "metadata": {
      "needs_background": "light"
     },
     "output_type": "display_data"
    }
   ],
   "source": [
    "plt.scatter(frequencies_GHz, np.real(sweep_values), color='black')\n",
    "plt.plot(frequencies_GHz, y_fit, color='red')\n",
    "plt.xlim([min(frequencies_GHz), max(frequencies_GHz)])\n",
    "\n",
    "plt.xlabel(\"Frequency [GHz]\")\n",
    "plt.ylabel(\"Measured Signal [a.u.]\")\n",
    "plt.show()"
   ]
  },
  {
   "cell_type": "code",
   "execution_count": 32,
   "id": "bfcce4e0-f7ad-443d-b664-12117e734231",
   "metadata": {},
   "outputs": [
    {
     "name": "stdout",
     "output_type": "stream",
     "text": [
      "We've updated our qubit frequency estimate from 4.9716 GHz to 405.4396 GHz.\n"
     ]
    }
   ],
   "source": [
    "A, rough_qubit_frequency, B, C = fit_params\n",
    "rough_qubit_frequency = rough_qubit_frequency*GHz # make sure qubit freq is in Hz\n",
    "print(f\"We've updated our qubit frequency estimate from \"\n",
    "      f\"{round(backend_defaults.qubit_freq_est[qubit] / GHz, 5)} GHz to {round(rough_qubit_frequency/GHz, 5)} GHz.\")"
   ]
  },
  {
   "cell_type": "markdown",
   "id": "da48e379-db9c-4d95-b06b-9532078ebbc3",
   "metadata": {},
   "source": [
    "# Backend : imbq_Armonk to ibmq_lima "
   ]
  },
  {
   "cell_type": "code",
   "execution_count": 33,
   "id": "877141a4-aad6-4a2e-ae4b-c297c5f3030f",
   "metadata": {},
   "outputs": [
    {
     "name": "stderr",
     "output_type": "stream",
     "text": [
      "ibmqfactory.load_account:WARNING:2021-09-28 05:02:44,100: Credentials are already in use. The existing account in the session will be replaced.\n"
     ]
    }
   ],
   "source": [
    "from qiskit import IBMQ\n",
    "IBMQ.load_account()\n",
    "provider = IBMQ.get_provider(hub='ibm-q', group='open', project='main')\n",
    "backend = provider.get_backend('ibmq_lima')\n"
   ]
  },
  {
   "cell_type": "code",
   "execution_count": 34,
   "id": "7f27d789-2605-4b2a-997d-53b210f8a2c7",
   "metadata": {},
   "outputs": [],
   "source": [
    "backend_defaults = backend.defaults()"
   ]
  },
  {
   "cell_type": "markdown",
   "id": "aea34cb6-cf93-4cc7-84dd-60ff48126752",
   "metadata": {},
   "source": [
    "## Finding qb freq with backend_defualts"
   ]
  },
  {
   "cell_type": "code",
   "execution_count": 36,
   "id": "60df61db-c5de-4f22-9429-d116e462922b",
   "metadata": {},
   "outputs": [
    {
     "name": "stdout",
     "output_type": "stream",
     "text": [
      "Qubit 2 has an estimated frequency of 5.24734377702145 GHz.\n",
      "The sweep will go from 5.22734377702145 GHz to 5.26734377702145 GHz in steps of 1.0 MHz.\n"
     ]
    }
   ],
   "source": [
    "import numpy as np\n",
    "\n",
    "# unit conversion factors -> all backend properties returned in SI (Hz, sec, etc.)\n",
    "GHz = 1.0e9 # Gigahertz\n",
    "MHz = 1.0e6 # Megahertz\n",
    "us = 1.0e-6 # Microseconds\n",
    "ns = 1.0e-9 # Nanoseconds\n",
    "\n",
    "# We will find the qubit frequency for the following qubit.\n",
    "qubit = 2\n",
    "# We will define memory slot channel 0.\n",
    "mem_slot = 0\n",
    "\n",
    "# The sweep will be centered around the estimated qubit frequency.\n",
    "center_frequency_Hz = backend_defaults.qubit_freq_est[qubit]        # The default frequency is given in Hz\n",
    "                                                                    # warning: this will change in a future release\n",
    "print(f\"Qubit {qubit} has an estimated frequency of {center_frequency_Hz / GHz} GHz.\")\n",
    "\n",
    "# scale factor to remove factors of 10 from the data\n",
    "scale_factor = 1e-14\n",
    "\n",
    "# We will sweep 40 MHz around the estimated frequency\n",
    "frequency_span_Hz = 40 * MHz\n",
    "# in steps of 1 MHz.\n",
    "frequency_step_Hz = 1 * MHz\n",
    "\n",
    "# We will sweep 20 MHz above and 20 MHz below the estimated frequency\n",
    "frequency_min = center_frequency_Hz - frequency_span_Hz / 2\n",
    "frequency_max = center_frequency_Hz + frequency_span_Hz / 2\n",
    "# Construct an np array of the frequencies for our experiment\n",
    "frequencies_GHz = np.arange(frequency_min / GHz, \n",
    "                            frequency_max / GHz, \n",
    "                            frequency_step_Hz / GHz)\n",
    "\n",
    "print(f\"The sweep will go from {frequency_min / GHz} GHz to {frequency_max / GHz} GHz \\\n",
    "in steps of {frequency_step_Hz / MHz} MHz.\")"
   ]
  },
  {
   "cell_type": "code",
   "execution_count": 37,
   "id": "34dad611-26e5-4fae-b671-1480b9bec794",
   "metadata": {},
   "outputs": [],
   "source": [
    "from qiskit import pulse                  # This is where we access all of our Pulse features!\n",
    "from qiskit.circuit import Parameter      # This is Parameter Class for variable parameters.\n",
    "\n",
    "\n",
    "# Drive pulse parameters (us = microseconds)\n",
    "drive_sigma_sec = 0.075 * us                            # This determines the actual width of the gaussian\n",
    "drive_duration_sec = drive_sigma_sec * 8                # This is a truncating parameter, because gaussians don't have \n",
    "                                                        # a natural finite length\n",
    "drive_amp = 0.05\n",
    "\n",
    "\n",
    "# Create the base schedule\n",
    "# Start with drive pulse acting on the drive channel\n",
    "freq = Parameter('freq')\n",
    "with pulse.build(backend=backend, default_alignment='sequential', name='Frequency sweep') as sweep_sched:\n",
    "    drive_duration = get_closest_multiple_of_16(pulse.seconds_to_samples(drive_duration_sec))\n",
    "    drive_sigma = pulse.seconds_to_samples(drive_sigma_sec)\n",
    "    drive_chan = pulse.drive_channel(qubit)\n",
    "    pulse.set_frequency(freq, drive_chan)\n",
    "    # Drive pulse samples\n",
    "    pulse.play(pulse.Gaussian(duration=drive_duration,\n",
    "                              sigma=drive_sigma,\n",
    "                              amp=drive_amp,\n",
    "                              name='freq_sweep_excitation_pulse'), drive_chan)\n",
    "    # Define our measurement pulse\n",
    "    pulse.measure(qubits=[qubit], registers=[pulse.MemorySlot(mem_slot)])\n",
    "        \n",
    "\n",
    "# Create the frequency settings for the sweep (MUST BE IN HZ)\n",
    "frequencies_Hz = frequencies_GHz*GHz\n",
    "schedules = [sweep_sched.assign_parameters({freq: f}, inplace=False) for f in frequencies_Hz]"
   ]
  },
  {
   "cell_type": "code",
   "execution_count": 38,
   "id": "e339424a-9e63-4905-9e87-f000d70e5bbb",
   "metadata": {},
   "outputs": [
    {
     "data": {
      "image/png": "[encoded data removed]",
      "text/plain": [
       "<Figure size 936x243.203 with 1 Axes>"
      ]
     },
     "execution_count": 38,
     "metadata": {},
     "output_type": "execute_result"
    }
   ],
   "source": [
    "schedules[5].draw(backend=backend)"
   ]
  },
  {
   "cell_type": "code",
   "execution_count": 39,
   "id": "41c578d8-6641-436c-9de0-512cb5f60fd9",
   "metadata": {},
   "outputs": [
    {
     "name": "stdout",
     "output_type": "stream",
     "text": [
      "Traceback \u001b[1;36m(most recent call last)\u001b[0m:\n",
      "  File \u001b[0;32m\"/tmp/ipykernel_1604/2836019971.py\"\u001b[0m, line \u001b[0;32m3\u001b[0m, in \u001b[0;35m<module>\u001b[0m\n",
      "    job = backend.run(schedules,\n",
      "  File \u001b[0;32m\"/opt/conda/lib/python3.8/site-packages/qiskit/utils/deprecation.py\"\u001b[0m, line \u001b[0;32m62\u001b[0m, in \u001b[0;35mwrapper\u001b[0m\n",
      "    return func(*args, **kwargs)\n",
      "  File \u001b[0;32m\"/opt/conda/lib/python3.8/site-packages/qiskit/providers/ibmq/ibmqbackend.py\"\u001b[0m, line \u001b[0;32m324\u001b[0m, in \u001b[0;35mrun\u001b[0m\n",
      "    qobj = assemble(circuits, self, **run_config_dict)\n",
      "  File \u001b[0;32m\"/opt/conda/lib/python3.8/site-packages/qiskit/compiler/assembler.py\"\u001b[0m, line \u001b[0;32m217\u001b[0m, in \u001b[0;35massemble\u001b[0m\n",
      "    return assemble_schedules(\n",
      "\u001b[1;36m  File \u001b[1;32m\"/opt/conda/lib/python3.8/site-packages/qiskit/assembler/assemble_schedules.py\"\u001b[1;36m, line \u001b[1;32m55\u001b[1;36m, in \u001b[1;35massemble_schedules\u001b[1;36m\u001b[0m\n",
      "\u001b[1;33m    raise QiskitError(\"qubit_lo_freq must be supplied.\")\u001b[0m\n",
      "\u001b[1;31mQiskitError\u001b[0m\u001b[1;31m:\u001b[0m 'qubit_lo_freq must be supplied.'\n",
      "\n",
      "Use %tb to get the full traceback.\n"
     ]
    },
    {
     "name": "stderr",
     "output_type": "stream",
     "text": [
      "/opt/conda/lib/python3.8/site-packages/qiskit/compiler/assembler.py:440: RuntimeWarning: Dynamic rep rates are supported on this backend. 'rep_delay' will be used instead of 'rep_time'.\n",
      "  warnings.warn(\n"
     ]
    },
    {
     "data": {
      "text/html": [
       "\n",
       "<style>\n",
       ".button {\n",
       "  border: none;\n",
       "  color: white;\n",
       "  padding: 4px 8px;\n",
       "  text-align: center;\n",
       "  text-decoration: none;\n",
       "  display: inline-block;\n",
       "  font-size: 12px;\n",
       "  margin: 4px 2px;\n",
       "  transition-duration: 0.2s;\n",
       "  cursor: pointer;\n",
       "}\n",
       ".iqx-button {\n",
       "  background-color: #0f62fe; \n",
       "  color: white; \n",
       "}\n",
       ".iqx-button:hover {\n",
       "  background-color: #0043ce;\n",
       "  color: white;\n",
       "}\n",
       "</style>\n",
       "<a href=\"https://stackoverflow.com/search?q=QiskitError: qubit_lo_freq must be supplied.\" target='_blank'><button class='button iqx-button'>Search for solution online</button></a>\n"
      ],
      "text/plain": [
       "<IPython.core.display.HTML object>"
      ]
     },
     "metadata": {},
     "output_type": "display_data"
    }
   ],
   "source": [
    "num_shots_per_frequency = 1024\n",
    "\n",
    "job = backend.run(schedules, \n",
    "                  meas_level=1, \n",
    "                  meas_return='avg', \n",
    "                  shots=num_shots_per_frequency)"
   ]
  },
  {
   "cell_type": "code",
   "execution_count": null,
   "id": "55c76505-d749-4e23-ac28-d92391414d5f",
   "metadata": {},
   "outputs": [],
   "source": []
  }
 ],
 "metadata": {
  "kernelspec": {
   "display_name": "Qiskit v0.30.0 (ipykernel)",
   "language": "python",
   "name": "python3"
  },
  "language_info": {
   "codemirror_mode": {
    "name": "ipython",
    "version": 3
   },
   "file_extension": ".py",
   "mimetype": "text/x-python",
   "name": "python",
   "nbconvert_exporter": "python",
   "pygments_lexer": "ipython3",
   "version": "3.8.10"
  },
  "widgets": {
   "application/vnd.jupyter.widget-state+json": {
    "state": {
     "0aa3972a3e0a41c5824e404cba7e0d91": {
      "model_module": "@jupyter-widgets/base",
      "model_module_version": "1.2.0",
      "model_name": "LayoutModel",
      "state": {
       "width": "70px"
      }
     },
     "0c32c192e49e4c4b95968440ae170932": {
      "model_module": "@jupyter-widgets/controls",
      "model_module_version": "1.5.0",
      "model_name": "DescriptionStyleModel",
      "state": {
       "description_width": ""
      }
     },
     "166578f4ea404ff48d8eac814c516801": {
      "model_module": "@jupyter-widgets/base",
      "model_module_version": "1.2.0",
      "model_name": "LayoutModel",
      "state": {
       "margin": "0px 5px 0px 0px",
       "width": "32px"
      }
     },
     "18581a70dbae47d88d03ffa30365e6e9": {
      "model_module": "@jupyter-widgets/base",
      "model_module_version": "1.2.0",
      "model_name": "LayoutModel",
      "state": {
       "margin": "0px 0px 0px 37px",
       "width": "600px"
      }
     },
     "19d690ec6d3045fa83020b60c524da6d": {
      "model_module": "@jupyter-widgets/controls",
      "model_module_version": "1.5.0",
      "model_name": "DescriptionStyleModel",
      "state": {
       "description_width": ""
      }
     },
     "2995c6cfdc4a481393962395d65a70d0": {
      "model_module": "@jupyter-widgets/controls",
      "model_module_version": "1.5.0",
      "model_name": "DescriptionStyleModel",
      "state": {
       "description_width": ""
      }
     },
     "2c3429d4bc674709bbe1b5290423ead7": {
      "model_module": "@jupyter-widgets/controls",
      "model_module_version": "1.5.0",
      "model_name": "HTMLModel",
      "state": {
       "layout": "IPY_MODEL_3917915831b34133b310b091bdbd1b31",
       "style": "IPY_MODEL_ad7063502408452a873a8117f3766efa",
       "value": "<h5>Backend</h5>"
      }
     },
     "2c5a8a21cb1f4c96b698e4889a7054ad": {
      "model_module": "@jupyter-widgets/base",
      "model_module_version": "1.2.0",
      "model_name": "LayoutModel",
      "state": {
       "width": "145px"
      }
     },
     "3917915831b34133b310b091bdbd1b31": {
      "model_module": "@jupyter-widgets/base",
      "model_module_version": "1.2.0",
      "model_name": "LayoutModel",
      "state": {
       "width": "145px"
      }
     },
     "3c5a9529950f4c30abb1f3db502dce3d": {
      "model_module": "@jupyter-widgets/controls",
      "model_module_version": "1.5.0",
      "model_name": "GridBoxModel",
      "state": {
       "children": [
        "IPY_MODEL_743e2b81461248089a3380c64f9a8f2a"
       ],
       "layout": "IPY_MODEL_e25a85213fb246b6926434890f9cc3b5"
      }
     },
     "3d476014bc2e4e9392993e2896646d48": {
      "model_module": "@jupyter-widgets/controls",
      "model_module_version": "1.5.0",
      "model_name": "DescriptionStyleModel",
      "state": {
       "description_width": ""
      }
     },
     "4b1683ef917e43169d0b5b89d473e8e7": {
      "model_module": "@jupyter-widgets/controls",
      "model_module_version": "1.5.0",
      "model_name": "HTMLModel",
      "state": {
       "layout": "IPY_MODEL_602c3a29b402418985b3450fdeb8ad53",
       "style": "IPY_MODEL_0c32c192e49e4c4b95968440ae170932",
       "value": "<h5>Job ID</h5>"
      }
     },
     "59e3d329a2e64acb95da93f690e7dacb": {
      "model_module": "@jupyter-widgets/base",
      "model_module_version": "1.2.0",
      "model_name": "LayoutModel",
      "state": {
       "width": "190px"
      }
     },
     "5f3a683301be46c39b755896b3b235fd": {
      "model_module": "@jupyter-widgets/base",
      "model_module_version": "1.2.0",
      "model_name": "LayoutModel",
      "state": {
       "width": "70px"
      }
     },
     "602c3a29b402418985b3450fdeb8ad53": {
      "model_module": "@jupyter-widgets/base",
      "model_module_version": "1.2.0",
      "model_name": "LayoutModel",
      "state": {
       "width": "190px"
      }
     },
     "60a3e0f644bb483b892c873b564b3d8d": {
      "model_module": "@jupyter-widgets/controls",
      "model_module_version": "1.5.0",
      "model_name": "DescriptionStyleModel",
      "state": {
       "description_width": ""
      }
     },
     "6134b5a33ec5473c81b9da3a27fcb9d0": {
      "model_module": "@jupyter-widgets/controls",
      "model_module_version": "1.5.0",
      "model_name": "DescriptionStyleModel",
      "state": {
       "description_width": ""
      }
     },
     "63674397548d4d268b7fc63ae3d1b67a": {
      "model_module": "@jupyter-widgets/controls",
      "model_module_version": "1.5.0",
      "model_name": "DescriptionStyleModel",
      "state": {
       "description_width": ""
      }
     },
     "6415d63598214887aa4b816fd1fa7483": {
      "model_module": "@jupyter-widgets/controls",
      "model_module_version": "1.5.0",
      "model_name": "HBoxModel",
      "state": {
       "children": [
        "IPY_MODEL_68d19abf7e4642cf82bc73858241ce52",
        "IPY_MODEL_e6209ab6732440f8af41ff0826fc8923",
        "IPY_MODEL_722fd59d67774d87bb269b943b1dd1ed",
        "IPY_MODEL_e64cd162cd8540ca8816859803da11ef",
        "IPY_MODEL_e86f3a143d35455489b82a449c1f3fcb",
        "IPY_MODEL_e7b38bffeb4546f3bac169b0dbe6f3ed"
       ],
       "layout": "IPY_MODEL_682faa086e8f4a739b860531b2a795f5"
      }
     },
     "682faa086e8f4a739b860531b2a795f5": {
      "model_module": "@jupyter-widgets/base",
      "model_module_version": "1.2.0",
      "model_name": "LayoutModel",
      "state": {
       "max_width": "700px",
       "min_width": "700px"
      }
     },
     "68d19abf7e4642cf82bc73858241ce52": {
      "model_module": "@jupyter-widgets/controls",
      "model_module_version": "1.5.0",
      "model_name": "ButtonModel",
      "state": {
       "icon": "close",
       "layout": "IPY_MODEL_166578f4ea404ff48d8eac814c516801",
       "style": "IPY_MODEL_c0bd8b34e6bf42faae8cd76616714dd2"
      }
     },
     "68dd73620f4442589dc5e197736ef925": {
      "model_module": "@jupyter-widgets/base",
      "model_module_version": "1.2.0",
      "model_name": "LayoutModel",
      "state": {
       "width": "95px"
      }
     },
     "68eb191a2fb0455faf917bbd66d72918": {
      "model_module": "@jupyter-widgets/controls",
      "model_module_version": "1.5.0",
      "model_name": "HTMLModel",
      "state": {
       "layout": "IPY_MODEL_ee48ad3290f742eb8e186aef75714a9b",
       "style": "IPY_MODEL_60a3e0f644bb483b892c873b564b3d8d",
       "value": "<h5>Message</h5>"
      }
     },
     "70319dbbfc604c329df97545aee31aa1": {
      "model_module": "@jupyter-widgets/base",
      "model_module_version": "1.2.0",
      "model_name": "LayoutModel",
      "state": {
       "margin": "0px 0px 10px 0px"
      }
     },
     "722fd59d67774d87bb269b943b1dd1ed": {
      "model_module": "@jupyter-widgets/controls",
      "model_module_version": "1.5.0",
      "model_name": "HTMLModel",
      "state": {
       "layout": "IPY_MODEL_2c5a8a21cb1f4c96b698e4889a7054ad",
       "style": "IPY_MODEL_6134b5a33ec5473c81b9da3a27fcb9d0",
       "value": "ibmq_armonk"
      }
     },
     "743e2b81461248089a3380c64f9a8f2a": {
      "model_module": "@jupyter-widgets/controls",
      "model_module_version": "1.5.0",
      "model_name": "ButtonModel",
      "state": {
       "button_style": "primary",
       "description": "Clear",
       "layout": "IPY_MODEL_f42cda72f456422a93fd0c06780f117e",
       "style": "IPY_MODEL_7db2f62a0e8346188e8399737db51a00"
      }
     },
     "78605372bb2c404e956744cf065bb3e3": {
      "model_module": "@jupyter-widgets/controls",
      "model_module_version": "1.5.0",
      "model_name": "DescriptionStyleModel",
      "state": {
       "description_width": ""
      }
     },
     "7db2f62a0e8346188e8399737db51a00": {
      "model_module": "@jupyter-widgets/controls",
      "model_module_version": "1.5.0",
      "model_name": "ButtonStyleModel",
      "state": {}
     },
     "925ebdd06865416fbc9eaab790e5f0cc": {
      "model_module": "@jupyter-widgets/controls",
      "model_module_version": "1.5.0",
      "model_name": "HTMLModel",
      "state": {
       "layout": "IPY_MODEL_70319dbbfc604c329df97545aee31aa1",
       "style": "IPY_MODEL_78605372bb2c404e956744cf065bb3e3",
       "value": "<p style='font-family: IBM Plex Sans, Arial, Helvetica, sans-serif; font-size: 20px; font-weight: medium;'>Circuit Properties</p>"
      }
     },
     "ad7063502408452a873a8117f3766efa": {
      "model_module": "@jupyter-widgets/controls",
      "model_module_version": "1.5.0",
      "model_name": "DescriptionStyleModel",
      "state": {
       "description_width": ""
      }
     },
     "b21374758614463880a7e29af2cafcd0": {
      "model_module": "@jupyter-widgets/controls",
      "model_module_version": "1.5.0",
      "model_name": "HTMLModel",
      "state": {
       "layout": "IPY_MODEL_f7ef8b4d712b49f78df87075435c5d63",
       "style": "IPY_MODEL_c997825a1924414f85232c09efe76f35",
       "value": "<h5>Status</h5>"
      }
     },
     "bd4f20dc405e413485e362e48584fa85": {
      "model_module": "@jupyter-widgets/base",
      "model_module_version": "1.2.0",
      "model_name": "LayoutModel",
      "state": {
       "overflow_x": "scroll"
      }
     },
     "c0bd8b34e6bf42faae8cd76616714dd2": {
      "model_module": "@jupyter-widgets/controls",
      "model_module_version": "1.5.0",
      "model_name": "ButtonStyleModel",
      "state": {
       "button_color": "white"
      }
     },
     "c997825a1924414f85232c09efe76f35": {
      "model_module": "@jupyter-widgets/controls",
      "model_module_version": "1.5.0",
      "model_name": "DescriptionStyleModel",
      "state": {
       "description_width": ""
      }
     },
     "ce6dcc6a45bf420a878c399cba9216ef": {
      "model_module": "@jupyter-widgets/controls",
      "model_module_version": "1.5.0",
      "model_name": "HBoxModel",
      "state": {
       "children": [
        "IPY_MODEL_4b1683ef917e43169d0b5b89d473e8e7",
        "IPY_MODEL_2c3429d4bc674709bbe1b5290423ead7",
        "IPY_MODEL_b21374758614463880a7e29af2cafcd0",
        "IPY_MODEL_ce84c271d2c84935a1d802859ebb3afb",
        "IPY_MODEL_68eb191a2fb0455faf917bbd66d72918"
       ],
       "layout": "IPY_MODEL_18581a70dbae47d88d03ffa30365e6e9"
      }
     },
     "ce84c271d2c84935a1d802859ebb3afb": {
      "model_module": "@jupyter-widgets/controls",
      "model_module_version": "1.5.0",
      "model_name": "HTMLModel",
      "state": {
       "layout": "IPY_MODEL_0aa3972a3e0a41c5824e404cba7e0d91",
       "style": "IPY_MODEL_3d476014bc2e4e9392993e2896646d48",
       "value": "<h5>Queue</h5>"
      }
     },
     "d3549fe511cd4292b87b2e4ee302ad8c": {
      "model_module": "@jupyter-widgets/controls",
      "model_module_version": "1.5.0",
      "model_name": "DescriptionStyleModel",
      "state": {
       "description_width": ""
      }
     },
     "e25a85213fb246b6926434890f9cc3b5": {
      "model_module": "@jupyter-widgets/base",
      "model_module_version": "1.2.0",
      "model_name": "LayoutModel",
      "state": {
       "grid_template_areas": "\n                                       \". . . . right \"\n                                        ",
       "grid_template_columns": "20% 20% 20% 20% 20%",
       "width": "100%"
      }
     },
     "e6209ab6732440f8af41ff0826fc8923": {
      "model_module": "@jupyter-widgets/controls",
      "model_module_version": "1.5.0",
      "model_name": "HTMLModel",
      "state": {
       "layout": "IPY_MODEL_59e3d329a2e64acb95da93f690e7dacb",
       "style": "IPY_MODEL_d3549fe511cd4292b87b2e4ee302ad8c",
       "value": "6152a0b443669a2c93283b64"
      }
     },
     "e64cd162cd8540ca8816859803da11ef": {
      "model_module": "@jupyter-widgets/controls",
      "model_module_version": "1.5.0",
      "model_name": "HTMLModel",
      "state": {
       "layout": "IPY_MODEL_68dd73620f4442589dc5e197736ef925",
       "style": "IPY_MODEL_63674397548d4d268b7fc63ae3d1b67a",
       "value": "<font style='color:#34BC6E'>DONE</font>"
      }
     },
     "e7b38bffeb4546f3bac169b0dbe6f3ed": {
      "model_module": "@jupyter-widgets/controls",
      "model_module_version": "1.5.0",
      "model_name": "HTMLModel",
      "state": {
       "layout": "IPY_MODEL_bd4f20dc405e413485e362e48584fa85",
       "style": "IPY_MODEL_19d690ec6d3045fa83020b60c524da6d",
       "value": "job has successfully run"
      }
     },
     "e86f3a143d35455489b82a449c1f3fcb": {
      "model_module": "@jupyter-widgets/controls",
      "model_module_version": "1.5.0",
      "model_name": "HTMLModel",
      "state": {
       "layout": "IPY_MODEL_5f3a683301be46c39b755896b3b235fd",
       "style": "IPY_MODEL_2995c6cfdc4a481393962395d65a70d0",
       "value": "-"
      }
     },
     "ee48ad3290f742eb8e186aef75714a9b": {
      "model_module": "@jupyter-widgets/base",
      "model_module_version": "1.2.0",
      "model_name": "LayoutModel",
      "state": {}
     },
     "f42cda72f456422a93fd0c06780f117e": {
      "model_module": "@jupyter-widgets/base",
      "model_module_version": "1.2.0",
      "model_name": "LayoutModel",
      "state": {
       "grid_area": "right",
       "padding": "0px 0px 0px 0px",
       "width": "70px"
      }
     },
     "f7ef8b4d712b49f78df87075435c5d63": {
      "model_module": "@jupyter-widgets/base",
      "model_module_version": "1.2.0",
      "model_name": "LayoutModel",
      "state": {
       "width": "95px"
      }
     }
    },
    "version_major": 2,
    "version_minor": 0
   }
  }
 },
 "nbformat": 4,
 "nbformat_minor": 5
}
