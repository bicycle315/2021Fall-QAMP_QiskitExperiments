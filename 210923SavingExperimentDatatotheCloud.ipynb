{
 "cells": [
  {
   "cell_type": "code",
   "execution_count": 1,
   "id": "1e15856c-4282-4d75-bf05-1daba920d900",
   "metadata": {},
   "outputs": [],
   "source": [
    "import numpy as np\n",
    "\n",
    "# Importing standard Qiskit libraries\n",
    "from qiskit import QuantumCircuit, transpile, Aer, IBMQ\n",
    "from qiskit.tools.jupyter import *\n",
    "from qiskit.visualization import *\n",
    "from ibm_quantum_widgets import *\n",
    "from qiskit.providers.aer import QasmSimulator\n",
    "\n",
    "# Loading your IBM Quantum account(s)\n",
    "provider = IBMQ.load_account()"
   ]
  },
  {
   "cell_type": "code",
   "execution_count": 2,
   "id": "b0783bef-8d7e-45e5-b8b0-0818d2689fd4",
   "metadata": {},
   "outputs": [
    {
     "name": "stderr",
     "output_type": "stream",
     "text": [
      "ibmqfactory.load_account:WARNING:2021-09-23 09:01:01,238: Credentials are already in use. The existing account in the session will be replaced.\n"
     ]
    }
   ],
   "source": [
    "from qiskit import IBMQ\n",
    "\n",
    "IBMQ.load_account()\n",
    "provider = IBMQ.get_provider(hub=\"ibm-q\", group=\"open\", project=\"main\")\n",
    "backend = provider.get_backend(\"ibmq_armonk\")"
   ]
  },
  {
   "cell_type": "markdown",
   "id": "6d897e3c-b549-44c1-961b-1cbd81e38e97",
   "metadata": {},
   "source": [
    "# T1 Experiment"
   ]
  },
  {
   "cell_type": "code",
   "execution_count": 3,
   "id": "e0874930-5e98-4dae-9b1c-89c779af5da6",
   "metadata": {},
   "outputs": [
    {
     "name": "stdout",
     "output_type": "stream",
     "text": [
      "     ┌───┐ ░ ┌──────────────┐ ░ ┌─┐\n",
      "q_0: ┤ X ├─░─┤ Delay(0[us]) ├─░─┤M├\n",
      "     └───┘ ░ └──────────────┘ ░ └╥┘\n",
      "c: 1/════════════════════════════╩═\n",
      "                                 0 \n"
     ]
    }
   ],
   "source": [
    "from qiskit_experiments.library.characterization import T1\n",
    "\n",
    "t1_delays = list(range(0, 800, 50))\n",
    "\n",
    "# Create an experiment for qubit 0,\n",
    "# setting the unit to microseconds,\n",
    "# with the specified time intervals\n",
    "exp = T1(qubit=0, delays=t1_delays, unit=\"us\")\n",
    "print(exp.circuits()[0])"
   ]
  },
  {
   "cell_type": "code",
   "execution_count": 4,
   "id": "f329cacf-2150-4c16-a756-b5e869581b19",
   "metadata": {},
   "outputs": [
    {
     "name": "stderr",
     "output_type": "stream",
     "text": [
      "/opt/conda/lib/python3.8/site-packages/scipy/optimize/minpack.py:833: OptimizeWarning: Covariance of the parameters could not be estimated\n",
      "  warnings.warn('Covariance of the parameters could not be estimated',\n",
      "Unable to save the experiment data: Traceback (most recent call last):\n",
      "  File \"/opt/conda/lib/python3.8/site-packages/qiskit_experiments/database_service/utils.py\", line 152, in save_data\n",
      "    return True, new_func(**kwargs)\n",
      "  File \"/opt/conda/lib/python3.8/site-packages/qiskit/providers/ibmq/experiment/ibm_experiment_service.py\", line 631, in create_analysis_result\n",
      "    response = self._api_client.analysis_result_upload(\n",
      "  File \"/opt/conda/lib/python3.8/contextlib.py\", line 131, in __exit__\n",
      "    self.gen.throw(type, value, traceback)\n",
      "  File \"/opt/conda/lib/python3.8/site-packages/qiskit/providers/ibmq/experiment/utils.py\", line 33, in map_api_error\n",
      "    raise IBMQApiError(f\"Failed to process the request: {api_err}\") from None\n",
      "qiskit.providers.ibmq.exceptions.IBMQApiError: 'Failed to process the request: \\'400 Client Error: Bad Request for url: https://api.quantum-computing.ibm.com/resultsdb/analysis_results. {\"errors\":[\"Unexpected token I in JSON at position 291\"]}\\''\n",
      "\n"
     ]
    }
   ],
   "source": [
    "# Run the experiment circuits with 1000 shots each,\n",
    "# and analyze the result\n",
    "\n",
    "t1_expdata = exp.run(backend=backend, shots=1000).block_for_results()\n",
    "t1_expdata.save()"
   ]
  },
  {
   "cell_type": "code",
   "execution_count": 6,
   "id": "c1ebb364-e909-4084-b24b-0942bfbaf91b",
   "metadata": {},
   "outputs": [
    {
     "data": {
      "image/png": "[encoded data removed]",
      "text/plain": [
       "<Figure size 432x288 with 1 Axes>"
      ]
     },
     "metadata": {},
     "output_type": "display_data"
    },
    {
     "name": "stdout",
     "output_type": "stream",
     "text": [
      "DbAnalysisResultV1\n",
      "- name: T1\n",
      "- value: 1.4463585738871076e-06 ± inf s\n",
      "- χ²: 189.8154963380072\n",
      "- quality: bad\n",
      "- extra: <9 items>\n",
      "- device_components: ['Q0']\n",
      "- verified: False\n"
     ]
    }
   ],
   "source": [
    "display(t1_expdata.figure(0))\n",
    "for result in t1_expdata.analysis_results():\n",
    "    print(result)"
   ]
  },
  {
   "cell_type": "markdown",
   "id": "303a94e1-90f8-40a1-9da3-c415d1cc8e27",
   "metadata": {},
   "source": [
    "# Load an experiment from the database"
   ]
  },
  {
   "cell_type": "code",
   "execution_count": 11,
   "id": "02216eec-a5bd-4c67-ad43-da89374e2597",
   "metadata": {},
   "outputs": [],
   "source": [
    "from qiskit_experiments.database_service import DbExperimentDataV1 as DbExperimentData\n",
    "\n",
    "load_exp = DbExperimentData.load(\"429b3f6a-1687-4abc-ac5c-fcaae25e531d\", provider.service(\"experiment\"))"
   ]
  },
  {
   "cell_type": "code",
   "execution_count": 12,
   "id": "5b311c58-af25-4bfe-b148-1a88af832ee3",
   "metadata": {},
   "outputs": [
    {
     "data": {
      "image/svg+xml": [
       "<svg xmlns=\"http://www.w3.org/2000/svg\" xmlns:xlink=\"http://www.w3.org/1999/xlink\" height=\"290.031875pt\" version=\"1.1\" viewBox=\"0 0 397.949375 290.031875\" width=\"397.949375pt\">\n",
       " <metadata>\n",
       "  <rdf:RDF xmlns:cc=\"http://creativecommons.org/ns#\" xmlns:dc=\"http://purl.org/dc/elements/1.1/\" xmlns:rdf=\"http://www.w3.org/1999/02/22-rdf-syntax-ns#\">\n",
       "   <cc:Work>\n",
       "    <dc:type rdf:resource=\"http://purl.org/dc/dcmitype/StillImage\"/>\n",
       "    <dc:date>2021-09-23T09:09:37.970790</dc:date>\n",
       "    <dc:format>image/svg+xml</dc:format>\n",
       "    <dc:creator>\n",
       "     <cc:Agent>\n",
       "      <dc:title>Matplotlib v3.4.3, https://matplotlib.org/</dc:title>\n",
       "     </cc:Agent>\n",
       "    </dc:creator>\n",
       "   </cc:Work>\n",
       "  </rdf:RDF>\n",
       " </metadata>\n",
       " <defs>\n",
       "  <style type=\"text/css\">*{stroke-linecap:butt;stroke-linejoin:round;}</style>\n",
       " </defs>\n",
       " <g id=\"figure_1\">\n",
       "  <g id=\"patch_1\">\n",
       "   <path d=\"M -0 290.031875  L 397.949375 290.031875  L 397.949375 0  L -0 0  z \" style=\"fill:#ffffff;\"/>\n",
       "  </g>\n",
       "  <g id=\"axes_1\">\n",
       "   <g id=\"patch_2\">\n",
       "    <path d=\"M 55.949375 242.7975  L 390.749375 242.7975  L 390.749375 25.3575  L 55.949375 25.3575  z \" style=\"fill:#ffffff;\"/>\n",
       "   </g>\n",
       "   <g id=\"PolyCollection_1\"/>\n",
       "   <g id=\"matplotlib.axis_1\">\n",
       "    <g id=\"xtick_1\">\n",
       "     <g id=\"line2d_1\">\n",
       "      <path clip-path=\"url(#p3942d0efae)\" d=\"M 71.167557 242.7975  L 71.167557 25.3575  \" style=\"fill:none;stroke:#b0b0b0;stroke-linecap:square;stroke-width:0.8;\"/>\n",
       "     </g>\n",
       "     <g id=\"line2d_2\">\n",
       "      <defs>\n",
       "       <path d=\"M 0 0  L 0 3.5  \" id=\"mbf374d24a8\" style=\"stroke:#000000;stroke-width:0.8;\"/>\n",
       "      </defs>\n",
       "      <g>\n",
       "       <use style=\"stroke:#000000;stroke-width:0.8;\" x=\"71.167557\" xlink:href=\"#mbf374d24a8\" y=\"242.7975\"/>\n",
       "      </g>\n",
       "     </g>\n",
       "     <g id=\"text_1\">\n",
       "      <!-- 0.0000 -->\n",
       "      <g transform=\"translate(46.674119 260.435313)scale(0.14 -0.14)\">\n",
       "       <defs>\n",
       "        <path d=\"M 2034 4250  Q 1547 4250 1301 3770  Q 1056 3291 1056 2328  Q 1056 1369 1301 889  Q 1547 409 2034 409  Q 2525 409 2770 889  Q 3016 1369 3016 2328  Q 3016 3291 2770 3770  Q 2525 4250 2034 4250  z M 2034 4750  Q 2819 4750 3233 4129  Q 3647 3509 3647 2328  Q 3647 1150 3233 529  Q 2819 -91 2034 -91  Q 1250 -91 836 529  Q 422 1150 422 2328  Q 422 3509 836 4129  Q 1250 4750 2034 4750  z \" id=\"DejaVuSans-30\" transform=\"scale(0.015625)\"/>\n",
       "        <path d=\"M 684 794  L 1344 794  L 1344 0  L 684 0  L 684 794  z \" id=\"DejaVuSans-2e\" transform=\"scale(0.015625)\"/>\n",
       "       </defs>\n",
       "       <use xlink:href=\"#DejaVuSans-30\"/>\n",
       "       <use x=\"63.623047\" xlink:href=\"#DejaVuSans-2e\"/>\n",
       "       <use x=\"95.410156\" xlink:href=\"#DejaVuSans-30\"/>\n",
       "       <use x=\"159.033203\" xlink:href=\"#DejaVuSans-30\"/>\n",
       "       <use x=\"222.65625\" xlink:href=\"#DejaVuSans-30\"/>\n",
       "       <use x=\"286.279297\" xlink:href=\"#DejaVuSans-30\"/>\n",
       "      </g>\n",
       "     </g>\n",
       "    </g>\n",
       "    <g id=\"xtick_2\">\n",
       "     <g id=\"line2d_3\">\n",
       "      <path clip-path=\"url(#p3942d0efae)\" d=\"M 152.331193 242.7975  L 152.331193 25.3575  \" style=\"fill:none;stroke:#b0b0b0;stroke-linecap:square;stroke-width:0.8;\"/>\n",
       "     </g>\n",
       "     <g id=\"line2d_4\">\n",
       "      <g>\n",
       "       <use style=\"stroke:#000000;stroke-width:0.8;\" x=\"152.331193\" xlink:href=\"#mbf374d24a8\" y=\"242.7975\"/>\n",
       "      </g>\n",
       "     </g>\n",
       "     <g id=\"text_2\">\n",
       "      <!-- 0.0002 -->\n",
       "      <g transform=\"translate(127.837756 260.435313)scale(0.14 -0.14)\">\n",
       "       <defs>\n",
       "        <path d=\"M 1228 531  L 3431 531  L 3431 0  L 469 0  L 469 531  Q 828 903 1448 1529  Q 2069 2156 2228 2338  Q 2531 2678 2651 2914  Q 2772 3150 2772 3378  Q 2772 3750 2511 3984  Q 2250 4219 1831 4219  Q 1534 4219 1204 4116  Q 875 4013 500 3803  L 500 4441  Q 881 4594 1212 4672  Q 1544 4750 1819 4750  Q 2544 4750 2975 4387  Q 3406 4025 3406 3419  Q 3406 3131 3298 2873  Q 3191 2616 2906 2266  Q 2828 2175 2409 1742  Q 1991 1309 1228 531  z \" id=\"DejaVuSans-32\" transform=\"scale(0.015625)\"/>\n",
       "       </defs>\n",
       "       <use xlink:href=\"#DejaVuSans-30\"/>\n",
       "       <use x=\"63.623047\" xlink:href=\"#DejaVuSans-2e\"/>\n",
       "       <use x=\"95.410156\" xlink:href=\"#DejaVuSans-30\"/>\n",
       "       <use x=\"159.033203\" xlink:href=\"#DejaVuSans-30\"/>\n",
       "       <use x=\"222.65625\" xlink:href=\"#DejaVuSans-30\"/>\n",
       "       <use x=\"286.279297\" xlink:href=\"#DejaVuSans-32\"/>\n",
       "      </g>\n",
       "     </g>\n",
       "    </g>\n",
       "    <g id=\"xtick_3\">\n",
       "     <g id=\"line2d_5\">\n",
       "      <path clip-path=\"url(#p3942d0efae)\" d=\"M 233.49483 242.7975  L 233.49483 25.3575  \" style=\"fill:none;stroke:#b0b0b0;stroke-linecap:square;stroke-width:0.8;\"/>\n",
       "     </g>\n",
       "     <g id=\"line2d_6\">\n",
       "      <g>\n",
       "       <use style=\"stroke:#000000;stroke-width:0.8;\" x=\"233.49483\" xlink:href=\"#mbf374d24a8\" y=\"242.7975\"/>\n",
       "      </g>\n",
       "     </g>\n",
       "     <g id=\"text_3\">\n",
       "      <!-- 0.0004 -->\n",
       "      <g transform=\"translate(209.001392 260.435313)scale(0.14 -0.14)\">\n",
       "       <defs>\n",
       "        <path d=\"M 2419 4116  L 825 1625  L 2419 1625  L 2419 4116  z M 2253 4666  L 3047 4666  L 3047 1625  L 3713 1625  L 3713 1100  L 3047 1100  L 3047 0  L 2419 0  L 2419 1100  L 313 1100  L 313 1709  L 2253 4666  z \" id=\"DejaVuSans-34\" transform=\"scale(0.015625)\"/>\n",
       "       </defs>\n",
       "       <use xlink:href=\"#DejaVuSans-30\"/>\n",
       "       <use x=\"63.623047\" xlink:href=\"#DejaVuSans-2e\"/>\n",
       "       <use x=\"95.410156\" xlink:href=\"#DejaVuSans-30\"/>\n",
       "       <use x=\"159.033203\" xlink:href=\"#DejaVuSans-30\"/>\n",
       "       <use x=\"222.65625\" xlink:href=\"#DejaVuSans-30\"/>\n",
       "       <use x=\"286.279297\" xlink:href=\"#DejaVuSans-34\"/>\n",
       "      </g>\n",
       "     </g>\n",
       "    </g>\n",
       "    <g id=\"xtick_4\">\n",
       "     <g id=\"line2d_7\">\n",
       "      <path clip-path=\"url(#p3942d0efae)\" d=\"M 314.658466 242.7975  L 314.658466 25.3575  \" style=\"fill:none;stroke:#b0b0b0;stroke-linecap:square;stroke-width:0.8;\"/>\n",
       "     </g>\n",
       "     <g id=\"line2d_8\">\n",
       "      <g>\n",
       "       <use style=\"stroke:#000000;stroke-width:0.8;\" x=\"314.658466\" xlink:href=\"#mbf374d24a8\" y=\"242.7975\"/>\n",
       "      </g>\n",
       "     </g>\n",
       "     <g id=\"text_4\">\n",
       "      <!-- 0.0006 -->\n",
       "      <g transform=\"translate(290.165028 260.435313)scale(0.14 -0.14)\">\n",
       "       <defs>\n",
       "        <path d=\"M 2113 2584  Q 1688 2584 1439 2293  Q 1191 2003 1191 1497  Q 1191 994 1439 701  Q 1688 409 2113 409  Q 2538 409 2786 701  Q 3034 994 3034 1497  Q 3034 2003 2786 2293  Q 2538 2584 2113 2584  z M 3366 4563  L 3366 3988  Q 3128 4100 2886 4159  Q 2644 4219 2406 4219  Q 1781 4219 1451 3797  Q 1122 3375 1075 2522  Q 1259 2794 1537 2939  Q 1816 3084 2150 3084  Q 2853 3084 3261 2657  Q 3669 2231 3669 1497  Q 3669 778 3244 343  Q 2819 -91 2113 -91  Q 1303 -91 875 529  Q 447 1150 447 2328  Q 447 3434 972 4092  Q 1497 4750 2381 4750  Q 2619 4750 2861 4703  Q 3103 4656 3366 4563  z \" id=\"DejaVuSans-36\" transform=\"scale(0.015625)\"/>\n",
       "       </defs>\n",
       "       <use xlink:href=\"#DejaVuSans-30\"/>\n",
       "       <use x=\"63.623047\" xlink:href=\"#DejaVuSans-2e\"/>\n",
       "       <use x=\"95.410156\" xlink:href=\"#DejaVuSans-30\"/>\n",
       "       <use x=\"159.033203\" xlink:href=\"#DejaVuSans-30\"/>\n",
       "       <use x=\"222.65625\" xlink:href=\"#DejaVuSans-30\"/>\n",
       "       <use x=\"286.279297\" xlink:href=\"#DejaVuSans-36\"/>\n",
       "      </g>\n",
       "     </g>\n",
       "    </g>\n",
       "    <g id=\"text_5\">\n",
       "     <!-- Delay (s) -->\n",
       "     <g transform=\"translate(187.454375 279.504375)scale(0.16 -0.16)\">\n",
       "      <defs>\n",
       "       <path d=\"M 1259 4147  L 1259 519  L 2022 519  Q 2988 519 3436 956  Q 3884 1394 3884 2338  Q 3884 3275 3436 3711  Q 2988 4147 2022 4147  L 1259 4147  z M 628 4666  L 1925 4666  Q 3281 4666 3915 4102  Q 4550 3538 4550 2338  Q 4550 1131 3912 565  Q 3275 0 1925 0  L 628 0  L 628 4666  z \" id=\"DejaVuSans-44\" transform=\"scale(0.015625)\"/>\n",
       "       <path d=\"M 3597 1894  L 3597 1613  L 953 1613  Q 991 1019 1311 708  Q 1631 397 2203 397  Q 2534 397 2845 478  Q 3156 559 3463 722  L 3463 178  Q 3153 47 2828 -22  Q 2503 -91 2169 -91  Q 1331 -91 842 396  Q 353 884 353 1716  Q 353 2575 817 3079  Q 1281 3584 2069 3584  Q 2775 3584 3186 3129  Q 3597 2675 3597 1894  z M 3022 2063  Q 3016 2534 2758 2815  Q 2500 3097 2075 3097  Q 1594 3097 1305 2825  Q 1016 2553 972 2059  L 3022 2063  z \" id=\"DejaVuSans-65\" transform=\"scale(0.015625)\"/>\n",
       "       <path d=\"M 603 4863  L 1178 4863  L 1178 0  L 603 0  L 603 4863  z \" id=\"DejaVuSans-6c\" transform=\"scale(0.015625)\"/>\n",
       "       <path d=\"M 2194 1759  Q 1497 1759 1228 1600  Q 959 1441 959 1056  Q 959 750 1161 570  Q 1363 391 1709 391  Q 2188 391 2477 730  Q 2766 1069 2766 1631  L 2766 1759  L 2194 1759  z M 3341 1997  L 3341 0  L 2766 0  L 2766 531  Q 2569 213 2275 61  Q 1981 -91 1556 -91  Q 1019 -91 701 211  Q 384 513 384 1019  Q 384 1609 779 1909  Q 1175 2209 1959 2209  L 2766 2209  L 2766 2266  Q 2766 2663 2505 2880  Q 2244 3097 1772 3097  Q 1472 3097 1187 3025  Q 903 2953 641 2809  L 641 3341  Q 956 3463 1253 3523  Q 1550 3584 1831 3584  Q 2591 3584 2966 3190  Q 3341 2797 3341 1997  z \" id=\"DejaVuSans-61\" transform=\"scale(0.015625)\"/>\n",
       "       <path d=\"M 2059 -325  Q 1816 -950 1584 -1140  Q 1353 -1331 966 -1331  L 506 -1331  L 506 -850  L 844 -850  Q 1081 -850 1212 -737  Q 1344 -625 1503 -206  L 1606 56  L 191 3500  L 800 3500  L 1894 763  L 2988 3500  L 3597 3500  L 2059 -325  z \" id=\"DejaVuSans-79\" transform=\"scale(0.015625)\"/>\n",
       "       <path id=\"DejaVuSans-20\" transform=\"scale(0.015625)\"/>\n",
       "       <path d=\"M 1984 4856  Q 1566 4138 1362 3434  Q 1159 2731 1159 2009  Q 1159 1288 1364 580  Q 1569 -128 1984 -844  L 1484 -844  Q 1016 -109 783 600  Q 550 1309 550 2009  Q 550 2706 781 3412  Q 1013 4119 1484 4856  L 1984 4856  z \" id=\"DejaVuSans-28\" transform=\"scale(0.015625)\"/>\n",
       "       <path d=\"M 2834 3397  L 2834 2853  Q 2591 2978 2328 3040  Q 2066 3103 1784 3103  Q 1356 3103 1142 2972  Q 928 2841 928 2578  Q 928 2378 1081 2264  Q 1234 2150 1697 2047  L 1894 2003  Q 2506 1872 2764 1633  Q 3022 1394 3022 966  Q 3022 478 2636 193  Q 2250 -91 1575 -91  Q 1294 -91 989 -36  Q 684 19 347 128  L 347 722  Q 666 556 975 473  Q 1284 391 1588 391  Q 1994 391 2212 530  Q 2431 669 2431 922  Q 2431 1156 2273 1281  Q 2116 1406 1581 1522  L 1381 1569  Q 847 1681 609 1914  Q 372 2147 372 2553  Q 372 3047 722 3315  Q 1072 3584 1716 3584  Q 2034 3584 2315 3537  Q 2597 3491 2834 3397  z \" id=\"DejaVuSans-73\" transform=\"scale(0.015625)\"/>\n",
       "       <path d=\"M 513 4856  L 1013 4856  Q 1481 4119 1714 3412  Q 1947 2706 1947 2009  Q 1947 1309 1714 600  Q 1481 -109 1013 -844  L 513 -844  Q 928 -128 1133 580  Q 1338 1288 1338 2009  Q 1338 2731 1133 3434  Q 928 4138 513 4856  z \" id=\"DejaVuSans-29\" transform=\"scale(0.015625)\"/>\n",
       "      </defs>\n",
       "      <use xlink:href=\"#DejaVuSans-44\"/>\n",
       "      <use x=\"77.001953\" xlink:href=\"#DejaVuSans-65\"/>\n",
       "      <use x=\"138.525391\" xlink:href=\"#DejaVuSans-6c\"/>\n",
       "      <use x=\"166.308594\" xlink:href=\"#DejaVuSans-61\"/>\n",
       "      <use x=\"227.587891\" xlink:href=\"#DejaVuSans-79\"/>\n",
       "      <use x=\"286.767578\" xlink:href=\"#DejaVuSans-20\"/>\n",
       "      <use x=\"318.554688\" xlink:href=\"#DejaVuSans-28\"/>\n",
       "      <use x=\"357.568359\" xlink:href=\"#DejaVuSans-73\"/>\n",
       "      <use x=\"409.667969\" xlink:href=\"#DejaVuSans-29\"/>\n",
       "     </g>\n",
       "    </g>\n",
       "   </g>\n",
       "   <g id=\"matplotlib.axis_2\">\n",
       "    <g id=\"ytick_1\">\n",
       "     <g id=\"line2d_9\">\n",
       "      <path clip-path=\"url(#p3942d0efae)\" d=\"M 55.949375 205.119448  L 390.749375 205.119448  \" style=\"fill:none;stroke:#b0b0b0;stroke-linecap:square;stroke-width:0.8;\"/>\n",
       "     </g>\n",
       "     <g id=\"line2d_10\">\n",
       "      <defs>\n",
       "       <path d=\"M 0 0  L -3.5 0  \" id=\"mf6fbcd67be\" style=\"stroke:#000000;stroke-width:0.8;\"/>\n",
       "      </defs>\n",
       "      <g>\n",
       "       <use style=\"stroke:#000000;stroke-width:0.8;\" x=\"55.949375\" xlink:href=\"#mf6fbcd67be\" y=\"205.119448\"/>\n",
       "      </g>\n",
       "     </g>\n",
       "     <g id=\"text_6\">\n",
       "      <!-- 0.2 -->\n",
       "      <g transform=\"translate(26.685 210.438354)scale(0.14 -0.14)\">\n",
       "       <use xlink:href=\"#DejaVuSans-30\"/>\n",
       "       <use x=\"63.623047\" xlink:href=\"#DejaVuSans-2e\"/>\n",
       "       <use x=\"95.410156\" xlink:href=\"#DejaVuSans-32\"/>\n",
       "      </g>\n",
       "     </g>\n",
       "    </g>\n",
       "    <g id=\"ytick_2\">\n",
       "     <g id=\"line2d_11\">\n",
       "      <path clip-path=\"url(#p3942d0efae)\" d=\"M 55.949375 158.42571  L 390.749375 158.42571  \" style=\"fill:none;stroke:#b0b0b0;stroke-linecap:square;stroke-width:0.8;\"/>\n",
       "     </g>\n",
       "     <g id=\"line2d_12\">\n",
       "      <g>\n",
       "       <use style=\"stroke:#000000;stroke-width:0.8;\" x=\"55.949375\" xlink:href=\"#mf6fbcd67be\" y=\"158.42571\"/>\n",
       "      </g>\n",
       "     </g>\n",
       "     <g id=\"text_7\">\n",
       "      <!-- 0.4 -->\n",
       "      <g transform=\"translate(26.685 163.744616)scale(0.14 -0.14)\">\n",
       "       <use xlink:href=\"#DejaVuSans-30\"/>\n",
       "       <use x=\"63.623047\" xlink:href=\"#DejaVuSans-2e\"/>\n",
       "       <use x=\"95.410156\" xlink:href=\"#DejaVuSans-34\"/>\n",
       "      </g>\n",
       "     </g>\n",
       "    </g>\n",
       "    <g id=\"ytick_3\">\n",
       "     <g id=\"line2d_13\">\n",
       "      <path clip-path=\"url(#p3942d0efae)\" d=\"M 55.949375 111.731971  L 390.749375 111.731971  \" style=\"fill:none;stroke:#b0b0b0;stroke-linecap:square;stroke-width:0.8;\"/>\n",
       "     </g>\n",
       "     <g id=\"line2d_14\">\n",
       "      <g>\n",
       "       <use style=\"stroke:#000000;stroke-width:0.8;\" x=\"55.949375\" xlink:href=\"#mf6fbcd67be\" y=\"111.731971\"/>\n",
       "      </g>\n",
       "     </g>\n",
       "     <g id=\"text_8\">\n",
       "      <!-- 0.6 -->\n",
       "      <g transform=\"translate(26.685 117.050877)scale(0.14 -0.14)\">\n",
       "       <use xlink:href=\"#DejaVuSans-30\"/>\n",
       "       <use x=\"63.623047\" xlink:href=\"#DejaVuSans-2e\"/>\n",
       "       <use x=\"95.410156\" xlink:href=\"#DejaVuSans-36\"/>\n",
       "      </g>\n",
       "     </g>\n",
       "    </g>\n",
       "    <g id=\"ytick_4\">\n",
       "     <g id=\"line2d_15\">\n",
       "      <path clip-path=\"url(#p3942d0efae)\" d=\"M 55.949375 65.038233  L 390.749375 65.038233  \" style=\"fill:none;stroke:#b0b0b0;stroke-linecap:square;stroke-width:0.8;\"/>\n",
       "     </g>\n",
       "     <g id=\"line2d_16\">\n",
       "      <g>\n",
       "       <use style=\"stroke:#000000;stroke-width:0.8;\" x=\"55.949375\" xlink:href=\"#mf6fbcd67be\" y=\"65.038233\"/>\n",
       "      </g>\n",
       "     </g>\n",
       "     <g id=\"text_9\">\n",
       "      <!-- 0.8 -->\n",
       "      <g transform=\"translate(26.685 70.357139)scale(0.14 -0.14)\">\n",
       "       <defs>\n",
       "        <path d=\"M 2034 2216  Q 1584 2216 1326 1975  Q 1069 1734 1069 1313  Q 1069 891 1326 650  Q 1584 409 2034 409  Q 2484 409 2743 651  Q 3003 894 3003 1313  Q 3003 1734 2745 1975  Q 2488 2216 2034 2216  z M 1403 2484  Q 997 2584 770 2862  Q 544 3141 544 3541  Q 544 4100 942 4425  Q 1341 4750 2034 4750  Q 2731 4750 3128 4425  Q 3525 4100 3525 3541  Q 3525 3141 3298 2862  Q 3072 2584 2669 2484  Q 3125 2378 3379 2068  Q 3634 1759 3634 1313  Q 3634 634 3220 271  Q 2806 -91 2034 -91  Q 1263 -91 848 271  Q 434 634 434 1313  Q 434 1759 690 2068  Q 947 2378 1403 2484  z M 1172 3481  Q 1172 3119 1398 2916  Q 1625 2713 2034 2713  Q 2441 2713 2670 2916  Q 2900 3119 2900 3481  Q 2900 3844 2670 4047  Q 2441 4250 2034 4250  Q 1625 4250 1398 4047  Q 1172 3844 1172 3481  z \" id=\"DejaVuSans-38\" transform=\"scale(0.015625)\"/>\n",
       "       </defs>\n",
       "       <use xlink:href=\"#DejaVuSans-30\"/>\n",
       "       <use x=\"63.623047\" xlink:href=\"#DejaVuSans-2e\"/>\n",
       "       <use x=\"95.410156\" xlink:href=\"#DejaVuSans-38\"/>\n",
       "      </g>\n",
       "     </g>\n",
       "    </g>\n",
       "    <g id=\"text_10\">\n",
       "     <!-- P(1) -->\n",
       "     <g transform=\"translate(19.3575 150.23375)rotate(-90)scale(0.16 -0.16)\">\n",
       "      <defs>\n",
       "       <path d=\"M 1259 4147  L 1259 2394  L 2053 2394  Q 2494 2394 2734 2622  Q 2975 2850 2975 3272  Q 2975 3691 2734 3919  Q 2494 4147 2053 4147  L 1259 4147  z M 628 4666  L 2053 4666  Q 2838 4666 3239 4311  Q 3641 3956 3641 3272  Q 3641 2581 3239 2228  Q 2838 1875 2053 1875  L 1259 1875  L 1259 0  L 628 0  L 628 4666  z \" id=\"DejaVuSans-50\" transform=\"scale(0.015625)\"/>\n",
       "       <path d=\"M 794 531  L 1825 531  L 1825 4091  L 703 3866  L 703 4441  L 1819 4666  L 2450 4666  L 2450 531  L 3481 531  L 3481 0  L 794 0  L 794 531  z \" id=\"DejaVuSans-31\" transform=\"scale(0.015625)\"/>\n",
       "      </defs>\n",
       "      <use xlink:href=\"#DejaVuSans-50\"/>\n",
       "      <use x=\"60.302734\" xlink:href=\"#DejaVuSans-28\"/>\n",
       "      <use x=\"99.316406\" xlink:href=\"#DejaVuSans-31\"/>\n",
       "      <use x=\"162.939453\" xlink:href=\"#DejaVuSans-29\"/>\n",
       "     </g>\n",
       "    </g>\n",
       "   </g>\n",
       "   <g id=\"LineCollection_1\">\n",
       "    <path clip-path=\"url(#p3942d0efae)\" d=\"M 71.167557 39.269781  L 71.167557 35.241136  \" style=\"fill:none;stroke:#ff0000;stroke-width:1.5;\"/>\n",
       "    <path clip-path=\"url(#p3942d0efae)\" d=\"M 91.458466 92.951601  L 91.458466 86.15329  \" style=\"fill:none;stroke:#ff0000;stroke-width:1.5;\"/>\n",
       "    <path clip-path=\"url(#p3942d0efae)\" d=\"M 111.749375 129.653779  L 111.749375 122.293344  \" style=\"fill:none;stroke:#ff0000;stroke-width:1.5;\"/>\n",
       "    <path clip-path=\"url(#p3942d0efae)\" d=\"M 132.040284 157.632507  L 132.040284 150.347102  \" style=\"fill:none;stroke:#ff0000;stroke-width:1.5;\"/>\n",
       "    <path clip-path=\"url(#p3942d0efae)\" d=\"M 152.331193 177.085846  L 152.331193 170.116503  \" style=\"fill:none;stroke:#ff0000;stroke-width:1.5;\"/>\n",
       "    <path clip-path=\"url(#p3942d0efae)\" d=\"M 172.622102 184.234723  L 172.622102 177.442685  \" style=\"fill:none;stroke:#ff0000;stroke-width:1.5;\"/>\n",
       "    <path clip-path=\"url(#p3942d0efae)\" d=\"M 192.913011 194.808546  L 192.913011 188.347982  \" style=\"fill:none;stroke:#ff0000;stroke-width:1.5;\"/>\n",
       "    <path clip-path=\"url(#p3942d0efae)\" d=\"M 213.20392 207.616699  L 213.20392 201.688322  \" style=\"fill:none;stroke:#ff0000;stroke-width:1.5;\"/>\n",
       "    <path clip-path=\"url(#p3942d0efae)\" d=\"M 233.49483 210.350464  L 233.49483 204.557806  \" style=\"fill:none;stroke:#ff0000;stroke-width:1.5;\"/>\n",
       "    <path clip-path=\"url(#p3942d0efae)\" d=\"M 253.785739 217.61799  L 253.785739 212.232276  \" style=\"fill:none;stroke:#ff0000;stroke-width:1.5;\"/>\n",
       "    <path clip-path=\"url(#p3942d0efae)\" d=\"M 274.076648 220.559761  L 274.076648 215.360691  \" style=\"fill:none;stroke:#ff0000;stroke-width:1.5;\"/>\n",
       "    <path clip-path=\"url(#p3942d0efae)\" d=\"M 294.367557 225.071274  L 294.367557 220.187926  \" style=\"fill:none;stroke:#ff0000;stroke-width:1.5;\"/>\n",
       "    <path clip-path=\"url(#p3942d0efae)\" d=\"M 314.658466 229.114197  L 314.658466 224.549876  \" style=\"fill:none;stroke:#ff0000;stroke-width:1.5;\"/>\n",
       "    <path clip-path=\"url(#p3942d0efae)\" d=\"M 334.949375 227.768606  L 334.949375 223.093842  \" style=\"fill:none;stroke:#ff0000;stroke-width:1.5;\"/>\n",
       "    <path clip-path=\"url(#p3942d0efae)\" d=\"M 355.240284 229.786159  L 355.240284 225.278726  \" style=\"fill:none;stroke:#ff0000;stroke-width:1.5;\"/>\n",
       "    <path clip-path=\"url(#p3942d0efae)\" d=\"M 375.531193 232.913864  L 375.531193 228.688145  \" style=\"fill:none;stroke:#ff0000;stroke-width:1.5;\"/>\n",
       "   </g>\n",
       "   <g id=\"line2d_17\">\n",
       "    <path clip-path=\"url(#p3942d0efae)\" d=\"M 71.167557 37.255459  L 74.241937 203.610486  L 77.316317 204.49414  L 80.390697 204.498834  L 83.465077 204.498859  L 86.539458 204.498859  L 89.613838 204.498859  L 92.688218 204.498859  L 95.762598 204.498859  L 98.836978 204.498859  L 101.911358 204.498859  L 104.985739 204.498859  L 108.060119 204.498859  L 111.134499 204.498859  L 114.208879 204.498859  L 117.283259 204.498859  L 120.357639 204.498859  L 123.43202 204.498859  L 126.5064 204.498859  L 129.58078 204.498859  L 132.65516 204.498859  L 135.72954 204.498859  L 138.80392 204.498859  L 141.878301 204.498859  L 144.952681 204.498859  L 148.027061 204.498859  L 151.101441 204.498859  L 154.175821 204.498859  L 157.250201 204.498859  L 160.324582 204.498859  L 163.398962 204.498859  L 166.473342 204.498859  L 169.547722 204.498859  L 172.622102 204.498859  L 175.696482 204.498859  L 178.770863 204.498859  L 181.845243 204.498859  L 184.919623 204.498859  L 187.994003 204.498859  L 191.068383 204.498859  L 194.142763 204.498859  L 197.217144 204.498859  L 200.291524 204.498859  L 203.365904 204.498859  L 206.440284 204.498859  L 209.514664 204.498859  L 212.589044 204.498859  L 215.663425 204.498859  L 218.737805 204.498859  L 221.812185 204.498859  L 224.886565 204.498859  L 227.960945 204.498859  L 231.035325 204.498859  L 234.109706 204.498859  L 237.184086 204.498859  L 240.258466 204.498859  L 243.332846 204.498859  L 246.407226 204.498859  L 249.481606 204.498859  L 252.555987 204.498859  L 255.630367 204.498859  L 258.704747 204.498859  L 261.779127 204.498859  L 264.853507 204.498859  L 267.927887 204.498859  L 271.002268 204.498859  L 274.076648 204.498859  L 277.151028 204.498859  L 280.225408 204.498859  L 283.299788 204.498859  L 286.374168 204.498859  L 289.448549 204.498859  L 292.522929 204.498859  L 295.597309 204.498859  L 298.671689 204.498859  L 301.746069 204.498859  L 304.820449 204.498859  L 307.89483 204.498859  L 310.96921 204.498859  L 314.04359 204.498859  L 317.11797 204.498859  L 320.19235 204.498859  L 323.26673 204.498859  L 326.341111 204.498859  L 329.415491 204.498859  L 332.489871 204.498859  L 335.564251 204.498859  L 338.638631 204.498859  L 341.713011 204.498859  L 344.787392 204.498859  L 347.861772 204.498859  L 350.936152 204.498859  L 354.010532 204.498859  L 357.084912 204.498859  L 360.159292 204.498859  L 363.233673 204.498859  L 366.308053 204.498859  L 369.382433 204.498859  L 372.456813 204.498859  L 375.531193 204.498859  \" style=\"fill:none;stroke:#0000ff;stroke-linecap:square;stroke-width:2;\"/>\n",
       "   </g>\n",
       "   <g id=\"line2d_18\">\n",
       "    <defs>\n",
       "     <path d=\"M 0 2.25  C 0.596707 2.25 1.169055 2.012926 1.59099 1.59099  C 2.012926 1.169055 2.25 0.596707 2.25 0  C 2.25 -0.596707 2.012926 -1.169055 1.59099 -1.59099  C 1.169055 -2.012926 0.596707 -2.25 0 -2.25  C -0.596707 -2.25 -1.169055 -2.012926 -1.59099 -1.59099  C -2.012926 -1.169055 -2.25 -0.596707 -2.25 0  C -2.25 0.596707 -2.012926 1.169055 -1.59099 1.59099  C -1.169055 2.012926 -0.596707 2.25 0 2.25  z \" id=\"ma1337c796b\" style=\"stroke:#ff0000;\"/>\n",
       "    </defs>\n",
       "    <g clip-path=\"url(#p3942d0efae)\">\n",
       "     <use style=\"fill:#ff0000;stroke:#ff0000;\" x=\"71.167557\" xlink:href=\"#ma1337c796b\" y=\"37.255458\"/>\n",
       "     <use style=\"fill:#ff0000;stroke:#ff0000;\" x=\"91.458466\" xlink:href=\"#ma1337c796b\" y=\"89.552445\"/>\n",
       "     <use style=\"fill:#ff0000;stroke:#ff0000;\" x=\"111.749375\" xlink:href=\"#ma1337c796b\" y=\"125.973561\"/>\n",
       "     <use style=\"fill:#ff0000;stroke:#ff0000;\" x=\"132.040284\" xlink:href=\"#ma1337c796b\" y=\"153.989805\"/>\n",
       "     <use style=\"fill:#ff0000;stroke:#ff0000;\" x=\"152.331193\" xlink:href=\"#ma1337c796b\" y=\"173.601175\"/>\n",
       "     <use style=\"fill:#ff0000;stroke:#ff0000;\" x=\"172.622102\" xlink:href=\"#ma1337c796b\" y=\"180.838704\"/>\n",
       "     <use style=\"fill:#ff0000;stroke:#ff0000;\" x=\"192.913011\" xlink:href=\"#ma1337c796b\" y=\"191.578264\"/>\n",
       "     <use style=\"fill:#ff0000;stroke:#ff0000;\" x=\"213.20392\" xlink:href=\"#ma1337c796b\" y=\"204.652511\"/>\n",
       "     <use style=\"fill:#ff0000;stroke:#ff0000;\" x=\"233.49483\" xlink:href=\"#ma1337c796b\" y=\"207.454135\"/>\n",
       "     <use style=\"fill:#ff0000;stroke:#ff0000;\" x=\"253.785739\" xlink:href=\"#ma1337c796b\" y=\"214.925133\"/>\n",
       "     <use style=\"fill:#ff0000;stroke:#ff0000;\" x=\"274.076648\" xlink:href=\"#ma1337c796b\" y=\"217.960226\"/>\n",
       "     <use style=\"fill:#ff0000;stroke:#ff0000;\" x=\"294.367557\" xlink:href=\"#ma1337c796b\" y=\"222.6296\"/>\n",
       "     <use style=\"fill:#ff0000;stroke:#ff0000;\" x=\"314.658466\" xlink:href=\"#ma1337c796b\" y=\"226.832036\"/>\n",
       "     <use style=\"fill:#ff0000;stroke:#ff0000;\" x=\"334.949375\" xlink:href=\"#ma1337c796b\" y=\"225.431224\"/>\n",
       "     <use style=\"fill:#ff0000;stroke:#ff0000;\" x=\"355.240284\" xlink:href=\"#ma1337c796b\" y=\"227.532443\"/>\n",
       "     <use style=\"fill:#ff0000;stroke:#ff0000;\" x=\"375.531193\" xlink:href=\"#ma1337c796b\" y=\"230.801004\"/>\n",
       "    </g>\n",
       "   </g>\n",
       "   <g id=\"patch_3\">\n",
       "    <path d=\"M 55.949375 242.7975  L 55.949375 25.3575  \" style=\"fill:none;stroke:#000000;stroke-linecap:square;stroke-linejoin:miter;stroke-width:0.8;\"/>\n",
       "   </g>\n",
       "   <g id=\"patch_4\">\n",
       "    <path d=\"M 390.749375 242.7975  L 390.749375 25.3575  \" style=\"fill:none;stroke:#000000;stroke-linecap:square;stroke-linejoin:miter;stroke-width:0.8;\"/>\n",
       "   </g>\n",
       "   <g id=\"patch_5\">\n",
       "    <path d=\"M 55.949375 242.7975  L 390.749375 242.7975  \" style=\"fill:none;stroke:#000000;stroke-linecap:square;stroke-linejoin:miter;stroke-width:0.8;\"/>\n",
       "   </g>\n",
       "   <g id=\"patch_6\">\n",
       "    <path d=\"M 55.949375 25.3575  L 390.749375 25.3575  \" style=\"fill:none;stroke:#000000;stroke-linecap:square;stroke-linejoin:miter;stroke-width:0.8;\"/>\n",
       "   </g>\n",
       "   <g id=\"text_11\">\n",
       "    <g id=\"patch_7\">\n",
       "     <path d=\"M 189.629375 58.0915  L 324.029375 58.0915  L 324.029375 36.1115  L 189.629375 36.1115  z \" style=\"fill:#ffffff;stroke:#000000;stroke-linejoin:miter;\"/>\n",
       "    </g>\n",
       "    <!-- $T_1$ = 1.45 ± inf μs -->\n",
       "    <g transform=\"translate(193.829375 50.9515)scale(0.14 -0.14)\">\n",
       "     <defs>\n",
       "      <path d=\"M 378 4666  L 4325 4666  L 4225 4134  L 2559 4134  L 1759 0  L 1125 0  L 1925 4134  L 275 4134  L 378 4666  z \" id=\"DejaVuSans-Oblique-54\" transform=\"scale(0.015625)\"/>\n",
       "      <path d=\"M 678 2906  L 4684 2906  L 4684 2381  L 678 2381  L 678 2906  z M 678 1631  L 4684 1631  L 4684 1100  L 678 1100  L 678 1631  z \" id=\"DejaVuSans-3d\" transform=\"scale(0.015625)\"/>\n",
       "      <path d=\"M 691 4666  L 3169 4666  L 3169 4134  L 1269 4134  L 1269 2991  Q 1406 3038 1543 3061  Q 1681 3084 1819 3084  Q 2600 3084 3056 2656  Q 3513 2228 3513 1497  Q 3513 744 3044 326  Q 2575 -91 1722 -91  Q 1428 -91 1123 -41  Q 819 9 494 109  L 494 744  Q 775 591 1075 516  Q 1375 441 1709 441  Q 2250 441 2565 725  Q 2881 1009 2881 1497  Q 2881 1984 2565 2268  Q 2250 2553 1709 2553  Q 1456 2553 1204 2497  Q 953 2441 691 2322  L 691 4666  z \" id=\"DejaVuSans-35\" transform=\"scale(0.015625)\"/>\n",
       "      <path d=\"M 2944 4013  L 2944 2803  L 4684 2803  L 4684 2272  L 2944 2272  L 2944 1063  L 2419 1063  L 2419 2272  L 678 2272  L 678 2803  L 2419 2803  L 2419 4013  L 2944 4013  z M 678 531  L 4684 531  L 4684 0  L 678 0  L 678 531  z \" id=\"DejaVuSans-b1\" transform=\"scale(0.015625)\"/>\n",
       "      <path d=\"M 603 3500  L 1178 3500  L 1178 0  L 603 0  L 603 3500  z M 603 4863  L 1178 4863  L 1178 4134  L 603 4134  L 603 4863  z \" id=\"DejaVuSans-69\" transform=\"scale(0.015625)\"/>\n",
       "      <path d=\"M 3513 2113  L 3513 0  L 2938 0  L 2938 2094  Q 2938 2591 2744 2837  Q 2550 3084 2163 3084  Q 1697 3084 1428 2787  Q 1159 2491 1159 1978  L 1159 0  L 581 0  L 581 3500  L 1159 3500  L 1159 2956  Q 1366 3272 1645 3428  Q 1925 3584 2291 3584  Q 2894 3584 3203 3211  Q 3513 2838 3513 2113  z \" id=\"DejaVuSans-6e\" transform=\"scale(0.015625)\"/>\n",
       "      <path d=\"M 2375 4863  L 2375 4384  L 1825 4384  Q 1516 4384 1395 4259  Q 1275 4134 1275 3809  L 1275 3500  L 2222 3500  L 2222 3053  L 1275 3053  L 1275 0  L 697 0  L 697 3053  L 147 3053  L 147 3500  L 697 3500  L 697 3744  Q 697 4328 969 4595  Q 1241 4863 1831 4863  L 2375 4863  z \" id=\"DejaVuSans-66\" transform=\"scale(0.015625)\"/>\n",
       "      <path d=\"M 544 -1331  L 544 3500  L 1119 3500  L 1119 1325  Q 1119 872 1334 640  Q 1550 409 1972 409  Q 2434 409 2667 671  Q 2900 934 2900 1459  L 2900 3500  L 3475 3500  L 3475 806  Q 3475 619 3529 530  Q 3584 441 3700 441  Q 3728 441 3778 458  Q 3828 475 3916 513  L 3916 50  Q 3788 -22 3673 -56  Q 3559 -91 3450 -91  Q 3234 -91 3106 31  Q 2978 153 2931 403  Q 2775 156 2548 32  Q 2322 -91 2016 -91  Q 1697 -91 1473 31  Q 1250 153 1119 397  L 1119 -1331  L 544 -1331  z \" id=\"DejaVuSans-3bc\" transform=\"scale(0.015625)\"/>\n",
       "     </defs>\n",
       "     <use transform=\"translate(0 0.015625)\" xlink:href=\"#DejaVuSans-Oblique-54\"/>\n",
       "     <use transform=\"translate(61.083984 -16.390625)scale(0.7)\" xlink:href=\"#DejaVuSans-31\"/>\n",
       "     <use transform=\"translate(108.354492 0.015625)\" xlink:href=\"#DejaVuSans-20\"/>\n",
       "     <use transform=\"translate(140.141602 0.015625)\" xlink:href=\"#DejaVuSans-3d\"/>\n",
       "     <use transform=\"translate(223.930664 0.015625)\" xlink:href=\"#DejaVuSans-20\"/>\n",
       "     <use transform=\"translate(255.717773 0.015625)\" xlink:href=\"#DejaVuSans-31\"/>\n",
       "     <use transform=\"translate(319.34082 0.015625)\" xlink:href=\"#DejaVuSans-2e\"/>\n",
       "     <use transform=\"translate(351.12793 0.015625)\" xlink:href=\"#DejaVuSans-34\"/>\n",
       "     <use transform=\"translate(414.750977 0.015625)\" xlink:href=\"#DejaVuSans-35\"/>\n",
       "     <use transform=\"translate(478.374023 0.015625)\" xlink:href=\"#DejaVuSans-20\"/>\n",
       "     <use transform=\"translate(510.161133 0.015625)\" xlink:href=\"#DejaVuSans-b1\"/>\n",
       "     <use transform=\"translate(593.950195 0.015625)\" xlink:href=\"#DejaVuSans-20\"/>\n",
       "     <use transform=\"translate(625.737305 0.015625)\" xlink:href=\"#DejaVuSans-69\"/>\n",
       "     <use transform=\"translate(653.520508 0.015625)\" xlink:href=\"#DejaVuSans-6e\"/>\n",
       "     <use transform=\"translate(716.899414 0.015625)\" xlink:href=\"#DejaVuSans-66\"/>\n",
       "     <use transform=\"translate(752.104492 0.015625)\" xlink:href=\"#DejaVuSans-20\"/>\n",
       "     <use transform=\"translate(783.891602 0.015625)\" xlink:href=\"#DejaVuSans-3bc\"/>\n",
       "     <use transform=\"translate(847.514648 0.015625)\" xlink:href=\"#DejaVuSans-73\"/>\n",
       "    </g>\n",
       "   </g>\n",
       "   <g id=\"text_12\">\n",
       "    <!-- Qubit 0 -->\n",
       "    <g transform=\"translate(193.911875 19.3575)scale(0.16 -0.16)\">\n",
       "     <defs>\n",
       "      <path d=\"M 2522 4238  Q 1834 4238 1429 3725  Q 1025 3213 1025 2328  Q 1025 1447 1429 934  Q 1834 422 2522 422  Q 3209 422 3611 934  Q 4013 1447 4013 2328  Q 4013 3213 3611 3725  Q 3209 4238 2522 4238  z M 3406 84  L 4238 -825  L 3475 -825  L 2784 -78  Q 2681 -84 2626 -87  Q 2572 -91 2522 -91  Q 1538 -91 948 567  Q 359 1225 359 2328  Q 359 3434 948 4092  Q 1538 4750 2522 4750  Q 3503 4750 4090 4092  Q 4678 3434 4678 2328  Q 4678 1516 4351 937  Q 4025 359 3406 84  z \" id=\"DejaVuSans-51\" transform=\"scale(0.015625)\"/>\n",
       "      <path d=\"M 544 1381  L 544 3500  L 1119 3500  L 1119 1403  Q 1119 906 1312 657  Q 1506 409 1894 409  Q 2359 409 2629 706  Q 2900 1003 2900 1516  L 2900 3500  L 3475 3500  L 3475 0  L 2900 0  L 2900 538  Q 2691 219 2414 64  Q 2138 -91 1772 -91  Q 1169 -91 856 284  Q 544 659 544 1381  z M 1991 3584  L 1991 3584  z \" id=\"DejaVuSans-75\" transform=\"scale(0.015625)\"/>\n",
       "      <path d=\"M 3116 1747  Q 3116 2381 2855 2742  Q 2594 3103 2138 3103  Q 1681 3103 1420 2742  Q 1159 2381 1159 1747  Q 1159 1113 1420 752  Q 1681 391 2138 391  Q 2594 391 2855 752  Q 3116 1113 3116 1747  z M 1159 2969  Q 1341 3281 1617 3432  Q 1894 3584 2278 3584  Q 2916 3584 3314 3078  Q 3713 2572 3713 1747  Q 3713 922 3314 415  Q 2916 -91 2278 -91  Q 1894 -91 1617 61  Q 1341 213 1159 525  L 1159 0  L 581 0  L 581 4863  L 1159 4863  L 1159 2969  z \" id=\"DejaVuSans-62\" transform=\"scale(0.015625)\"/>\n",
       "      <path d=\"M 1172 4494  L 1172 3500  L 2356 3500  L 2356 3053  L 1172 3053  L 1172 1153  Q 1172 725 1289 603  Q 1406 481 1766 481  L 2356 481  L 2356 0  L 1766 0  Q 1100 0 847 248  Q 594 497 594 1153  L 594 3053  L 172 3053  L 172 3500  L 594 3500  L 594 4494  L 1172 4494  z \" id=\"DejaVuSans-74\" transform=\"scale(0.015625)\"/>\n",
       "     </defs>\n",
       "     <use xlink:href=\"#DejaVuSans-51\"/>\n",
       "     <use x=\"78.710938\" xlink:href=\"#DejaVuSans-75\"/>\n",
       "     <use x=\"142.089844\" xlink:href=\"#DejaVuSans-62\"/>\n",
       "     <use x=\"205.566406\" xlink:href=\"#DejaVuSans-69\"/>\n",
       "     <use x=\"233.349609\" xlink:href=\"#DejaVuSans-74\"/>\n",
       "     <use x=\"272.558594\" xlink:href=\"#DejaVuSans-20\"/>\n",
       "     <use x=\"304.345703\" xlink:href=\"#DejaVuSans-30\"/>\n",
       "    </g>\n",
       "   </g>\n",
       "  </g>\n",
       " </g>\n",
       " <defs>\n",
       "  <clipPath id=\"p3942d0efae\">\n",
       "   <rect height=\"217.44\" width=\"334.8\" x=\"55.949375\" y=\"25.3575\"/>\n",
       "  </clipPath>\n",
       " </defs>\n",
       "</svg>"
      ],
      "text/plain": [
       "<IPython.core.display.SVG object>"
      ]
     },
     "execution_count": 12,
     "metadata": {},
     "output_type": "execute_result"
    }
   ],
   "source": [
    "from IPython.display import SVG\n",
    "SVG(load_exp.figure(0))"
   ]
  },
  {
   "cell_type": "code",
   "execution_count": 14,
   "id": "b9754808-8322-4fd9-99f1-b784987a3802",
   "metadata": {},
   "outputs": [],
   "source": [
    "for result in load_exp.analysis_results():\n",
    "    print(result)"
   ]
  },
  {
   "cell_type": "markdown",
   "id": "5a2b8c4f-c05c-4623-b07f-2e9f610bc6dc",
   "metadata": {},
   "source": [
    "# Auto save an experiment"
   ]
  },
  {
   "cell_type": "code",
   "execution_count": 15,
   "id": "8293c195-ac07-4678-8174-11d42692c80b",
   "metadata": {},
   "outputs": [
    {
     "name": "stderr",
     "output_type": "stream",
     "text": [
      "Not all post-processing has finished. Consider calling save() again after all post-processing is done to save any newly generated data.\n"
     ]
    },
    {
     "data": {
      "text/plain": [
       "ExperimentData(T1, 8e36608d-c596-4e8f-9f7c-85ac6788ecfe, backend=ibmq_armonk, job_ids=['614c566d3fca3244dd96e6ee'])"
      ]
     },
     "execution_count": 15,
     "metadata": {},
     "output_type": "execute_result"
    }
   ],
   "source": [
    "exp = T1(qubit=0, delays=t1_delays, unit=\"us\")\n",
    "\n",
    "t1_expdata = exp.run(backend=backend, shots=1000)\n",
    "t1_expdata.auto_save = True\n",
    "t1_expdata.block_for_results()"
   ]
  },
  {
   "cell_type": "markdown",
   "id": "e957582f-6228-4e70-b837-03bce1817e9c",
   "metadata": {},
   "source": [
    "# Delete an experiment"
   ]
  },
  {
   "cell_type": "code",
   "execution_count": 16,
   "id": "3d05639c-46f7-454c-a0cb-bf5e295e867e",
   "metadata": {},
   "outputs": [
    {
     "name": "stdin",
     "output_type": "stream",
     "text": [
      "\n",
      "Are you sure you want to delete the experiment plot? [y/N]:  y\n",
      "\n",
      "Are you sure you want to delete the analysis result? [y/N]:  y\n"
     ]
    },
    {
     "data": {
      "text/plain": [
       "'749c47c8-14bd-4be7-8c1c-f2fcd19a4325'"
      ]
     },
     "execution_count": 16,
     "metadata": {},
     "output_type": "execute_result"
    }
   ],
   "source": [
    "t1_expdata.delete_figure(0)\n",
    "t1_expdata.delete_analysis_result(0)"
   ]
  },
  {
   "cell_type": "markdown",
   "id": "c3c30a52-0358-4248-ae4b-1ca7f8260f11",
   "metadata": {},
   "source": [
    "# State Tomography Experiment"
   ]
  },
  {
   "cell_type": "code",
   "execution_count": 18,
   "id": "ac33f1a4-3653-41ce-ab47-c6757d9b10f7",
   "metadata": {},
   "outputs": [
    {
     "name": "stdout",
     "output_type": "stream",
     "text": [
      "DbAnalysisResultV1\n",
      "- name: state\n",
      "- value: DensityMatrix([[0.55371094+0.j        , 0.4140625 -0.01464844j],\n",
      "               [0.4140625 +0.01464844j, 0.44628906+0.j        ]],\n",
      "              dims=(2,))\n",
      "- extra: <4 items>\n",
      "- device_components: ['Q0']\n",
      "- verified: False\n",
      "DbAnalysisResultV1\n",
      "- name: state_fidelity\n",
      "- value: 0.9140625\n",
      "- device_components: ['Q0']\n",
      "- verified: False\n",
      "DbAnalysisResultV1\n",
      "- name: positive\n",
      "- value: True\n",
      "- device_components: ['Q0']\n",
      "- verified: False\n"
     ]
    }
   ],
   "source": [
    "from qiskit_experiments.library import StateTomography\n",
    "import qiskit\n",
    "\n",
    "# Construct state by applying H gate\n",
    "qc_h = qiskit.QuantumCircuit(1)\n",
    "qc_h.h(0)\n",
    "\n",
    "qstexp = StateTomography(qc_h)\n",
    "qst_expdata = qstexp.run(backend).block_for_results()\n",
    "qst_expdata.save()\n",
    "\n",
    "for result in qst_expdata.analysis_results():\n",
    "    print(result)"
   ]
  },
  {
   "cell_type": "markdown",
   "id": "babf90fe-e02d-492c-adb7-06fbf3a78481",
   "metadata": {},
   "source": [
    "# RB Experiment"
   ]
  },
  {
   "cell_type": "code",
   "execution_count": 20,
   "id": "93aacf71-6cb4-4132-a3ee-3f0a20cda47d",
   "metadata": {},
   "outputs": [],
   "source": [
    "from qiskit_experiments.library import randomized_benchmarking as rb\n",
    "\n",
    "lengths = list(range(1, 1000, 200))\n",
    "num_samples = 10\n",
    "seed = 1010\n",
    "\n",
    "rb_exp = rb.StandardRB([0], lengths, num_samples=num_samples, seed=seed)\n",
    "rb_expdata = rb_exp.run(backend).block_for_results()\n",
    "rb_expdata.save()"
   ]
  },
  {
   "cell_type": "code",
   "execution_count": 21,
   "id": "a5f7a0df-b730-4dcf-81c0-c129a2609f82",
   "metadata": {},
   "outputs": [
    {
     "data": {
      "image/png": "[encoded data removed]",
      "text/plain": [
       "<Figure size 576x360 with 1 Axes>"
      ]
     },
     "metadata": {},
     "output_type": "display_data"
    },
    {
     "name": "stdout",
     "output_type": "stream",
     "text": [
      "DbAnalysisResultV1\n",
      "- name: @Parameters_RBAnalysis\n",
      "- value: [0.49395446 0.99910949 0.426862  ] ± [0.35186746 0.00086246 0.35694964]\n",
      "- χ²: 0.02944362115518095\n",
      "- extra: <3 items>\n",
      "- device_components: ['Q0']\n",
      "- verified: False\n",
      "DbAnalysisResultV1\n",
      "- name: alpha\n",
      "- value: 0.9991094890449048 ± 0.0008624563602223433\n",
      "- χ²: 0.02944362115518095\n",
      "- device_components: ['Q0']\n",
      "- verified: False\n",
      "DbAnalysisResultV1\n",
      "- name: EPC\n",
      "- value: 0.0004452554775475903 ± 0.00043122818011117166\n",
      "- χ²: 0.02944362115518095\n",
      "- device_components: ['Q0']\n",
      "- verified: False\n",
      "DbAnalysisResultV1\n",
      "- name: EPG_rz\n",
      "- value: 0.0\n",
      "- χ²: 0.02944362115518095\n",
      "- device_components: ['Q0']\n",
      "- verified: False\n",
      "DbAnalysisResultV1\n",
      "- name: EPG_sx\n",
      "- value: 0.00014962200850439158\n",
      "- χ²: 0.02944362115518095\n",
      "- device_components: ['Q0']\n",
      "- verified: False\n",
      "DbAnalysisResultV1\n",
      "- name: EPG_x\n",
      "- value: 0.00014962200850439158\n",
      "- χ²: 0.02944362115518095\n",
      "- device_components: ['Q0']\n",
      "- verified: False\n"
     ]
    }
   ],
   "source": [
    "display(rb_expdata.figure(0))\n",
    "for result in rb_expdata.analysis_results():\n",
    "    print(result)"
   ]
  },
  {
   "cell_type": "code",
   "execution_count": null,
   "id": "6eb627d2-047c-46ef-b27a-bc2c7dd0e96d",
   "metadata": {},
   "outputs": [],
   "source": []
  }
 ],
 "metadata": {
  "kernelspec": {
   "display_name": "Qiskit v0.30.0 (ipykernel)",
   "language": "python",
   "name": "python3"
  },
  "language_info": {
   "codemirror_mode": {
    "name": "ipython",
    "version": 3
   },
   "file_extension": ".py",
   "mimetype": "text/x-python",
   "name": "python",
   "nbconvert_exporter": "python",
   "pygments_lexer": "ipython3",
   "version": "3.8.10"
  },
  "widgets": {
   "application/vnd.jupyter.widget-state+json": {
    "state": {
     "02892a7a0a844117b80b9035811861cc": {
      "model_module": "@jupyter-widgets/controls",
      "model_module_version": "1.5.0",
      "model_name": "HTMLModel",
      "state": {
       "layout": "IPY_MODEL_6e10008139ae40adb2c2d7721451113f",
       "style": "IPY_MODEL_af9d3122487442618257e3451f186752",
       "value": "-"
      }
     },
     "03cc45fc1259482bb81e865abff0cbde": {
      "model_module": "@jupyter-widgets/controls",
      "model_module_version": "1.5.0",
      "model_name": "DescriptionStyleModel",
      "state": {
       "description_width": ""
      }
     },
     "07204683f8174d87b033a66f83b388f9": {
      "model_module": "@jupyter-widgets/controls",
      "model_module_version": "1.5.0",
      "model_name": "HTMLModel",
      "state": {
       "layout": "IPY_MODEL_a68aa0225fe54dafa3ecfe9b1f17ede0",
       "style": "IPY_MODEL_fc20281ad0864428a451240075df95a1",
       "value": "<h5>Backend</h5>"
      }
     },
     "0782859a0a354629b2502ec53412c01e": {
      "model_module": "@jupyter-widgets/controls",
      "model_module_version": "1.5.0",
      "model_name": "HTMLModel",
      "state": {
       "layout": "IPY_MODEL_ecd6ce6c604c4e779020bc5e41696b04",
       "style": "IPY_MODEL_b9ec90cff2b24eeca9d386accb020d74",
       "value": "job has successfully run"
      }
     },
     "0922ff1373a84d22ad228ad3b066a425": {
      "model_module": "@jupyter-widgets/controls",
      "model_module_version": "1.5.0",
      "model_name": "HTMLModel",
      "state": {
       "layout": "IPY_MODEL_4f32ac27388543b3bd8a2c0ff74889ca",
       "style": "IPY_MODEL_73b2558f66b64c26abdcd8b74db6cb45",
       "value": "<h5>Job ID</h5>"
      }
     },
     "0b7b485420914748a69248a69c16a1a6": {
      "model_module": "@jupyter-widgets/controls",
      "model_module_version": "1.5.0",
      "model_name": "ButtonModel",
      "state": {
       "button_style": "primary",
       "description": "Clear",
       "layout": "IPY_MODEL_46528eebe17548fc99ec6edaed016929",
       "style": "IPY_MODEL_5d60483bc7a24aefa0d64f806a0b56f5"
      }
     },
     "0c3bcf32da31497c85a383d73c75ea01": {
      "model_module": "@jupyter-widgets/controls",
      "model_module_version": "1.5.0",
      "model_name": "GridBoxModel",
      "state": {
       "children": [
        "IPY_MODEL_0b7b485420914748a69248a69c16a1a6"
       ],
       "layout": "IPY_MODEL_19e51df587194490bf22a759de71c58b"
      }
     },
     "0efe972751334949902eef77a4933de5": {
      "model_module": "@jupyter-widgets/controls",
      "model_module_version": "1.5.0",
      "model_name": "DescriptionStyleModel",
      "state": {
       "description_width": ""
      }
     },
     "122342e3cdc748bc86523fc1f593ddd2": {
      "model_module": "@jupyter-widgets/controls",
      "model_module_version": "1.5.0",
      "model_name": "ButtonStyleModel",
      "state": {
       "button_color": "white"
      }
     },
     "144341f517bf434d9f1e76dea3befea4": {
      "model_module": "@jupyter-widgets/base",
      "model_module_version": "1.2.0",
      "model_name": "LayoutModel",
      "state": {
       "overflow_x": "scroll"
      }
     },
     "15cc0a17e7fa47d7815ed7796d1e4263": {
      "model_module": "@jupyter-widgets/controls",
      "model_module_version": "1.5.0",
      "model_name": "HTMLModel",
      "state": {
       "layout": "IPY_MODEL_9709e0c50f194a169c68d9c93fe03ac7",
       "style": "IPY_MODEL_c95695d42d504809a9829b3d9ef3a704",
       "value": "<font style='color:#34BC6E'>DONE</font>"
      }
     },
     "1850055646c64bc78d199320d4913887": {
      "model_module": "@jupyter-widgets/controls",
      "model_module_version": "1.5.0",
      "model_name": "DescriptionStyleModel",
      "state": {
       "description_width": ""
      }
     },
     "18717499297f44dc8d3e4064b6095b53": {
      "model_module": "@jupyter-widgets/base",
      "model_module_version": "1.2.0",
      "model_name": "LayoutModel",
      "state": {
       "margin": "0px 0px 10px 0px"
      }
     },
     "19e51df587194490bf22a759de71c58b": {
      "model_module": "@jupyter-widgets/base",
      "model_module_version": "1.2.0",
      "model_name": "LayoutModel",
      "state": {
       "grid_template_areas": "\n                                       \". . . . right \"\n                                        ",
       "grid_template_columns": "20% 20% 20% 20% 20%",
       "width": "100%"
      }
     },
     "1a7a702b20494898992298b5c9b16d97": {
      "model_module": "@jupyter-widgets/controls",
      "model_module_version": "1.5.0",
      "model_name": "DescriptionStyleModel",
      "state": {
       "description_width": ""
      }
     },
     "1d03679c07c0430886f5cb6245f877a2": {
      "model_module": "@jupyter-widgets/controls",
      "model_module_version": "1.5.0",
      "model_name": "HTMLModel",
      "state": {
       "layout": "IPY_MODEL_aa1d1788d02e4114b59c85da67d3d845",
       "style": "IPY_MODEL_7f8ca2512597499bbf4ff57d03009cf6",
       "value": "<font style='color:#34BC6E'>DONE</font>"
      }
     },
     "1ef00a6b733942acb57e7bb34af153e6": {
      "model_module": "@jupyter-widgets/base",
      "model_module_version": "1.2.0",
      "model_name": "LayoutModel",
      "state": {
       "width": "70px"
      }
     },
     "21ccf8e6ea0c4fc5ae3747f98e2c3acf": {
      "model_module": "@jupyter-widgets/controls",
      "model_module_version": "1.5.0",
      "model_name": "DescriptionStyleModel",
      "state": {
       "description_width": ""
      }
     },
     "22fd45c3ca3c4028b38e47da83671317": {
      "model_module": "@jupyter-widgets/base",
      "model_module_version": "1.2.0",
      "model_name": "LayoutModel",
      "state": {
       "width": "190px"
      }
     },
     "2d41ef306bd24bc3a04c24218f25cac2": {
      "model_module": "@jupyter-widgets/controls",
      "model_module_version": "1.5.0",
      "model_name": "HTMLModel",
      "state": {
       "layout": "IPY_MODEL_6c0f2ba6b87947b29e66de14e48a579f",
       "style": "IPY_MODEL_eded5ec8f28145cd8e9d1e66f15095af",
       "value": "614c58469ccc4366ef69eb3a"
      }
     },
     "2e2aecb297754ff280a09d40ed05c5d0": {
      "model_module": "@jupyter-widgets/controls",
      "model_module_version": "1.5.0",
      "model_name": "ButtonStyleModel",
      "state": {
       "button_color": "white"
      }
     },
     "2f965e6c72ad49ec9fbafd4a1b4ac6ca": {
      "model_module": "@jupyter-widgets/controls",
      "model_module_version": "1.5.0",
      "model_name": "HTMLModel",
      "state": {
       "layout": "IPY_MODEL_602c80b485174528ad8b1abed461e823",
       "style": "IPY_MODEL_ec5af11ed355404db9242a3054174840",
       "value": "614c44301cc118f4f127a8fa"
      }
     },
     "2fa23e9744d2450a92c9b03815c8a6f0": {
      "model_module": "@jupyter-widgets/controls",
      "model_module_version": "1.5.0",
      "model_name": "HBoxModel",
      "state": {
       "children": [
        "IPY_MODEL_df0763bd775442f0be7c077a1022397a",
        "IPY_MODEL_2f965e6c72ad49ec9fbafd4a1b4ac6ca",
        "IPY_MODEL_76cd820c3990428cad40797c7136defa",
        "IPY_MODEL_662e35b40ac540c59a50dab29260f214",
        "IPY_MODEL_02892a7a0a844117b80b9035811861cc",
        "IPY_MODEL_f553d85b272149e7999fe4f1c67948b5"
       ],
       "layout": "IPY_MODEL_b58484c825134d16b6630438fac17533"
      }
     },
     "316eb878e0564a89b812dfd8643e7dfc": {
      "model_module": "@jupyter-widgets/controls",
      "model_module_version": "1.5.0",
      "model_name": "DescriptionStyleModel",
      "state": {
       "description_width": ""
      }
     },
     "35fd693222684be6ae83f7ea37fb6208": {
      "model_module": "@jupyter-widgets/controls",
      "model_module_version": "1.5.0",
      "model_name": "DescriptionStyleModel",
      "state": {
       "description_width": ""
      }
     },
     "3641decfbb3e4e309cff4fb398a92815": {
      "model_module": "@jupyter-widgets/controls",
      "model_module_version": "1.5.0",
      "model_name": "HTMLModel",
      "state": {
       "layout": "IPY_MODEL_d8c8a6a2beda4442a426ac0c6d3c25a3",
       "style": "IPY_MODEL_0efe972751334949902eef77a4933de5",
       "value": "614c5a26c4bfdb64d5d78ab6"
      }
     },
     "3cdfcd6c3aca4c79ae04968738d2a961": {
      "model_module": "@jupyter-widgets/controls",
      "model_module_version": "1.5.0",
      "model_name": "ButtonStyleModel",
      "state": {
       "button_color": "white"
      }
     },
     "3d9f5677b4ae4178ac98ad1f8c11c6a6": {
      "model_module": "@jupyter-widgets/controls",
      "model_module_version": "1.5.0",
      "model_name": "HTMLModel",
      "state": {
       "layout": "IPY_MODEL_4ee44cc4d81e4e8f93fd31ba4619f6d4",
       "style": "IPY_MODEL_5ecae19a1b954c96ba7b9ed23c5254cc",
       "value": "-"
      }
     },
     "423a0f3b5b7e42a582fad5aeb498a195": {
      "model_module": "@jupyter-widgets/controls",
      "model_module_version": "1.5.0",
      "model_name": "HTMLModel",
      "state": {
       "layout": "IPY_MODEL_84860c91df714e0fbc62ea5384d2c532",
       "style": "IPY_MODEL_03cc45fc1259482bb81e865abff0cbde",
       "value": "job has successfully run"
      }
     },
     "425bfd59b7894335988043d9c74b67b3": {
      "model_module": "@jupyter-widgets/base",
      "model_module_version": "1.2.0",
      "model_name": "LayoutModel",
      "state": {
       "width": "70px"
      }
     },
     "46528eebe17548fc99ec6edaed016929": {
      "model_module": "@jupyter-widgets/base",
      "model_module_version": "1.2.0",
      "model_name": "LayoutModel",
      "state": {
       "grid_area": "right",
       "padding": "0px 0px 0px 0px",
       "width": "70px"
      }
     },
     "46cf8c69c97b48cdbf642d241abfa487": {
      "model_module": "@jupyter-widgets/controls",
      "model_module_version": "1.5.0",
      "model_name": "DescriptionStyleModel",
      "state": {
       "description_width": ""
      }
     },
     "47f2920cea0b4d46befcc8c4af90e125": {
      "model_module": "@jupyter-widgets/controls",
      "model_module_version": "1.5.0",
      "model_name": "ButtonModel",
      "state": {
       "icon": "close",
       "layout": "IPY_MODEL_e0bdda2c6ad34257a2425a844ae68be4",
       "style": "IPY_MODEL_ec0132604ed748099b6bfe1f0968f57a"
      }
     },
     "4db9c16b5cf74720a4991f2ec64c00da": {
      "model_module": "@jupyter-widgets/controls",
      "model_module_version": "1.5.0",
      "model_name": "HBoxModel",
      "state": {
       "children": [
        "IPY_MODEL_0922ff1373a84d22ad228ad3b066a425",
        "IPY_MODEL_07204683f8174d87b033a66f83b388f9",
        "IPY_MODEL_9a764be9cad34d1bb7428254388e78e9",
        "IPY_MODEL_a7858fcd634448c6820391d0b5f61b14",
        "IPY_MODEL_7cc5c017cc6e48f08a9a922de812b742"
       ],
       "layout": "IPY_MODEL_9532eb82e8974c9e9ecb533e350b2465"
      }
     },
     "4ee44cc4d81e4e8f93fd31ba4619f6d4": {
      "model_module": "@jupyter-widgets/base",
      "model_module_version": "1.2.0",
      "model_name": "LayoutModel",
      "state": {
       "width": "70px"
      }
     },
     "4f32ac27388543b3bd8a2c0ff74889ca": {
      "model_module": "@jupyter-widgets/base",
      "model_module_version": "1.2.0",
      "model_name": "LayoutModel",
      "state": {
       "width": "190px"
      }
     },
     "4ffef172c2a84ed18862638baed46ef4": {
      "model_module": "@jupyter-widgets/controls",
      "model_module_version": "1.5.0",
      "model_name": "DescriptionStyleModel",
      "state": {
       "description_width": ""
      }
     },
     "552eb5948aee4577b33f25a7d754df60": {
      "model_module": "@jupyter-widgets/controls",
      "model_module_version": "1.5.0",
      "model_name": "DescriptionStyleModel",
      "state": {
       "description_width": ""
      }
     },
     "56433e160f304ab5b8cdbd41b43f1cdb": {
      "model_module": "@jupyter-widgets/controls",
      "model_module_version": "1.5.0",
      "model_name": "HTMLModel",
      "state": {
       "layout": "IPY_MODEL_88b25822b2ef448681a8201d7b0b7aa9",
       "style": "IPY_MODEL_dc993d50636b4d3e89b243f649217ad1",
       "value": "ibmq_armonk"
      }
     },
     "5965405a3d80483fabcb8ea84e000e86": {
      "model_module": "@jupyter-widgets/controls",
      "model_module_version": "1.5.0",
      "model_name": "HTMLModel",
      "state": {
       "layout": "IPY_MODEL_bf8ac1083f5f427ab0706331c3c63da0",
       "style": "IPY_MODEL_4ffef172c2a84ed18862638baed46ef4",
       "value": "job has successfully run"
      }
     },
     "5d60483bc7a24aefa0d64f806a0b56f5": {
      "model_module": "@jupyter-widgets/controls",
      "model_module_version": "1.5.0",
      "model_name": "ButtonStyleModel",
      "state": {}
     },
     "5ecae19a1b954c96ba7b9ed23c5254cc": {
      "model_module": "@jupyter-widgets/controls",
      "model_module_version": "1.5.0",
      "model_name": "DescriptionStyleModel",
      "state": {
       "description_width": ""
      }
     },
     "602c80b485174528ad8b1abed461e823": {
      "model_module": "@jupyter-widgets/base",
      "model_module_version": "1.2.0",
      "model_name": "LayoutModel",
      "state": {
       "width": "190px"
      }
     },
     "62a1b58f66d740d981c6d42d0267eaed": {
      "model_module": "@jupyter-widgets/controls",
      "model_module_version": "1.5.0",
      "model_name": "HBoxModel",
      "state": {
       "children": [
        "IPY_MODEL_47f2920cea0b4d46befcc8c4af90e125",
        "IPY_MODEL_3641decfbb3e4e309cff4fb398a92815",
        "IPY_MODEL_56433e160f304ab5b8cdbd41b43f1cdb",
        "IPY_MODEL_1d03679c07c0430886f5cb6245f877a2",
        "IPY_MODEL_3d9f5677b4ae4178ac98ad1f8c11c6a6",
        "IPY_MODEL_0782859a0a354629b2502ec53412c01e"
       ],
       "layout": "IPY_MODEL_d015ea62093c4bd1a7d005b5dd1c76bc"
      }
     },
     "640e3285d39c47f29ab40e9258dc3371": {
      "model_module": "@jupyter-widgets/base",
      "model_module_version": "1.2.0",
      "model_name": "LayoutModel",
      "state": {
       "width": "95px"
      }
     },
     "65d87f02ffea4d0db9de84a84820cf64": {
      "model_module": "@jupyter-widgets/controls",
      "model_module_version": "1.5.0",
      "model_name": "HBoxModel",
      "state": {
       "children": [
        "IPY_MODEL_cb7801061e0c452bad4888b77d112985",
        "IPY_MODEL_2d41ef306bd24bc3a04c24218f25cac2",
        "IPY_MODEL_aa3c862234dc467083ef41c2e16e78f2",
        "IPY_MODEL_15cc0a17e7fa47d7815ed7796d1e4263",
        "IPY_MODEL_fb8082c3d8194738bc1a62f888c478df",
        "IPY_MODEL_423a0f3b5b7e42a582fad5aeb498a195"
       ],
       "layout": "IPY_MODEL_c5d3379a2b29461ea8b31b1f493518e4"
      }
     },
     "662e35b40ac540c59a50dab29260f214": {
      "model_module": "@jupyter-widgets/controls",
      "model_module_version": "1.5.0",
      "model_name": "HTMLModel",
      "state": {
       "layout": "IPY_MODEL_640e3285d39c47f29ab40e9258dc3371",
       "style": "IPY_MODEL_35fd693222684be6ae83f7ea37fb6208",
       "value": "<font style='color:#34BC6E'>DONE</font>"
      }
     },
     "6c0f2ba6b87947b29e66de14e48a579f": {
      "model_module": "@jupyter-widgets/base",
      "model_module_version": "1.2.0",
      "model_name": "LayoutModel",
      "state": {
       "width": "190px"
      }
     },
     "6d6bbdf0e6ad4ba29738491d4b0352fb": {
      "model_module": "@jupyter-widgets/base",
      "model_module_version": "1.2.0",
      "model_name": "LayoutModel",
      "state": {
       "width": "145px"
      }
     },
     "6d72cf44e7e54f278bb82a93ca327ebb": {
      "model_module": "@jupyter-widgets/controls",
      "model_module_version": "1.5.0",
      "model_name": "DescriptionStyleModel",
      "state": {
       "description_width": ""
      }
     },
     "6e10008139ae40adb2c2d7721451113f": {
      "model_module": "@jupyter-widgets/base",
      "model_module_version": "1.2.0",
      "model_name": "LayoutModel",
      "state": {
       "width": "70px"
      }
     },
     "73b2558f66b64c26abdcd8b74db6cb45": {
      "model_module": "@jupyter-widgets/controls",
      "model_module_version": "1.5.0",
      "model_name": "DescriptionStyleModel",
      "state": {
       "description_width": ""
      }
     },
     "76cd820c3990428cad40797c7136defa": {
      "model_module": "@jupyter-widgets/controls",
      "model_module_version": "1.5.0",
      "model_name": "HTMLModel",
      "state": {
       "layout": "IPY_MODEL_8d7911ee33f142c79599b1ba99d5672a",
       "style": "IPY_MODEL_f42723dc986a43acb61734a97466ef54",
       "value": "ibmq_armonk"
      }
     },
     "7cc5c017cc6e48f08a9a922de812b742": {
      "model_module": "@jupyter-widgets/controls",
      "model_module_version": "1.5.0",
      "model_name": "HTMLModel",
      "state": {
       "layout": "IPY_MODEL_e84e03d22f844c3e8fac56cdf67be77d",
       "style": "IPY_MODEL_46cf8c69c97b48cdbf642d241abfa487",
       "value": "<h5>Message</h5>"
      }
     },
     "7f8ca2512597499bbf4ff57d03009cf6": {
      "model_module": "@jupyter-widgets/controls",
      "model_module_version": "1.5.0",
      "model_name": "DescriptionStyleModel",
      "state": {
       "description_width": ""
      }
     },
     "84860c91df714e0fbc62ea5384d2c532": {
      "model_module": "@jupyter-widgets/base",
      "model_module_version": "1.2.0",
      "model_name": "LayoutModel",
      "state": {
       "overflow_x": "scroll"
      }
     },
     "88b25822b2ef448681a8201d7b0b7aa9": {
      "model_module": "@jupyter-widgets/base",
      "model_module_version": "1.2.0",
      "model_name": "LayoutModel",
      "state": {
       "width": "145px"
      }
     },
     "8d7911ee33f142c79599b1ba99d5672a": {
      "model_module": "@jupyter-widgets/base",
      "model_module_version": "1.2.0",
      "model_name": "LayoutModel",
      "state": {
       "width": "145px"
      }
     },
     "9532eb82e8974c9e9ecb533e350b2465": {
      "model_module": "@jupyter-widgets/base",
      "model_module_version": "1.2.0",
      "model_name": "LayoutModel",
      "state": {
       "margin": "0px 0px 0px 37px",
       "width": "600px"
      }
     },
     "966df980016841c98da9cd1e748ef52e": {
      "model_module": "@jupyter-widgets/controls",
      "model_module_version": "1.5.0",
      "model_name": "HTMLModel",
      "state": {
       "layout": "IPY_MODEL_18717499297f44dc8d3e4064b6095b53",
       "style": "IPY_MODEL_eadedb35c6424306a86579016aae7945",
       "value": "<p style='font-family: IBM Plex Sans, Arial, Helvetica, sans-serif; font-size: 20px; font-weight: medium;'>Circuit Properties</p>"
      }
     },
     "9709e0c50f194a169c68d9c93fe03ac7": {
      "model_module": "@jupyter-widgets/base",
      "model_module_version": "1.2.0",
      "model_name": "LayoutModel",
      "state": {
       "width": "95px"
      }
     },
     "9a764be9cad34d1bb7428254388e78e9": {
      "model_module": "@jupyter-widgets/controls",
      "model_module_version": "1.5.0",
      "model_name": "HTMLModel",
      "state": {
       "layout": "IPY_MODEL_f93a0cd95ec14d90b8d21e57c47820cc",
       "style": "IPY_MODEL_e02d5ab056af4465af8a96970a39514b",
       "value": "<h5>Status</h5>"
      }
     },
     "9bd4c7d1abc64595aa94ff927f7200d4": {
      "model_module": "@jupyter-widgets/controls",
      "model_module_version": "1.5.0",
      "model_name": "HTMLModel",
      "state": {
       "layout": "IPY_MODEL_fbc051a12d494afc89879b0f36e620b9",
       "style": "IPY_MODEL_552eb5948aee4577b33f25a7d754df60",
       "value": "ibmq_armonk"
      }
     },
     "a0a34b76c3e543f4aa376336030be82f": {
      "model_module": "@jupyter-widgets/controls",
      "model_module_version": "1.5.0",
      "model_name": "HTMLModel",
      "state": {
       "layout": "IPY_MODEL_22fd45c3ca3c4028b38e47da83671317",
       "style": "IPY_MODEL_316eb878e0564a89b812dfd8643e7dfc",
       "value": "614c566d3fca3244dd96e6ee"
      }
     },
     "a68aa0225fe54dafa3ecfe9b1f17ede0": {
      "model_module": "@jupyter-widgets/base",
      "model_module_version": "1.2.0",
      "model_name": "LayoutModel",
      "state": {
       "width": "145px"
      }
     },
     "a7858fcd634448c6820391d0b5f61b14": {
      "model_module": "@jupyter-widgets/controls",
      "model_module_version": "1.5.0",
      "model_name": "HTMLModel",
      "state": {
       "layout": "IPY_MODEL_425bfd59b7894335988043d9c74b67b3",
       "style": "IPY_MODEL_21ccf8e6ea0c4fc5ae3747f98e2c3acf",
       "value": "<h5>Queue</h5>"
      }
     },
     "a98e3a0f2ce74d5fb6a94590d7b0856c": {
      "model_module": "@jupyter-widgets/controls",
      "model_module_version": "1.5.0",
      "model_name": "DescriptionStyleModel",
      "state": {
       "description_width": ""
      }
     },
     "aa1d1788d02e4114b59c85da67d3d845": {
      "model_module": "@jupyter-widgets/base",
      "model_module_version": "1.2.0",
      "model_name": "LayoutModel",
      "state": {
       "width": "95px"
      }
     },
     "aa3c862234dc467083ef41c2e16e78f2": {
      "model_module": "@jupyter-widgets/controls",
      "model_module_version": "1.5.0",
      "model_name": "HTMLModel",
      "state": {
       "layout": "IPY_MODEL_6d6bbdf0e6ad4ba29738491d4b0352fb",
       "style": "IPY_MODEL_a98e3a0f2ce74d5fb6a94590d7b0856c",
       "value": "ibmq_armonk"
      }
     },
     "ad2b797c77a549128b722679b80665be": {
      "model_module": "@jupyter-widgets/base",
      "model_module_version": "1.2.0",
      "model_name": "LayoutModel",
      "state": {
       "max_width": "700px",
       "min_width": "700px"
      }
     },
     "af9d3122487442618257e3451f186752": {
      "model_module": "@jupyter-widgets/controls",
      "model_module_version": "1.5.0",
      "model_name": "DescriptionStyleModel",
      "state": {
       "description_width": ""
      }
     },
     "b58484c825134d16b6630438fac17533": {
      "model_module": "@jupyter-widgets/base",
      "model_module_version": "1.2.0",
      "model_name": "LayoutModel",
      "state": {
       "max_width": "700px",
       "min_width": "700px"
      }
     },
     "b70db4fd3a1c4de0acd28c35e4819447": {
      "model_module": "@jupyter-widgets/controls",
      "model_module_version": "1.5.0",
      "model_name": "HTMLModel",
      "state": {
       "layout": "IPY_MODEL_1ef00a6b733942acb57e7bb34af153e6",
       "style": "IPY_MODEL_6d72cf44e7e54f278bb82a93ca327ebb",
       "value": "-"
      }
     },
     "b9ec90cff2b24eeca9d386accb020d74": {
      "model_module": "@jupyter-widgets/controls",
      "model_module_version": "1.5.0",
      "model_name": "DescriptionStyleModel",
      "state": {
       "description_width": ""
      }
     },
     "bf8ac1083f5f427ab0706331c3c63da0": {
      "model_module": "@jupyter-widgets/base",
      "model_module_version": "1.2.0",
      "model_name": "LayoutModel",
      "state": {
       "overflow_x": "scroll"
      }
     },
     "c40279eb5108410d85f3656255b644b9": {
      "model_module": "@jupyter-widgets/base",
      "model_module_version": "1.2.0",
      "model_name": "LayoutModel",
      "state": {
       "width": "70px"
      }
     },
     "c4054e9397ee4f82b2f8e2f39e8a3cca": {
      "model_module": "@jupyter-widgets/base",
      "model_module_version": "1.2.0",
      "model_name": "LayoutModel",
      "state": {
       "width": "95px"
      }
     },
     "c5d3379a2b29461ea8b31b1f493518e4": {
      "model_module": "@jupyter-widgets/base",
      "model_module_version": "1.2.0",
      "model_name": "LayoutModel",
      "state": {
       "max_width": "700px",
       "min_width": "700px"
      }
     },
     "c93549963ea34e7bbf2a12266b95b5f1": {
      "model_module": "@jupyter-widgets/controls",
      "model_module_version": "1.5.0",
      "model_name": "DescriptionStyleModel",
      "state": {
       "description_width": ""
      }
     },
     "c95695d42d504809a9829b3d9ef3a704": {
      "model_module": "@jupyter-widgets/controls",
      "model_module_version": "1.5.0",
      "model_name": "DescriptionStyleModel",
      "state": {
       "description_width": ""
      }
     },
     "cb7801061e0c452bad4888b77d112985": {
      "model_module": "@jupyter-widgets/controls",
      "model_module_version": "1.5.0",
      "model_name": "ButtonModel",
      "state": {
       "icon": "close",
       "layout": "IPY_MODEL_ce102c166a70409ebec07a1d38f454f1",
       "style": "IPY_MODEL_2e2aecb297754ff280a09d40ed05c5d0"
      }
     },
     "ce102c166a70409ebec07a1d38f454f1": {
      "model_module": "@jupyter-widgets/base",
      "model_module_version": "1.2.0",
      "model_name": "LayoutModel",
      "state": {
       "margin": "0px 5px 0px 0px",
       "width": "32px"
      }
     },
     "d015ea62093c4bd1a7d005b5dd1c76bc": {
      "model_module": "@jupyter-widgets/base",
      "model_module_version": "1.2.0",
      "model_name": "LayoutModel",
      "state": {
       "max_width": "700px",
       "min_width": "700px"
      }
     },
     "d8c8a6a2beda4442a426ac0c6d3c25a3": {
      "model_module": "@jupyter-widgets/base",
      "model_module_version": "1.2.0",
      "model_name": "LayoutModel",
      "state": {
       "width": "190px"
      }
     },
     "dbe85a6e6050480f92ec71c37a95b52a": {
      "model_module": "@jupyter-widgets/controls",
      "model_module_version": "1.5.0",
      "model_name": "HTMLModel",
      "state": {
       "layout": "IPY_MODEL_c4054e9397ee4f82b2f8e2f39e8a3cca",
       "style": "IPY_MODEL_1850055646c64bc78d199320d4913887",
       "value": "<font style='color:#34BC6E'>DONE</font>"
      }
     },
     "dc993d50636b4d3e89b243f649217ad1": {
      "model_module": "@jupyter-widgets/controls",
      "model_module_version": "1.5.0",
      "model_name": "DescriptionStyleModel",
      "state": {
       "description_width": ""
      }
     },
     "dd4bd78a18f7455fb6783232441faee1": {
      "model_module": "@jupyter-widgets/controls",
      "model_module_version": "1.5.0",
      "model_name": "HBoxModel",
      "state": {
       "children": [
        "IPY_MODEL_df7a7905f1df4ea7ad0229df2321c067",
        "IPY_MODEL_a0a34b76c3e543f4aa376336030be82f",
        "IPY_MODEL_9bd4c7d1abc64595aa94ff927f7200d4",
        "IPY_MODEL_dbe85a6e6050480f92ec71c37a95b52a",
        "IPY_MODEL_b70db4fd3a1c4de0acd28c35e4819447",
        "IPY_MODEL_5965405a3d80483fabcb8ea84e000e86"
       ],
       "layout": "IPY_MODEL_ad2b797c77a549128b722679b80665be"
      }
     },
     "df0763bd775442f0be7c077a1022397a": {
      "model_module": "@jupyter-widgets/controls",
      "model_module_version": "1.5.0",
      "model_name": "ButtonModel",
      "state": {
       "icon": "close",
       "layout": "IPY_MODEL_f1ae34a0ab824be1998469b954e656c6",
       "style": "IPY_MODEL_3cdfcd6c3aca4c79ae04968738d2a961"
      }
     },
     "df7a7905f1df4ea7ad0229df2321c067": {
      "model_module": "@jupyter-widgets/controls",
      "model_module_version": "1.5.0",
      "model_name": "ButtonModel",
      "state": {
       "icon": "close",
       "layout": "IPY_MODEL_fc8523e31a504a14af585c8a043e705f",
       "style": "IPY_MODEL_122342e3cdc748bc86523fc1f593ddd2"
      }
     },
     "e02d5ab056af4465af8a96970a39514b": {
      "model_module": "@jupyter-widgets/controls",
      "model_module_version": "1.5.0",
      "model_name": "DescriptionStyleModel",
      "state": {
       "description_width": ""
      }
     },
     "e0bdda2c6ad34257a2425a844ae68be4": {
      "model_module": "@jupyter-widgets/base",
      "model_module_version": "1.2.0",
      "model_name": "LayoutModel",
      "state": {
       "margin": "0px 5px 0px 0px",
       "width": "32px"
      }
     },
     "e84e03d22f844c3e8fac56cdf67be77d": {
      "model_module": "@jupyter-widgets/base",
      "model_module_version": "1.2.0",
      "model_name": "LayoutModel",
      "state": {}
     },
     "eadedb35c6424306a86579016aae7945": {
      "model_module": "@jupyter-widgets/controls",
      "model_module_version": "1.5.0",
      "model_name": "DescriptionStyleModel",
      "state": {
       "description_width": ""
      }
     },
     "ec0132604ed748099b6bfe1f0968f57a": {
      "model_module": "@jupyter-widgets/controls",
      "model_module_version": "1.5.0",
      "model_name": "ButtonStyleModel",
      "state": {
       "button_color": "white"
      }
     },
     "ec5af11ed355404db9242a3054174840": {
      "model_module": "@jupyter-widgets/controls",
      "model_module_version": "1.5.0",
      "model_name": "DescriptionStyleModel",
      "state": {
       "description_width": ""
      }
     },
     "ecd6ce6c604c4e779020bc5e41696b04": {
      "model_module": "@jupyter-widgets/base",
      "model_module_version": "1.2.0",
      "model_name": "LayoutModel",
      "state": {
       "overflow_x": "scroll"
      }
     },
     "eded5ec8f28145cd8e9d1e66f15095af": {
      "model_module": "@jupyter-widgets/controls",
      "model_module_version": "1.5.0",
      "model_name": "DescriptionStyleModel",
      "state": {
       "description_width": ""
      }
     },
     "f1ae34a0ab824be1998469b954e656c6": {
      "model_module": "@jupyter-widgets/base",
      "model_module_version": "1.2.0",
      "model_name": "LayoutModel",
      "state": {
       "margin": "0px 5px 0px 0px",
       "width": "32px"
      }
     },
     "f42723dc986a43acb61734a97466ef54": {
      "model_module": "@jupyter-widgets/controls",
      "model_module_version": "1.5.0",
      "model_name": "DescriptionStyleModel",
      "state": {
       "description_width": ""
      }
     },
     "f553d85b272149e7999fe4f1c67948b5": {
      "model_module": "@jupyter-widgets/controls",
      "model_module_version": "1.5.0",
      "model_name": "HTMLModel",
      "state": {
       "layout": "IPY_MODEL_144341f517bf434d9f1e76dea3befea4",
       "style": "IPY_MODEL_1a7a702b20494898992298b5c9b16d97",
       "value": "job has successfully run"
      }
     },
     "f93a0cd95ec14d90b8d21e57c47820cc": {
      "model_module": "@jupyter-widgets/base",
      "model_module_version": "1.2.0",
      "model_name": "LayoutModel",
      "state": {
       "width": "95px"
      }
     },
     "fb8082c3d8194738bc1a62f888c478df": {
      "model_module": "@jupyter-widgets/controls",
      "model_module_version": "1.5.0",
      "model_name": "HTMLModel",
      "state": {
       "layout": "IPY_MODEL_c40279eb5108410d85f3656255b644b9",
       "style": "IPY_MODEL_c93549963ea34e7bbf2a12266b95b5f1",
       "value": "-"
      }
     },
     "fbc051a12d494afc89879b0f36e620b9": {
      "model_module": "@jupyter-widgets/base",
      "model_module_version": "1.2.0",
      "model_name": "LayoutModel",
      "state": {
       "width": "145px"
      }
     },
     "fc20281ad0864428a451240075df95a1": {
      "model_module": "@jupyter-widgets/controls",
      "model_module_version": "1.5.0",
      "model_name": "DescriptionStyleModel",
      "state": {
       "description_width": ""
      }
     },
     "fc8523e31a504a14af585c8a043e705f": {
      "model_module": "@jupyter-widgets/base",
      "model_module_version": "1.2.0",
      "model_name": "LayoutModel",
      "state": {
       "margin": "0px 5px 0px 0px",
       "width": "32px"
      }
     }
    },
    "version_major": 2,
    "version_minor": 0
   }
  }
 },
 "nbformat": 4,
 "nbformat_minor": 5
}
